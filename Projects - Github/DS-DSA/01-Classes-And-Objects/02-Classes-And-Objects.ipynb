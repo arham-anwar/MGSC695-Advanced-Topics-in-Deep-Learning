{
 "cells": [
  {
   "cell_type": "markdown",
   "metadata": {},
   "source": [
    "**Defining a class**\n",
    "\n",
    "- __init__ function: Automatically called when an object (instance) of a class is created\n",
    "- __init__ function is shortcut method to create an object and then applying a non-constructor function/method on it, if we were to do it without __init__ we would have to write an extra line of code\n",
    "- public variables are defined via self.variable_name"
   ]
  },
  {
   "cell_type": "code",
   "execution_count": 6,
   "metadata": {},
   "outputs": [
    {
     "name": "stdout",
     "output_type": "stream",
     "text": [
      "init function is automatically called when an object is created.\n",
      "This is the constructor method.\n",
      "Pokemon says through constructor: wakawakaa!\n"
     ]
    }
   ],
   "source": [
    "class Pokemon(object):\n",
    "    def __init__(self):\n",
    "        print(\"init function is automatically called when an object is created.\")\n",
    "        print(\"This is the constructor method.\")\n",
    "        print(\"Pokemon says through constructor: wakawakaa!\")\n",
    "        self\n",
    "\n",
    "    def speak(self):\n",
    "        print(\"Pokemon says through method: wakawakaa!\")\n",
    "\n",
    "tim = Pokemon()\n"
   ]
  },
  {
   "cell_type": "code",
   "execution_count": 7,
   "metadata": {},
   "outputs": [
    {
     "name": "stdout",
     "output_type": "stream",
     "text": [
      "Pokemon says through method: wakawakaa!\n"
     ]
    }
   ],
   "source": [
    "tim.speak()"
   ]
  },
  {
   "cell_type": "code",
   "execution_count": 11,
   "metadata": {},
   "outputs": [
    {
     "name": "stdout",
     "output_type": "stream",
     "text": [
      "Meowth: wakawakaa! I am 2054 years old.\n"
     ]
    }
   ],
   "source": [
    "class Pokemon(object):\n",
    "\n",
    "    def __init__(self, name, age): # self will always be here in most cases\n",
    "        self.name = name # this is an instance variable\n",
    "        self.age = age # this is an instance variable\n",
    "\n",
    "\n",
    "    def speak(self):\n",
    "        print(f\"{self.name}: wakawakaa! I am {self.age} years old.\")\n",
    "\n",
    "    def attack(self):\n",
    "        print(f\"{self.name}: I am attacking!\")\n",
    "\n",
    "    def change_age(self, age):\n",
    "        self.age = age\n",
    "\n",
    "    def add_weight(self, weight): # creating an instance attribute\n",
    "        self.weight = weight\n",
    "\n",
    "tim = Pokemon('Meowth', 2054).speak()\n"
   ]
  }
 ],
 "metadata": {
  "kernelspec": {
   "display_name": "DataScience",
   "language": "python",
   "name": "python3"
  },
  "language_info": {
   "codemirror_mode": {
    "name": "ipython",
    "version": 3
   },
   "file_extension": ".py",
   "mimetype": "text/x-python",
   "name": "python",
   "nbconvert_exporter": "python",
   "pygments_lexer": "ipython3",
   "version": "3.10.13"
  }
 },
 "nbformat": 4,
 "nbformat_minor": 2
}
