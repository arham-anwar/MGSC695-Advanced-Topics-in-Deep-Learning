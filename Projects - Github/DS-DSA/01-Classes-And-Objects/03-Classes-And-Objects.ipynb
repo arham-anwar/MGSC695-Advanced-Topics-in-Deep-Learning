{
 "cells": [
  {
   "cell_type": "markdown",
   "metadata": {},
   "source": [
    "**Inheritance**\n",
    "\n"
   ]
  },
  {
   "cell_type": "markdown",
   "metadata": {},
   "source": [
    "Look below a redundant way to make a new class with same blueprint as Pokemons class\n",
    "Inheritance is a concept that allows us to copy the blueprint of \"parent\" class and use it for the new class"
   ]
  },
  {
   "cell_type": "code",
   "execution_count": 2,
   "metadata": {},
   "outputs": [],
   "source": [
    "class Pokemon(object):\n",
    "\n",
    "    def __init__(self, name, age): # self will always be here in most cases\n",
    "        self.name = name # this is an instance variable\n",
    "        self.age = age # this is an instance variable\n",
    "\n",
    "    def speak(self):\n",
    "        print(f\"{self.name}: wakawakaa! I am {self.age} years old.\")\n",
    "\n",
    "    def attack(self):\n",
    "        print(f\"{self.name}: I am attacking!\")\n",
    "\n",
    "    def change_age(self, age):\n",
    "        self.age = age\n",
    "\n",
    "    def add_weight(self, weight): # creating an instance attribute\n",
    "        self.weight = weight\n",
    "\n",
    "\n",
    "class Trainer_Without_Inheritance(object):\n",
    "\n",
    "    def __init__(self, name, age): # self will always be here in most cases\n",
    "        self.name = name # this is an instance variable\n",
    "        self.age = age # this is an instance variable\n",
    "\n",
    "    def speak(self):\n",
    "        print(f\"{self.name}: wakawakaa! I am {self.age} years old.\")\n",
    "\n",
    "    def attack(self):\n",
    "        print(f\"{self.name}: I am attacking!\")\n",
    "\n",
    "    def change_age(self, age):\n",
    "        self.age = age\n",
    "\n",
    "    def add_weight(self, weight): # creating an instance attribute\n",
    "        self.weight = weight\n"
   ]
  },
  {
   "cell_type": "markdown",
   "metadata": {},
   "source": [
    "**Simple Inheritance**"
   ]
  },
  {
   "cell_type": "code",
   "execution_count": 3,
   "metadata": {},
   "outputs": [],
   "source": [
    "class Pokemon(object):\n",
    "\n",
    "    def __init__(self, name, age): # self will always be here in most cases\n",
    "        self.name = name # this is an instance variable\n",
    "        self.age = age # this is an instance variable\n",
    "\n",
    "    def speak(self):\n",
    "        print(f\"{self.name}: wakawakaa! I am {self.age} years old.\")\n",
    "\n",
    "    def attack(self):\n",
    "        print(f\"{self.name}: I am attacking!\")\n",
    "\n",
    "    def change_age(self, age):\n",
    "        self.age = age\n",
    "\n",
    "    def add_weight(self, weight): # creating an instance attribute\n",
    "        self.weight = weight\n",
    "\n",
    "\n",
    "\n",
    "class Trainer_with_simple_inheritance(Pokemon):\n",
    "    pass\n",
    "    \n"
   ]
  },
  {
   "cell_type": "markdown",
   "metadata": {},
   "source": [
    "**Method Resolution Order**"
   ]
  },
  {
   "cell_type": "code",
   "execution_count": 4,
   "metadata": {},
   "outputs": [
    {
     "name": "stdout",
     "output_type": "stream",
     "text": [
      "Help on class Trainer_with_simple_inheritance in module __main__:\n",
      "\n",
      "class Trainer_with_simple_inheritance(Pokemon)\n",
      " |  Trainer_with_simple_inheritance(name, age)\n",
      " |  \n",
      " |  Method resolution order:\n",
      " |      Trainer_with_simple_inheritance\n",
      " |      Pokemon\n",
      " |      builtins.object\n",
      " |  \n",
      " |  Methods inherited from Pokemon:\n",
      " |  \n",
      " |  __init__(self, name, age)\n",
      " |      Initialize self.  See help(type(self)) for accurate signature.\n",
      " |  \n",
      " |  add_weight(self, weight)\n",
      " |  \n",
      " |  attack(self)\n",
      " |  \n",
      " |  change_age(self, age)\n",
      " |  \n",
      " |  speak(self)\n",
      " |  \n",
      " |  ----------------------------------------------------------------------\n",
      " |  Data descriptors inherited from Pokemon:\n",
      " |  \n",
      " |  __dict__\n",
      " |      dictionary for instance variables (if defined)\n",
      " |  \n",
      " |  __weakref__\n",
      " |      list of weak references to the object (if defined)\n",
      "\n"
     ]
    }
   ],
   "source": [
    "help(Trainer_with_simple_inheritance)"
   ]
  },
  {
   "cell_type": "markdown",
   "metadata": {},
   "source": [
    "Customized Inheritance"
   ]
  },
  {
   "cell_type": "code",
   "execution_count": null,
   "metadata": {},
   "outputs": [],
   "source": [
    "class Employee(object):\n",
    "    \n",
    "    raise_amount = 1.04\n",
    "\n",
    "    def __init__(self, first, last, pay):\n",
    "        self.first = first\n",
    "        self.last = last\n",
    "        self.pay = pay\n",
    "        self.email = first + \".\" + last + \"@company.com\"\n",
    "\n",
    "    def fullname(self):\n",
    "        return f\"{self.first} {self.last}\"\n",
    "    \n",
    "    def apply_raise(self):\n",
    "        self.pay = int(self.pay * self.raise_amount)\n",
    "\n",
    "\n",
    "        \n",
    "dev_1 = Employee(\"Corey\", \"Schafer\", 50000)\n",
    "dev_2 = Employee(\"Test\", \"Employee\", 60000)\n",
    "\n",
    "\n",
    "print(dev_1.email)\n",
    "print(dev_2.email)\n",
    "\n"
   ]
  },
  {
   "cell_type": "markdown",
   "metadata": {},
   "source": [
    "**Inheritance**"
   ]
  },
  {
   "cell_type": "code",
   "execution_count": null,
   "metadata": {},
   "outputs": [],
   "source": [
    "class Employee(object):\n",
    "    raise_amount = 1.04\n",
    "\n",
    "    def __init__(self, first, last, pay):\n",
    "        self.first = first\n",
    "        self.last = last\n",
    "        self.pay = pay\n",
    "        self.email = first + \".\" + last + \"@company.com\"\n",
    "\n",
    "    def fullname(self):\n",
    "        return f\"{self.first} {self.last}\"\n",
    "    \n",
    "    def apply_raise(self):\n",
    "        self.pay = int(self.pay * self.raise_amount)\n",
    "\n",
    "\n",
    "class Developer(Employee):\n",
    "    pass\n",
    "        \n",
    "dev_1 = Developer(\"Corey\", \"Schafer\", 50000)\n",
    "dev_2 = Developer(\"Test\", \"Employee\", 60000)\n",
    "\n",
    "\n",
    "print(dev_1.email)\n",
    "print(dev_2.email)\n",
    "\n"
   ]
  },
  {
   "cell_type": "markdown",
   "metadata": {},
   "source": [
    "**Method Resolution Order**"
   ]
  },
  {
   "cell_type": "code",
   "execution_count": null,
   "metadata": {},
   "outputs": [],
   "source": [
    "help(dev_1)\n",
    "\n",
    "#  |  Method resolution order:\n",
    "#  |      Developer\n",
    "#  |      Employee\n",
    "#  |      builtins.object"
   ]
  },
  {
   "cell_type": "markdown",
   "metadata": {},
   "source": [
    "**Customized Inheritance**\n",
    "- We can make changes to our subclasses without worrying about breaking parent classes\n",
    "- super().__init__(attributes) method, and parent_class(self, arrtibutes)\n",
    "- Never pass mutable datatypes as default arguments\n",
    "- Good tool to use issubclass, "
   ]
  },
  {
   "cell_type": "code",
   "execution_count": 19,
   "metadata": {},
   "outputs": [
    {
     "name": "stdout",
     "output_type": "stream",
     "text": [
      "50000\n",
      "52000\n",
      "\n",
      "\n",
      "Test.Employee@company.com\n",
      "Python\n"
     ]
    }
   ],
   "source": [
    "class Employee(object):\n",
    "    raise_amount = 1.04\n",
    "\n",
    "    def __init__(self, first, last, pay):\n",
    "        self.first = first\n",
    "        self.last = last\n",
    "        self.pay = pay\n",
    "        self.email = first + \".\" + last + \"@company.com\"\n",
    "\n",
    "    def fullname(self):\n",
    "        return f\"{self.first} {self.last}\"\n",
    "    \n",
    "    def apply_raise(self):\n",
    "        self.pay = int(self.pay * self.raise_amount)\n",
    "\n",
    "\n",
    "class Developer(Employee):\n",
    "    raise_amount = 1.10\n",
    "\n",
    "    def __init__(self, first, last, pay, prog_lang):\n",
    "\n",
    "        # There are two methods for customized experiments\n",
    "        # method 1\n",
    "        super().__init__(first, last, pay) \n",
    "\n",
    "        # method 2\n",
    "        # Employee.__init__(self, first, last, pay) \n",
    "\n",
    "        self.prog_lang = prog_lang\n",
    "    pass\n",
    "\n",
    "\n",
    "class Manager(Employee):\n",
    "    # adding only code specific to customer!! \n",
    "    # This is a good example of polymorphism\n",
    "\n",
    "    def __init__(self, first, last, pay, employees=None):\n",
    "        super().__init__(first, last, pay)\n",
    "\n",
    "        # Never pass mutable data types as default arguments\n",
    "\n",
    "        if employees is None:\n",
    "            self.employees = []\n",
    "        else:\n",
    "            self.employees = employees\n",
    "\n",
    "    def add_emp(self, emp):\n",
    "        if emp not in self.employees:\n",
    "            self.employees.append(emp)\n",
    "\n",
    "    def remove_emp(self, emp):\n",
    "        if emp in self.employees:\n",
    "            self.employees.remove(emp)\n",
    "\n",
    "    def print_emps(self):\n",
    "        for emp in self.employees:\n",
    "            print(\"-->\", emp.fullname())\n",
    "\n",
    "        \n",
    "dev_1 = Employee(\"Corey\", \"Schafer\", 50000)\n",
    "\n",
    "\n",
    "\n",
    "# We can make changes to our subclasses without worrying about breaking parent classes\n",
    "print(dev_1.pay)\n",
    "dev_1.apply_raise()\n",
    "print(dev_1.pay)\n",
    "\n",
    "dev_2 = Developer(\"Test\", \"Employee\", 60000, \"Python\")\n",
    "dev_3 = Developer(\"Jane\", \"Doe\", 90000, \"Java\")\n",
    "\n",
    "mgr_1 = Manager(\"Sue\", \"Smith\", 90000, [dev_2])\n",
    "\n",
    "print(\"\\n\")\n",
    "print(dev_2.email)\n",
    "print(dev_2.prog_lang)\n",
    "\n"
   ]
  },
  {
   "cell_type": "code",
   "execution_count": 22,
   "metadata": {},
   "outputs": [
    {
     "name": "stdout",
     "output_type": "stream",
     "text": [
      "True\n",
      "False\n",
      "True\n"
     ]
    }
   ],
   "source": [
    "print(isinstance(mgr_1, Manager))\n",
    "print(isinstance(mgr_1, Developer))\n",
    "print(isinstance(mgr_1, Employee))"
   ]
  }
 ],
 "metadata": {
  "kernelspec": {
   "display_name": "DataScience",
   "language": "python",
   "name": "python3"
  },
  "language_info": {
   "codemirror_mode": {
    "name": "ipython",
    "version": 3
   },
   "file_extension": ".py",
   "mimetype": "text/x-python",
   "name": "python",
   "nbconvert_exporter": "python",
   "pygments_lexer": "ipython3",
   "version": "3.10.13"
  }
 },
 "nbformat": 4,
 "nbformat_minor": 2
}
