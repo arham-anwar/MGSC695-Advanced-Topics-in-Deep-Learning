{
  "nbformat": 4,
  "nbformat_minor": 0,
  "metadata": {
    "colab": {
      "provenance": [],
      "gpuType": "T4"
    },
    "kernelspec": {
      "name": "python3",
      "display_name": "Python 3"
    },
    "language_info": {
      "name": "python"
    },
    "accelerator": "GPU",
    "widgets": {
      "application/vnd.jupyter.widget-state+json": {
        "cbeece947ec64cbbb8bcf68c4284ede9": {
          "model_module": "@jupyter-widgets/controls",
          "model_name": "HBoxModel",
          "model_module_version": "1.5.0",
          "state": {
            "_dom_classes": [],
            "_model_module": "@jupyter-widgets/controls",
            "_model_module_version": "1.5.0",
            "_model_name": "HBoxModel",
            "_view_count": null,
            "_view_module": "@jupyter-widgets/controls",
            "_view_module_version": "1.5.0",
            "_view_name": "HBoxView",
            "box_style": "",
            "children": [
              "IPY_MODEL_9dce73aab53b466ea3d84c922889595c",
              "IPY_MODEL_6c5207cd03d343bbb4e01b0d840bfc7e",
              "IPY_MODEL_838da754647541918fd430bffda952b5"
            ],
            "layout": "IPY_MODEL_fea2bd6c280d493bbe269c66790b90d6"
          }
        },
        "9dce73aab53b466ea3d84c922889595c": {
          "model_module": "@jupyter-widgets/controls",
          "model_name": "HTMLModel",
          "model_module_version": "1.5.0",
          "state": {
            "_dom_classes": [],
            "_model_module": "@jupyter-widgets/controls",
            "_model_module_version": "1.5.0",
            "_model_name": "HTMLModel",
            "_view_count": null,
            "_view_module": "@jupyter-widgets/controls",
            "_view_module_version": "1.5.0",
            "_view_name": "HTMLView",
            "description": "",
            "description_tooltip": null,
            "layout": "IPY_MODEL_f7510f45b8ab45f0b607fdda00215d6b",
            "placeholder": "​",
            "style": "IPY_MODEL_66b869a52c574e00b604e0eb0853eeff",
            "value": "Sanity Checking DataLoader 0: 100%"
          }
        },
        "6c5207cd03d343bbb4e01b0d840bfc7e": {
          "model_module": "@jupyter-widgets/controls",
          "model_name": "FloatProgressModel",
          "model_module_version": "1.5.0",
          "state": {
            "_dom_classes": [],
            "_model_module": "@jupyter-widgets/controls",
            "_model_module_version": "1.5.0",
            "_model_name": "FloatProgressModel",
            "_view_count": null,
            "_view_module": "@jupyter-widgets/controls",
            "_view_module_version": "1.5.0",
            "_view_name": "ProgressView",
            "bar_style": "",
            "description": "",
            "description_tooltip": null,
            "layout": "IPY_MODEL_e0afd31b045848aa83ef6a1b46283620",
            "max": 2,
            "min": 0,
            "orientation": "horizontal",
            "style": "IPY_MODEL_8acfa224fa6c484c914c11b02c37737d",
            "value": 2
          }
        },
        "838da754647541918fd430bffda952b5": {
          "model_module": "@jupyter-widgets/controls",
          "model_name": "HTMLModel",
          "model_module_version": "1.5.0",
          "state": {
            "_dom_classes": [],
            "_model_module": "@jupyter-widgets/controls",
            "_model_module_version": "1.5.0",
            "_model_name": "HTMLModel",
            "_view_count": null,
            "_view_module": "@jupyter-widgets/controls",
            "_view_module_version": "1.5.0",
            "_view_name": "HTMLView",
            "description": "",
            "description_tooltip": null,
            "layout": "IPY_MODEL_5b6db8614b714345a8095ace240ce66b",
            "placeholder": "​",
            "style": "IPY_MODEL_83fe3be463544211a41c7aaccf180763",
            "value": " 2/2 [00:00&lt;00:00,  2.50it/s]"
          }
        },
        "fea2bd6c280d493bbe269c66790b90d6": {
          "model_module": "@jupyter-widgets/base",
          "model_name": "LayoutModel",
          "model_module_version": "1.2.0",
          "state": {
            "_model_module": "@jupyter-widgets/base",
            "_model_module_version": "1.2.0",
            "_model_name": "LayoutModel",
            "_view_count": null,
            "_view_module": "@jupyter-widgets/base",
            "_view_module_version": "1.2.0",
            "_view_name": "LayoutView",
            "align_content": null,
            "align_items": null,
            "align_self": null,
            "border": null,
            "bottom": null,
            "display": "inline-flex",
            "flex": null,
            "flex_flow": "row wrap",
            "grid_area": null,
            "grid_auto_columns": null,
            "grid_auto_flow": null,
            "grid_auto_rows": null,
            "grid_column": null,
            "grid_gap": null,
            "grid_row": null,
            "grid_template_areas": null,
            "grid_template_columns": null,
            "grid_template_rows": null,
            "height": null,
            "justify_content": null,
            "justify_items": null,
            "left": null,
            "margin": null,
            "max_height": null,
            "max_width": null,
            "min_height": null,
            "min_width": null,
            "object_fit": null,
            "object_position": null,
            "order": null,
            "overflow": null,
            "overflow_x": null,
            "overflow_y": null,
            "padding": null,
            "right": null,
            "top": null,
            "visibility": "hidden",
            "width": "100%"
          }
        },
        "f7510f45b8ab45f0b607fdda00215d6b": {
          "model_module": "@jupyter-widgets/base",
          "model_name": "LayoutModel",
          "model_module_version": "1.2.0",
          "state": {
            "_model_module": "@jupyter-widgets/base",
            "_model_module_version": "1.2.0",
            "_model_name": "LayoutModel",
            "_view_count": null,
            "_view_module": "@jupyter-widgets/base",
            "_view_module_version": "1.2.0",
            "_view_name": "LayoutView",
            "align_content": null,
            "align_items": null,
            "align_self": null,
            "border": null,
            "bottom": null,
            "display": null,
            "flex": null,
            "flex_flow": null,
            "grid_area": null,
            "grid_auto_columns": null,
            "grid_auto_flow": null,
            "grid_auto_rows": null,
            "grid_column": null,
            "grid_gap": null,
            "grid_row": null,
            "grid_template_areas": null,
            "grid_template_columns": null,
            "grid_template_rows": null,
            "height": null,
            "justify_content": null,
            "justify_items": null,
            "left": null,
            "margin": null,
            "max_height": null,
            "max_width": null,
            "min_height": null,
            "min_width": null,
            "object_fit": null,
            "object_position": null,
            "order": null,
            "overflow": null,
            "overflow_x": null,
            "overflow_y": null,
            "padding": null,
            "right": null,
            "top": null,
            "visibility": null,
            "width": null
          }
        },
        "66b869a52c574e00b604e0eb0853eeff": {
          "model_module": "@jupyter-widgets/controls",
          "model_name": "DescriptionStyleModel",
          "model_module_version": "1.5.0",
          "state": {
            "_model_module": "@jupyter-widgets/controls",
            "_model_module_version": "1.5.0",
            "_model_name": "DescriptionStyleModel",
            "_view_count": null,
            "_view_module": "@jupyter-widgets/base",
            "_view_module_version": "1.2.0",
            "_view_name": "StyleView",
            "description_width": ""
          }
        },
        "e0afd31b045848aa83ef6a1b46283620": {
          "model_module": "@jupyter-widgets/base",
          "model_name": "LayoutModel",
          "model_module_version": "1.2.0",
          "state": {
            "_model_module": "@jupyter-widgets/base",
            "_model_module_version": "1.2.0",
            "_model_name": "LayoutModel",
            "_view_count": null,
            "_view_module": "@jupyter-widgets/base",
            "_view_module_version": "1.2.0",
            "_view_name": "LayoutView",
            "align_content": null,
            "align_items": null,
            "align_self": null,
            "border": null,
            "bottom": null,
            "display": null,
            "flex": "2",
            "flex_flow": null,
            "grid_area": null,
            "grid_auto_columns": null,
            "grid_auto_flow": null,
            "grid_auto_rows": null,
            "grid_column": null,
            "grid_gap": null,
            "grid_row": null,
            "grid_template_areas": null,
            "grid_template_columns": null,
            "grid_template_rows": null,
            "height": null,
            "justify_content": null,
            "justify_items": null,
            "left": null,
            "margin": null,
            "max_height": null,
            "max_width": null,
            "min_height": null,
            "min_width": null,
            "object_fit": null,
            "object_position": null,
            "order": null,
            "overflow": null,
            "overflow_x": null,
            "overflow_y": null,
            "padding": null,
            "right": null,
            "top": null,
            "visibility": null,
            "width": null
          }
        },
        "8acfa224fa6c484c914c11b02c37737d": {
          "model_module": "@jupyter-widgets/controls",
          "model_name": "ProgressStyleModel",
          "model_module_version": "1.5.0",
          "state": {
            "_model_module": "@jupyter-widgets/controls",
            "_model_module_version": "1.5.0",
            "_model_name": "ProgressStyleModel",
            "_view_count": null,
            "_view_module": "@jupyter-widgets/base",
            "_view_module_version": "1.2.0",
            "_view_name": "StyleView",
            "bar_color": null,
            "description_width": ""
          }
        },
        "5b6db8614b714345a8095ace240ce66b": {
          "model_module": "@jupyter-widgets/base",
          "model_name": "LayoutModel",
          "model_module_version": "1.2.0",
          "state": {
            "_model_module": "@jupyter-widgets/base",
            "_model_module_version": "1.2.0",
            "_model_name": "LayoutModel",
            "_view_count": null,
            "_view_module": "@jupyter-widgets/base",
            "_view_module_version": "1.2.0",
            "_view_name": "LayoutView",
            "align_content": null,
            "align_items": null,
            "align_self": null,
            "border": null,
            "bottom": null,
            "display": null,
            "flex": null,
            "flex_flow": null,
            "grid_area": null,
            "grid_auto_columns": null,
            "grid_auto_flow": null,
            "grid_auto_rows": null,
            "grid_column": null,
            "grid_gap": null,
            "grid_row": null,
            "grid_template_areas": null,
            "grid_template_columns": null,
            "grid_template_rows": null,
            "height": null,
            "justify_content": null,
            "justify_items": null,
            "left": null,
            "margin": null,
            "max_height": null,
            "max_width": null,
            "min_height": null,
            "min_width": null,
            "object_fit": null,
            "object_position": null,
            "order": null,
            "overflow": null,
            "overflow_x": null,
            "overflow_y": null,
            "padding": null,
            "right": null,
            "top": null,
            "visibility": null,
            "width": null
          }
        },
        "83fe3be463544211a41c7aaccf180763": {
          "model_module": "@jupyter-widgets/controls",
          "model_name": "DescriptionStyleModel",
          "model_module_version": "1.5.0",
          "state": {
            "_model_module": "@jupyter-widgets/controls",
            "_model_module_version": "1.5.0",
            "_model_name": "DescriptionStyleModel",
            "_view_count": null,
            "_view_module": "@jupyter-widgets/base",
            "_view_module_version": "1.2.0",
            "_view_name": "StyleView",
            "description_width": ""
          }
        },
        "13312bc76a8941e3b679d66414b05140": {
          "model_module": "@jupyter-widgets/controls",
          "model_name": "HBoxModel",
          "model_module_version": "1.5.0",
          "state": {
            "_dom_classes": [],
            "_model_module": "@jupyter-widgets/controls",
            "_model_module_version": "1.5.0",
            "_model_name": "HBoxModel",
            "_view_count": null,
            "_view_module": "@jupyter-widgets/controls",
            "_view_module_version": "1.5.0",
            "_view_name": "HBoxView",
            "box_style": "",
            "children": [
              "IPY_MODEL_1510ac677d054fcc9050035258ae0d39",
              "IPY_MODEL_f06a815bd8b94af395d12b47875b4d86",
              "IPY_MODEL_198bbcb809c84aae88db0d2c26738b51"
            ],
            "layout": "IPY_MODEL_af30683a2be749c28d899945534c0763"
          }
        },
        "1510ac677d054fcc9050035258ae0d39": {
          "model_module": "@jupyter-widgets/controls",
          "model_name": "HTMLModel",
          "model_module_version": "1.5.0",
          "state": {
            "_dom_classes": [],
            "_model_module": "@jupyter-widgets/controls",
            "_model_module_version": "1.5.0",
            "_model_name": "HTMLModel",
            "_view_count": null,
            "_view_module": "@jupyter-widgets/controls",
            "_view_module_version": "1.5.0",
            "_view_name": "HTMLView",
            "description": "",
            "description_tooltip": null,
            "layout": "IPY_MODEL_61a6a7afadc9493cb0b034fc9a2176de",
            "placeholder": "​",
            "style": "IPY_MODEL_90ef80ab40f0438ca6d3919f6ac62f36",
            "value": "Epoch 4: 100%"
          }
        },
        "f06a815bd8b94af395d12b47875b4d86": {
          "model_module": "@jupyter-widgets/controls",
          "model_name": "FloatProgressModel",
          "model_module_version": "1.5.0",
          "state": {
            "_dom_classes": [],
            "_model_module": "@jupyter-widgets/controls",
            "_model_module_version": "1.5.0",
            "_model_name": "FloatProgressModel",
            "_view_count": null,
            "_view_module": "@jupyter-widgets/controls",
            "_view_module_version": "1.5.0",
            "_view_name": "ProgressView",
            "bar_style": "success",
            "description": "",
            "description_tooltip": null,
            "layout": "IPY_MODEL_5a3b84a7380f4eaca5d808977ac6b6ba",
            "max": 566,
            "min": 0,
            "orientation": "horizontal",
            "style": "IPY_MODEL_a9c65ccbb4b849c19945f53268789555",
            "value": 566
          }
        },
        "198bbcb809c84aae88db0d2c26738b51": {
          "model_module": "@jupyter-widgets/controls",
          "model_name": "HTMLModel",
          "model_module_version": "1.5.0",
          "state": {
            "_dom_classes": [],
            "_model_module": "@jupyter-widgets/controls",
            "_model_module_version": "1.5.0",
            "_model_name": "HTMLModel",
            "_view_count": null,
            "_view_module": "@jupyter-widgets/controls",
            "_view_module_version": "1.5.0",
            "_view_name": "HTMLView",
            "description": "",
            "description_tooltip": null,
            "layout": "IPY_MODEL_ec8e66d954174e999a6023cd8b3dff5e",
            "placeholder": "​",
            "style": "IPY_MODEL_26b5e7d032d34268a5f13056a11ef48e",
            "value": " 566/566 [18:42&lt;00:00,  0.50it/s, v_num=0, train_loss_step=0.0151, train_acc_step=1.000, val_loss_step=0.623, val_acc_step=0.857, val_loss_epoch=0.684, val_acc_epoch=0.838, train_loss_epoch=0.039, train_acc_epoch=0.989]"
          }
        },
        "af30683a2be749c28d899945534c0763": {
          "model_module": "@jupyter-widgets/base",
          "model_name": "LayoutModel",
          "model_module_version": "1.2.0",
          "state": {
            "_model_module": "@jupyter-widgets/base",
            "_model_module_version": "1.2.0",
            "_model_name": "LayoutModel",
            "_view_count": null,
            "_view_module": "@jupyter-widgets/base",
            "_view_module_version": "1.2.0",
            "_view_name": "LayoutView",
            "align_content": null,
            "align_items": null,
            "align_self": null,
            "border": null,
            "bottom": null,
            "display": "inline-flex",
            "flex": null,
            "flex_flow": "row wrap",
            "grid_area": null,
            "grid_auto_columns": null,
            "grid_auto_flow": null,
            "grid_auto_rows": null,
            "grid_column": null,
            "grid_gap": null,
            "grid_row": null,
            "grid_template_areas": null,
            "grid_template_columns": null,
            "grid_template_rows": null,
            "height": null,
            "justify_content": null,
            "justify_items": null,
            "left": null,
            "margin": null,
            "max_height": null,
            "max_width": null,
            "min_height": null,
            "min_width": null,
            "object_fit": null,
            "object_position": null,
            "order": null,
            "overflow": null,
            "overflow_x": null,
            "overflow_y": null,
            "padding": null,
            "right": null,
            "top": null,
            "visibility": null,
            "width": "100%"
          }
        },
        "61a6a7afadc9493cb0b034fc9a2176de": {
          "model_module": "@jupyter-widgets/base",
          "model_name": "LayoutModel",
          "model_module_version": "1.2.0",
          "state": {
            "_model_module": "@jupyter-widgets/base",
            "_model_module_version": "1.2.0",
            "_model_name": "LayoutModel",
            "_view_count": null,
            "_view_module": "@jupyter-widgets/base",
            "_view_module_version": "1.2.0",
            "_view_name": "LayoutView",
            "align_content": null,
            "align_items": null,
            "align_self": null,
            "border": null,
            "bottom": null,
            "display": null,
            "flex": null,
            "flex_flow": null,
            "grid_area": null,
            "grid_auto_columns": null,
            "grid_auto_flow": null,
            "grid_auto_rows": null,
            "grid_column": null,
            "grid_gap": null,
            "grid_row": null,
            "grid_template_areas": null,
            "grid_template_columns": null,
            "grid_template_rows": null,
            "height": null,
            "justify_content": null,
            "justify_items": null,
            "left": null,
            "margin": null,
            "max_height": null,
            "max_width": null,
            "min_height": null,
            "min_width": null,
            "object_fit": null,
            "object_position": null,
            "order": null,
            "overflow": null,
            "overflow_x": null,
            "overflow_y": null,
            "padding": null,
            "right": null,
            "top": null,
            "visibility": null,
            "width": null
          }
        },
        "90ef80ab40f0438ca6d3919f6ac62f36": {
          "model_module": "@jupyter-widgets/controls",
          "model_name": "DescriptionStyleModel",
          "model_module_version": "1.5.0",
          "state": {
            "_model_module": "@jupyter-widgets/controls",
            "_model_module_version": "1.5.0",
            "_model_name": "DescriptionStyleModel",
            "_view_count": null,
            "_view_module": "@jupyter-widgets/base",
            "_view_module_version": "1.2.0",
            "_view_name": "StyleView",
            "description_width": ""
          }
        },
        "5a3b84a7380f4eaca5d808977ac6b6ba": {
          "model_module": "@jupyter-widgets/base",
          "model_name": "LayoutModel",
          "model_module_version": "1.2.0",
          "state": {
            "_model_module": "@jupyter-widgets/base",
            "_model_module_version": "1.2.0",
            "_model_name": "LayoutModel",
            "_view_count": null,
            "_view_module": "@jupyter-widgets/base",
            "_view_module_version": "1.2.0",
            "_view_name": "LayoutView",
            "align_content": null,
            "align_items": null,
            "align_self": null,
            "border": null,
            "bottom": null,
            "display": null,
            "flex": "2",
            "flex_flow": null,
            "grid_area": null,
            "grid_auto_columns": null,
            "grid_auto_flow": null,
            "grid_auto_rows": null,
            "grid_column": null,
            "grid_gap": null,
            "grid_row": null,
            "grid_template_areas": null,
            "grid_template_columns": null,
            "grid_template_rows": null,
            "height": null,
            "justify_content": null,
            "justify_items": null,
            "left": null,
            "margin": null,
            "max_height": null,
            "max_width": null,
            "min_height": null,
            "min_width": null,
            "object_fit": null,
            "object_position": null,
            "order": null,
            "overflow": null,
            "overflow_x": null,
            "overflow_y": null,
            "padding": null,
            "right": null,
            "top": null,
            "visibility": null,
            "width": null
          }
        },
        "a9c65ccbb4b849c19945f53268789555": {
          "model_module": "@jupyter-widgets/controls",
          "model_name": "ProgressStyleModel",
          "model_module_version": "1.5.0",
          "state": {
            "_model_module": "@jupyter-widgets/controls",
            "_model_module_version": "1.5.0",
            "_model_name": "ProgressStyleModel",
            "_view_count": null,
            "_view_module": "@jupyter-widgets/base",
            "_view_module_version": "1.2.0",
            "_view_name": "StyleView",
            "bar_color": null,
            "description_width": ""
          }
        },
        "ec8e66d954174e999a6023cd8b3dff5e": {
          "model_module": "@jupyter-widgets/base",
          "model_name": "LayoutModel",
          "model_module_version": "1.2.0",
          "state": {
            "_model_module": "@jupyter-widgets/base",
            "_model_module_version": "1.2.0",
            "_model_name": "LayoutModel",
            "_view_count": null,
            "_view_module": "@jupyter-widgets/base",
            "_view_module_version": "1.2.0",
            "_view_name": "LayoutView",
            "align_content": null,
            "align_items": null,
            "align_self": null,
            "border": null,
            "bottom": null,
            "display": null,
            "flex": null,
            "flex_flow": null,
            "grid_area": null,
            "grid_auto_columns": null,
            "grid_auto_flow": null,
            "grid_auto_rows": null,
            "grid_column": null,
            "grid_gap": null,
            "grid_row": null,
            "grid_template_areas": null,
            "grid_template_columns": null,
            "grid_template_rows": null,
            "height": null,
            "justify_content": null,
            "justify_items": null,
            "left": null,
            "margin": null,
            "max_height": null,
            "max_width": null,
            "min_height": null,
            "min_width": null,
            "object_fit": null,
            "object_position": null,
            "order": null,
            "overflow": null,
            "overflow_x": null,
            "overflow_y": null,
            "padding": null,
            "right": null,
            "top": null,
            "visibility": null,
            "width": null
          }
        },
        "26b5e7d032d34268a5f13056a11ef48e": {
          "model_module": "@jupyter-widgets/controls",
          "model_name": "DescriptionStyleModel",
          "model_module_version": "1.5.0",
          "state": {
            "_model_module": "@jupyter-widgets/controls",
            "_model_module_version": "1.5.0",
            "_model_name": "DescriptionStyleModel",
            "_view_count": null,
            "_view_module": "@jupyter-widgets/base",
            "_view_module_version": "1.2.0",
            "_view_name": "StyleView",
            "description_width": ""
          }
        },
        "b5b4624b27064bac9dd7df9f358e2d85": {
          "model_module": "@jupyter-widgets/controls",
          "model_name": "HBoxModel",
          "model_module_version": "1.5.0",
          "state": {
            "_dom_classes": [],
            "_model_module": "@jupyter-widgets/controls",
            "_model_module_version": "1.5.0",
            "_model_name": "HBoxModel",
            "_view_count": null,
            "_view_module": "@jupyter-widgets/controls",
            "_view_module_version": "1.5.0",
            "_view_name": "HBoxView",
            "box_style": "",
            "children": [
              "IPY_MODEL_3460dcc68622487cb619e284a27d1d72",
              "IPY_MODEL_6f854c1e12b745caa880498dd97baf20",
              "IPY_MODEL_bd7970e175954b109be7f53abb10231d"
            ],
            "layout": "IPY_MODEL_39d19bbc09004f6cac5e9c628bcf12ba"
          }
        },
        "3460dcc68622487cb619e284a27d1d72": {
          "model_module": "@jupyter-widgets/controls",
          "model_name": "HTMLModel",
          "model_module_version": "1.5.0",
          "state": {
            "_dom_classes": [],
            "_model_module": "@jupyter-widgets/controls",
            "_model_module_version": "1.5.0",
            "_model_name": "HTMLModel",
            "_view_count": null,
            "_view_module": "@jupyter-widgets/controls",
            "_view_module_version": "1.5.0",
            "_view_name": "HTMLView",
            "description": "",
            "description_tooltip": null,
            "layout": "IPY_MODEL_00a2d839a23b49eab4bb633d3caadcc2",
            "placeholder": "​",
            "style": "IPY_MODEL_9c20155f4d854f4ca65cbe8c580c7eb5",
            "value": "Validation DataLoader 0: 100%"
          }
        },
        "6f854c1e12b745caa880498dd97baf20": {
          "model_module": "@jupyter-widgets/controls",
          "model_name": "FloatProgressModel",
          "model_module_version": "1.5.0",
          "state": {
            "_dom_classes": [],
            "_model_module": "@jupyter-widgets/controls",
            "_model_module_version": "1.5.0",
            "_model_name": "FloatProgressModel",
            "_view_count": null,
            "_view_module": "@jupyter-widgets/controls",
            "_view_module_version": "1.5.0",
            "_view_name": "ProgressView",
            "bar_style": "",
            "description": "",
            "description_tooltip": null,
            "layout": "IPY_MODEL_4ee6beafe8d344938a34d942c38f7ebe",
            "max": 142,
            "min": 0,
            "orientation": "horizontal",
            "style": "IPY_MODEL_0fd2b9595bd744188056d3bd02f3f101",
            "value": 142
          }
        },
        "bd7970e175954b109be7f53abb10231d": {
          "model_module": "@jupyter-widgets/controls",
          "model_name": "HTMLModel",
          "model_module_version": "1.5.0",
          "state": {
            "_dom_classes": [],
            "_model_module": "@jupyter-widgets/controls",
            "_model_module_version": "1.5.0",
            "_model_name": "HTMLModel",
            "_view_count": null,
            "_view_module": "@jupyter-widgets/controls",
            "_view_module_version": "1.5.0",
            "_view_name": "HTMLView",
            "description": "",
            "description_tooltip": null,
            "layout": "IPY_MODEL_409aa67425674b05ad3fc2a59078ccc1",
            "placeholder": "​",
            "style": "IPY_MODEL_f7f4b43634fb4dbab33a5d607d75d1fc",
            "value": " 142/142 [01:30&lt;00:00,  1.57it/s]"
          }
        },
        "39d19bbc09004f6cac5e9c628bcf12ba": {
          "model_module": "@jupyter-widgets/base",
          "model_name": "LayoutModel",
          "model_module_version": "1.2.0",
          "state": {
            "_model_module": "@jupyter-widgets/base",
            "_model_module_version": "1.2.0",
            "_model_name": "LayoutModel",
            "_view_count": null,
            "_view_module": "@jupyter-widgets/base",
            "_view_module_version": "1.2.0",
            "_view_name": "LayoutView",
            "align_content": null,
            "align_items": null,
            "align_self": null,
            "border": null,
            "bottom": null,
            "display": "inline-flex",
            "flex": null,
            "flex_flow": "row wrap",
            "grid_area": null,
            "grid_auto_columns": null,
            "grid_auto_flow": null,
            "grid_auto_rows": null,
            "grid_column": null,
            "grid_gap": null,
            "grid_row": null,
            "grid_template_areas": null,
            "grid_template_columns": null,
            "grid_template_rows": null,
            "height": null,
            "justify_content": null,
            "justify_items": null,
            "left": null,
            "margin": null,
            "max_height": null,
            "max_width": null,
            "min_height": null,
            "min_width": null,
            "object_fit": null,
            "object_position": null,
            "order": null,
            "overflow": null,
            "overflow_x": null,
            "overflow_y": null,
            "padding": null,
            "right": null,
            "top": null,
            "visibility": "hidden",
            "width": "100%"
          }
        },
        "00a2d839a23b49eab4bb633d3caadcc2": {
          "model_module": "@jupyter-widgets/base",
          "model_name": "LayoutModel",
          "model_module_version": "1.2.0",
          "state": {
            "_model_module": "@jupyter-widgets/base",
            "_model_module_version": "1.2.0",
            "_model_name": "LayoutModel",
            "_view_count": null,
            "_view_module": "@jupyter-widgets/base",
            "_view_module_version": "1.2.0",
            "_view_name": "LayoutView",
            "align_content": null,
            "align_items": null,
            "align_self": null,
            "border": null,
            "bottom": null,
            "display": null,
            "flex": null,
            "flex_flow": null,
            "grid_area": null,
            "grid_auto_columns": null,
            "grid_auto_flow": null,
            "grid_auto_rows": null,
            "grid_column": null,
            "grid_gap": null,
            "grid_row": null,
            "grid_template_areas": null,
            "grid_template_columns": null,
            "grid_template_rows": null,
            "height": null,
            "justify_content": null,
            "justify_items": null,
            "left": null,
            "margin": null,
            "max_height": null,
            "max_width": null,
            "min_height": null,
            "min_width": null,
            "object_fit": null,
            "object_position": null,
            "order": null,
            "overflow": null,
            "overflow_x": null,
            "overflow_y": null,
            "padding": null,
            "right": null,
            "top": null,
            "visibility": null,
            "width": null
          }
        },
        "9c20155f4d854f4ca65cbe8c580c7eb5": {
          "model_module": "@jupyter-widgets/controls",
          "model_name": "DescriptionStyleModel",
          "model_module_version": "1.5.0",
          "state": {
            "_model_module": "@jupyter-widgets/controls",
            "_model_module_version": "1.5.0",
            "_model_name": "DescriptionStyleModel",
            "_view_count": null,
            "_view_module": "@jupyter-widgets/base",
            "_view_module_version": "1.2.0",
            "_view_name": "StyleView",
            "description_width": ""
          }
        },
        "4ee6beafe8d344938a34d942c38f7ebe": {
          "model_module": "@jupyter-widgets/base",
          "model_name": "LayoutModel",
          "model_module_version": "1.2.0",
          "state": {
            "_model_module": "@jupyter-widgets/base",
            "_model_module_version": "1.2.0",
            "_model_name": "LayoutModel",
            "_view_count": null,
            "_view_module": "@jupyter-widgets/base",
            "_view_module_version": "1.2.0",
            "_view_name": "LayoutView",
            "align_content": null,
            "align_items": null,
            "align_self": null,
            "border": null,
            "bottom": null,
            "display": null,
            "flex": "2",
            "flex_flow": null,
            "grid_area": null,
            "grid_auto_columns": null,
            "grid_auto_flow": null,
            "grid_auto_rows": null,
            "grid_column": null,
            "grid_gap": null,
            "grid_row": null,
            "grid_template_areas": null,
            "grid_template_columns": null,
            "grid_template_rows": null,
            "height": null,
            "justify_content": null,
            "justify_items": null,
            "left": null,
            "margin": null,
            "max_height": null,
            "max_width": null,
            "min_height": null,
            "min_width": null,
            "object_fit": null,
            "object_position": null,
            "order": null,
            "overflow": null,
            "overflow_x": null,
            "overflow_y": null,
            "padding": null,
            "right": null,
            "top": null,
            "visibility": null,
            "width": null
          }
        },
        "0fd2b9595bd744188056d3bd02f3f101": {
          "model_module": "@jupyter-widgets/controls",
          "model_name": "ProgressStyleModel",
          "model_module_version": "1.5.0",
          "state": {
            "_model_module": "@jupyter-widgets/controls",
            "_model_module_version": "1.5.0",
            "_model_name": "ProgressStyleModel",
            "_view_count": null,
            "_view_module": "@jupyter-widgets/base",
            "_view_module_version": "1.2.0",
            "_view_name": "StyleView",
            "bar_color": null,
            "description_width": ""
          }
        },
        "409aa67425674b05ad3fc2a59078ccc1": {
          "model_module": "@jupyter-widgets/base",
          "model_name": "LayoutModel",
          "model_module_version": "1.2.0",
          "state": {
            "_model_module": "@jupyter-widgets/base",
            "_model_module_version": "1.2.0",
            "_model_name": "LayoutModel",
            "_view_count": null,
            "_view_module": "@jupyter-widgets/base",
            "_view_module_version": "1.2.0",
            "_view_name": "LayoutView",
            "align_content": null,
            "align_items": null,
            "align_self": null,
            "border": null,
            "bottom": null,
            "display": null,
            "flex": null,
            "flex_flow": null,
            "grid_area": null,
            "grid_auto_columns": null,
            "grid_auto_flow": null,
            "grid_auto_rows": null,
            "grid_column": null,
            "grid_gap": null,
            "grid_row": null,
            "grid_template_areas": null,
            "grid_template_columns": null,
            "grid_template_rows": null,
            "height": null,
            "justify_content": null,
            "justify_items": null,
            "left": null,
            "margin": null,
            "max_height": null,
            "max_width": null,
            "min_height": null,
            "min_width": null,
            "object_fit": null,
            "object_position": null,
            "order": null,
            "overflow": null,
            "overflow_x": null,
            "overflow_y": null,
            "padding": null,
            "right": null,
            "top": null,
            "visibility": null,
            "width": null
          }
        },
        "f7f4b43634fb4dbab33a5d607d75d1fc": {
          "model_module": "@jupyter-widgets/controls",
          "model_name": "DescriptionStyleModel",
          "model_module_version": "1.5.0",
          "state": {
            "_model_module": "@jupyter-widgets/controls",
            "_model_module_version": "1.5.0",
            "_model_name": "DescriptionStyleModel",
            "_view_count": null,
            "_view_module": "@jupyter-widgets/base",
            "_view_module_version": "1.2.0",
            "_view_name": "StyleView",
            "description_width": ""
          }
        },
        "1ebaa96b69314562aa4a2a87829d4567": {
          "model_module": "@jupyter-widgets/controls",
          "model_name": "HBoxModel",
          "model_module_version": "1.5.0",
          "state": {
            "_dom_classes": [],
            "_model_module": "@jupyter-widgets/controls",
            "_model_module_version": "1.5.0",
            "_model_name": "HBoxModel",
            "_view_count": null,
            "_view_module": "@jupyter-widgets/controls",
            "_view_module_version": "1.5.0",
            "_view_name": "HBoxView",
            "box_style": "",
            "children": [
              "IPY_MODEL_73297ae2660148b8b45f43b9138ceb68",
              "IPY_MODEL_1d4529fdca494616befe92ecb8d576ec",
              "IPY_MODEL_faae7e6a9879428f8777e22720476ea3"
            ],
            "layout": "IPY_MODEL_0efb9e9c72ac4bf9b1f6ec10d3f9cf5b"
          }
        },
        "73297ae2660148b8b45f43b9138ceb68": {
          "model_module": "@jupyter-widgets/controls",
          "model_name": "HTMLModel",
          "model_module_version": "1.5.0",
          "state": {
            "_dom_classes": [],
            "_model_module": "@jupyter-widgets/controls",
            "_model_module_version": "1.5.0",
            "_model_name": "HTMLModel",
            "_view_count": null,
            "_view_module": "@jupyter-widgets/controls",
            "_view_module_version": "1.5.0",
            "_view_name": "HTMLView",
            "description": "",
            "description_tooltip": null,
            "layout": "IPY_MODEL_94924af68a9b4916805df0e50075b0a8",
            "placeholder": "​",
            "style": "IPY_MODEL_589a831dbb534611b23f0a1cffb54c9c",
            "value": "Validation DataLoader 0: 100%"
          }
        },
        "1d4529fdca494616befe92ecb8d576ec": {
          "model_module": "@jupyter-widgets/controls",
          "model_name": "FloatProgressModel",
          "model_module_version": "1.5.0",
          "state": {
            "_dom_classes": [],
            "_model_module": "@jupyter-widgets/controls",
            "_model_module_version": "1.5.0",
            "_model_name": "FloatProgressModel",
            "_view_count": null,
            "_view_module": "@jupyter-widgets/controls",
            "_view_module_version": "1.5.0",
            "_view_name": "ProgressView",
            "bar_style": "",
            "description": "",
            "description_tooltip": null,
            "layout": "IPY_MODEL_f71ab90cdd7d4b26b76d75d3bb14f3f6",
            "max": 142,
            "min": 0,
            "orientation": "horizontal",
            "style": "IPY_MODEL_2f174ffa210d4992b4cba63c31904a4b",
            "value": 142
          }
        },
        "faae7e6a9879428f8777e22720476ea3": {
          "model_module": "@jupyter-widgets/controls",
          "model_name": "HTMLModel",
          "model_module_version": "1.5.0",
          "state": {
            "_dom_classes": [],
            "_model_module": "@jupyter-widgets/controls",
            "_model_module_version": "1.5.0",
            "_model_name": "HTMLModel",
            "_view_count": null,
            "_view_module": "@jupyter-widgets/controls",
            "_view_module_version": "1.5.0",
            "_view_name": "HTMLView",
            "description": "",
            "description_tooltip": null,
            "layout": "IPY_MODEL_1b5f27d67adc43bb9f9ea3cf175f1390",
            "placeholder": "​",
            "style": "IPY_MODEL_51d0e51205c74ca4be1f02a15601849d",
            "value": " 142/142 [01:30&lt;00:00,  1.58it/s]"
          }
        },
        "0efb9e9c72ac4bf9b1f6ec10d3f9cf5b": {
          "model_module": "@jupyter-widgets/base",
          "model_name": "LayoutModel",
          "model_module_version": "1.2.0",
          "state": {
            "_model_module": "@jupyter-widgets/base",
            "_model_module_version": "1.2.0",
            "_model_name": "LayoutModel",
            "_view_count": null,
            "_view_module": "@jupyter-widgets/base",
            "_view_module_version": "1.2.0",
            "_view_name": "LayoutView",
            "align_content": null,
            "align_items": null,
            "align_self": null,
            "border": null,
            "bottom": null,
            "display": "inline-flex",
            "flex": null,
            "flex_flow": "row wrap",
            "grid_area": null,
            "grid_auto_columns": null,
            "grid_auto_flow": null,
            "grid_auto_rows": null,
            "grid_column": null,
            "grid_gap": null,
            "grid_row": null,
            "grid_template_areas": null,
            "grid_template_columns": null,
            "grid_template_rows": null,
            "height": null,
            "justify_content": null,
            "justify_items": null,
            "left": null,
            "margin": null,
            "max_height": null,
            "max_width": null,
            "min_height": null,
            "min_width": null,
            "object_fit": null,
            "object_position": null,
            "order": null,
            "overflow": null,
            "overflow_x": null,
            "overflow_y": null,
            "padding": null,
            "right": null,
            "top": null,
            "visibility": "hidden",
            "width": "100%"
          }
        },
        "94924af68a9b4916805df0e50075b0a8": {
          "model_module": "@jupyter-widgets/base",
          "model_name": "LayoutModel",
          "model_module_version": "1.2.0",
          "state": {
            "_model_module": "@jupyter-widgets/base",
            "_model_module_version": "1.2.0",
            "_model_name": "LayoutModel",
            "_view_count": null,
            "_view_module": "@jupyter-widgets/base",
            "_view_module_version": "1.2.0",
            "_view_name": "LayoutView",
            "align_content": null,
            "align_items": null,
            "align_self": null,
            "border": null,
            "bottom": null,
            "display": null,
            "flex": null,
            "flex_flow": null,
            "grid_area": null,
            "grid_auto_columns": null,
            "grid_auto_flow": null,
            "grid_auto_rows": null,
            "grid_column": null,
            "grid_gap": null,
            "grid_row": null,
            "grid_template_areas": null,
            "grid_template_columns": null,
            "grid_template_rows": null,
            "height": null,
            "justify_content": null,
            "justify_items": null,
            "left": null,
            "margin": null,
            "max_height": null,
            "max_width": null,
            "min_height": null,
            "min_width": null,
            "object_fit": null,
            "object_position": null,
            "order": null,
            "overflow": null,
            "overflow_x": null,
            "overflow_y": null,
            "padding": null,
            "right": null,
            "top": null,
            "visibility": null,
            "width": null
          }
        },
        "589a831dbb534611b23f0a1cffb54c9c": {
          "model_module": "@jupyter-widgets/controls",
          "model_name": "DescriptionStyleModel",
          "model_module_version": "1.5.0",
          "state": {
            "_model_module": "@jupyter-widgets/controls",
            "_model_module_version": "1.5.0",
            "_model_name": "DescriptionStyleModel",
            "_view_count": null,
            "_view_module": "@jupyter-widgets/base",
            "_view_module_version": "1.2.0",
            "_view_name": "StyleView",
            "description_width": ""
          }
        },
        "f71ab90cdd7d4b26b76d75d3bb14f3f6": {
          "model_module": "@jupyter-widgets/base",
          "model_name": "LayoutModel",
          "model_module_version": "1.2.0",
          "state": {
            "_model_module": "@jupyter-widgets/base",
            "_model_module_version": "1.2.0",
            "_model_name": "LayoutModel",
            "_view_count": null,
            "_view_module": "@jupyter-widgets/base",
            "_view_module_version": "1.2.0",
            "_view_name": "LayoutView",
            "align_content": null,
            "align_items": null,
            "align_self": null,
            "border": null,
            "bottom": null,
            "display": null,
            "flex": "2",
            "flex_flow": null,
            "grid_area": null,
            "grid_auto_columns": null,
            "grid_auto_flow": null,
            "grid_auto_rows": null,
            "grid_column": null,
            "grid_gap": null,
            "grid_row": null,
            "grid_template_areas": null,
            "grid_template_columns": null,
            "grid_template_rows": null,
            "height": null,
            "justify_content": null,
            "justify_items": null,
            "left": null,
            "margin": null,
            "max_height": null,
            "max_width": null,
            "min_height": null,
            "min_width": null,
            "object_fit": null,
            "object_position": null,
            "order": null,
            "overflow": null,
            "overflow_x": null,
            "overflow_y": null,
            "padding": null,
            "right": null,
            "top": null,
            "visibility": null,
            "width": null
          }
        },
        "2f174ffa210d4992b4cba63c31904a4b": {
          "model_module": "@jupyter-widgets/controls",
          "model_name": "ProgressStyleModel",
          "model_module_version": "1.5.0",
          "state": {
            "_model_module": "@jupyter-widgets/controls",
            "_model_module_version": "1.5.0",
            "_model_name": "ProgressStyleModel",
            "_view_count": null,
            "_view_module": "@jupyter-widgets/base",
            "_view_module_version": "1.2.0",
            "_view_name": "StyleView",
            "bar_color": null,
            "description_width": ""
          }
        },
        "1b5f27d67adc43bb9f9ea3cf175f1390": {
          "model_module": "@jupyter-widgets/base",
          "model_name": "LayoutModel",
          "model_module_version": "1.2.0",
          "state": {
            "_model_module": "@jupyter-widgets/base",
            "_model_module_version": "1.2.0",
            "_model_name": "LayoutModel",
            "_view_count": null,
            "_view_module": "@jupyter-widgets/base",
            "_view_module_version": "1.2.0",
            "_view_name": "LayoutView",
            "align_content": null,
            "align_items": null,
            "align_self": null,
            "border": null,
            "bottom": null,
            "display": null,
            "flex": null,
            "flex_flow": null,
            "grid_area": null,
            "grid_auto_columns": null,
            "grid_auto_flow": null,
            "grid_auto_rows": null,
            "grid_column": null,
            "grid_gap": null,
            "grid_row": null,
            "grid_template_areas": null,
            "grid_template_columns": null,
            "grid_template_rows": null,
            "height": null,
            "justify_content": null,
            "justify_items": null,
            "left": null,
            "margin": null,
            "max_height": null,
            "max_width": null,
            "min_height": null,
            "min_width": null,
            "object_fit": null,
            "object_position": null,
            "order": null,
            "overflow": null,
            "overflow_x": null,
            "overflow_y": null,
            "padding": null,
            "right": null,
            "top": null,
            "visibility": null,
            "width": null
          }
        },
        "51d0e51205c74ca4be1f02a15601849d": {
          "model_module": "@jupyter-widgets/controls",
          "model_name": "DescriptionStyleModel",
          "model_module_version": "1.5.0",
          "state": {
            "_model_module": "@jupyter-widgets/controls",
            "_model_module_version": "1.5.0",
            "_model_name": "DescriptionStyleModel",
            "_view_count": null,
            "_view_module": "@jupyter-widgets/base",
            "_view_module_version": "1.2.0",
            "_view_name": "StyleView",
            "description_width": ""
          }
        },
        "42b8ea3de872419d87c60975726c3fd3": {
          "model_module": "@jupyter-widgets/controls",
          "model_name": "HBoxModel",
          "model_module_version": "1.5.0",
          "state": {
            "_dom_classes": [],
            "_model_module": "@jupyter-widgets/controls",
            "_model_module_version": "1.5.0",
            "_model_name": "HBoxModel",
            "_view_count": null,
            "_view_module": "@jupyter-widgets/controls",
            "_view_module_version": "1.5.0",
            "_view_name": "HBoxView",
            "box_style": "",
            "children": [
              "IPY_MODEL_aa297386e00b4d4dbd59ce7ba6b5ef5c",
              "IPY_MODEL_741518173e0141f48a14919c9a9db2dc",
              "IPY_MODEL_800025c27080452d85e457e4bb11fcf9"
            ],
            "layout": "IPY_MODEL_7e1fb7011a9e420aa0d8f16b5c9a30c1"
          }
        },
        "aa297386e00b4d4dbd59ce7ba6b5ef5c": {
          "model_module": "@jupyter-widgets/controls",
          "model_name": "HTMLModel",
          "model_module_version": "1.5.0",
          "state": {
            "_dom_classes": [],
            "_model_module": "@jupyter-widgets/controls",
            "_model_module_version": "1.5.0",
            "_model_name": "HTMLModel",
            "_view_count": null,
            "_view_module": "@jupyter-widgets/controls",
            "_view_module_version": "1.5.0",
            "_view_name": "HTMLView",
            "description": "",
            "description_tooltip": null,
            "layout": "IPY_MODEL_7a7845f370774fb1815bf77c32cad972",
            "placeholder": "​",
            "style": "IPY_MODEL_0e751d9e54064970917593bd733f605e",
            "value": "Validation DataLoader 0: 100%"
          }
        },
        "741518173e0141f48a14919c9a9db2dc": {
          "model_module": "@jupyter-widgets/controls",
          "model_name": "FloatProgressModel",
          "model_module_version": "1.5.0",
          "state": {
            "_dom_classes": [],
            "_model_module": "@jupyter-widgets/controls",
            "_model_module_version": "1.5.0",
            "_model_name": "FloatProgressModel",
            "_view_count": null,
            "_view_module": "@jupyter-widgets/controls",
            "_view_module_version": "1.5.0",
            "_view_name": "ProgressView",
            "bar_style": "",
            "description": "",
            "description_tooltip": null,
            "layout": "IPY_MODEL_a5e314a5df1e48d2985bb762ab77deb0",
            "max": 142,
            "min": 0,
            "orientation": "horizontal",
            "style": "IPY_MODEL_e4dc748faf1d4579b2c67abe8b95f2d2",
            "value": 142
          }
        },
        "800025c27080452d85e457e4bb11fcf9": {
          "model_module": "@jupyter-widgets/controls",
          "model_name": "HTMLModel",
          "model_module_version": "1.5.0",
          "state": {
            "_dom_classes": [],
            "_model_module": "@jupyter-widgets/controls",
            "_model_module_version": "1.5.0",
            "_model_name": "HTMLModel",
            "_view_count": null,
            "_view_module": "@jupyter-widgets/controls",
            "_view_module_version": "1.5.0",
            "_view_name": "HTMLView",
            "description": "",
            "description_tooltip": null,
            "layout": "IPY_MODEL_3f2c490232704e4083785b5e30151d3f",
            "placeholder": "​",
            "style": "IPY_MODEL_d466aac8f1d84fe7a0eceb5f732814b1",
            "value": " 142/142 [01:30&lt;00:00,  1.57it/s]"
          }
        },
        "7e1fb7011a9e420aa0d8f16b5c9a30c1": {
          "model_module": "@jupyter-widgets/base",
          "model_name": "LayoutModel",
          "model_module_version": "1.2.0",
          "state": {
            "_model_module": "@jupyter-widgets/base",
            "_model_module_version": "1.2.0",
            "_model_name": "LayoutModel",
            "_view_count": null,
            "_view_module": "@jupyter-widgets/base",
            "_view_module_version": "1.2.0",
            "_view_name": "LayoutView",
            "align_content": null,
            "align_items": null,
            "align_self": null,
            "border": null,
            "bottom": null,
            "display": "inline-flex",
            "flex": null,
            "flex_flow": "row wrap",
            "grid_area": null,
            "grid_auto_columns": null,
            "grid_auto_flow": null,
            "grid_auto_rows": null,
            "grid_column": null,
            "grid_gap": null,
            "grid_row": null,
            "grid_template_areas": null,
            "grid_template_columns": null,
            "grid_template_rows": null,
            "height": null,
            "justify_content": null,
            "justify_items": null,
            "left": null,
            "margin": null,
            "max_height": null,
            "max_width": null,
            "min_height": null,
            "min_width": null,
            "object_fit": null,
            "object_position": null,
            "order": null,
            "overflow": null,
            "overflow_x": null,
            "overflow_y": null,
            "padding": null,
            "right": null,
            "top": null,
            "visibility": "hidden",
            "width": "100%"
          }
        },
        "7a7845f370774fb1815bf77c32cad972": {
          "model_module": "@jupyter-widgets/base",
          "model_name": "LayoutModel",
          "model_module_version": "1.2.0",
          "state": {
            "_model_module": "@jupyter-widgets/base",
            "_model_module_version": "1.2.0",
            "_model_name": "LayoutModel",
            "_view_count": null,
            "_view_module": "@jupyter-widgets/base",
            "_view_module_version": "1.2.0",
            "_view_name": "LayoutView",
            "align_content": null,
            "align_items": null,
            "align_self": null,
            "border": null,
            "bottom": null,
            "display": null,
            "flex": null,
            "flex_flow": null,
            "grid_area": null,
            "grid_auto_columns": null,
            "grid_auto_flow": null,
            "grid_auto_rows": null,
            "grid_column": null,
            "grid_gap": null,
            "grid_row": null,
            "grid_template_areas": null,
            "grid_template_columns": null,
            "grid_template_rows": null,
            "height": null,
            "justify_content": null,
            "justify_items": null,
            "left": null,
            "margin": null,
            "max_height": null,
            "max_width": null,
            "min_height": null,
            "min_width": null,
            "object_fit": null,
            "object_position": null,
            "order": null,
            "overflow": null,
            "overflow_x": null,
            "overflow_y": null,
            "padding": null,
            "right": null,
            "top": null,
            "visibility": null,
            "width": null
          }
        },
        "0e751d9e54064970917593bd733f605e": {
          "model_module": "@jupyter-widgets/controls",
          "model_name": "DescriptionStyleModel",
          "model_module_version": "1.5.0",
          "state": {
            "_model_module": "@jupyter-widgets/controls",
            "_model_module_version": "1.5.0",
            "_model_name": "DescriptionStyleModel",
            "_view_count": null,
            "_view_module": "@jupyter-widgets/base",
            "_view_module_version": "1.2.0",
            "_view_name": "StyleView",
            "description_width": ""
          }
        },
        "a5e314a5df1e48d2985bb762ab77deb0": {
          "model_module": "@jupyter-widgets/base",
          "model_name": "LayoutModel",
          "model_module_version": "1.2.0",
          "state": {
            "_model_module": "@jupyter-widgets/base",
            "_model_module_version": "1.2.0",
            "_model_name": "LayoutModel",
            "_view_count": null,
            "_view_module": "@jupyter-widgets/base",
            "_view_module_version": "1.2.0",
            "_view_name": "LayoutView",
            "align_content": null,
            "align_items": null,
            "align_self": null,
            "border": null,
            "bottom": null,
            "display": null,
            "flex": "2",
            "flex_flow": null,
            "grid_area": null,
            "grid_auto_columns": null,
            "grid_auto_flow": null,
            "grid_auto_rows": null,
            "grid_column": null,
            "grid_gap": null,
            "grid_row": null,
            "grid_template_areas": null,
            "grid_template_columns": null,
            "grid_template_rows": null,
            "height": null,
            "justify_content": null,
            "justify_items": null,
            "left": null,
            "margin": null,
            "max_height": null,
            "max_width": null,
            "min_height": null,
            "min_width": null,
            "object_fit": null,
            "object_position": null,
            "order": null,
            "overflow": null,
            "overflow_x": null,
            "overflow_y": null,
            "padding": null,
            "right": null,
            "top": null,
            "visibility": null,
            "width": null
          }
        },
        "e4dc748faf1d4579b2c67abe8b95f2d2": {
          "model_module": "@jupyter-widgets/controls",
          "model_name": "ProgressStyleModel",
          "model_module_version": "1.5.0",
          "state": {
            "_model_module": "@jupyter-widgets/controls",
            "_model_module_version": "1.5.0",
            "_model_name": "ProgressStyleModel",
            "_view_count": null,
            "_view_module": "@jupyter-widgets/base",
            "_view_module_version": "1.2.0",
            "_view_name": "StyleView",
            "bar_color": null,
            "description_width": ""
          }
        },
        "3f2c490232704e4083785b5e30151d3f": {
          "model_module": "@jupyter-widgets/base",
          "model_name": "LayoutModel",
          "model_module_version": "1.2.0",
          "state": {
            "_model_module": "@jupyter-widgets/base",
            "_model_module_version": "1.2.0",
            "_model_name": "LayoutModel",
            "_view_count": null,
            "_view_module": "@jupyter-widgets/base",
            "_view_module_version": "1.2.0",
            "_view_name": "LayoutView",
            "align_content": null,
            "align_items": null,
            "align_self": null,
            "border": null,
            "bottom": null,
            "display": null,
            "flex": null,
            "flex_flow": null,
            "grid_area": null,
            "grid_auto_columns": null,
            "grid_auto_flow": null,
            "grid_auto_rows": null,
            "grid_column": null,
            "grid_gap": null,
            "grid_row": null,
            "grid_template_areas": null,
            "grid_template_columns": null,
            "grid_template_rows": null,
            "height": null,
            "justify_content": null,
            "justify_items": null,
            "left": null,
            "margin": null,
            "max_height": null,
            "max_width": null,
            "min_height": null,
            "min_width": null,
            "object_fit": null,
            "object_position": null,
            "order": null,
            "overflow": null,
            "overflow_x": null,
            "overflow_y": null,
            "padding": null,
            "right": null,
            "top": null,
            "visibility": null,
            "width": null
          }
        },
        "d466aac8f1d84fe7a0eceb5f732814b1": {
          "model_module": "@jupyter-widgets/controls",
          "model_name": "DescriptionStyleModel",
          "model_module_version": "1.5.0",
          "state": {
            "_model_module": "@jupyter-widgets/controls",
            "_model_module_version": "1.5.0",
            "_model_name": "DescriptionStyleModel",
            "_view_count": null,
            "_view_module": "@jupyter-widgets/base",
            "_view_module_version": "1.2.0",
            "_view_name": "StyleView",
            "description_width": ""
          }
        },
        "f367b4815ea14b2b94cb997c3c0c2c68": {
          "model_module": "@jupyter-widgets/controls",
          "model_name": "HBoxModel",
          "model_module_version": "1.5.0",
          "state": {
            "_dom_classes": [],
            "_model_module": "@jupyter-widgets/controls",
            "_model_module_version": "1.5.0",
            "_model_name": "HBoxModel",
            "_view_count": null,
            "_view_module": "@jupyter-widgets/controls",
            "_view_module_version": "1.5.0",
            "_view_name": "HBoxView",
            "box_style": "",
            "children": [
              "IPY_MODEL_5e767e896a6143a18b83057ae16ac3ca",
              "IPY_MODEL_d737251a1c4f4309843cc4dfc1cac0d3",
              "IPY_MODEL_cd47f1f59c1d427495341deaca3c90c0"
            ],
            "layout": "IPY_MODEL_c3356b2b7602478ebf8d613172deae43"
          }
        },
        "5e767e896a6143a18b83057ae16ac3ca": {
          "model_module": "@jupyter-widgets/controls",
          "model_name": "HTMLModel",
          "model_module_version": "1.5.0",
          "state": {
            "_dom_classes": [],
            "_model_module": "@jupyter-widgets/controls",
            "_model_module_version": "1.5.0",
            "_model_name": "HTMLModel",
            "_view_count": null,
            "_view_module": "@jupyter-widgets/controls",
            "_view_module_version": "1.5.0",
            "_view_name": "HTMLView",
            "description": "",
            "description_tooltip": null,
            "layout": "IPY_MODEL_f98c47a2b76749878394243cca5c9922",
            "placeholder": "​",
            "style": "IPY_MODEL_de45dd9ea58149648fc753fea983363d",
            "value": "Validation DataLoader 0: 100%"
          }
        },
        "d737251a1c4f4309843cc4dfc1cac0d3": {
          "model_module": "@jupyter-widgets/controls",
          "model_name": "FloatProgressModel",
          "model_module_version": "1.5.0",
          "state": {
            "_dom_classes": [],
            "_model_module": "@jupyter-widgets/controls",
            "_model_module_version": "1.5.0",
            "_model_name": "FloatProgressModel",
            "_view_count": null,
            "_view_module": "@jupyter-widgets/controls",
            "_view_module_version": "1.5.0",
            "_view_name": "ProgressView",
            "bar_style": "",
            "description": "",
            "description_tooltip": null,
            "layout": "IPY_MODEL_a56dd75abe744e8591ed8c54505f26e5",
            "max": 142,
            "min": 0,
            "orientation": "horizontal",
            "style": "IPY_MODEL_97173854c5094a67a0f4ec5bc21f616a",
            "value": 142
          }
        },
        "cd47f1f59c1d427495341deaca3c90c0": {
          "model_module": "@jupyter-widgets/controls",
          "model_name": "HTMLModel",
          "model_module_version": "1.5.0",
          "state": {
            "_dom_classes": [],
            "_model_module": "@jupyter-widgets/controls",
            "_model_module_version": "1.5.0",
            "_model_name": "HTMLModel",
            "_view_count": null,
            "_view_module": "@jupyter-widgets/controls",
            "_view_module_version": "1.5.0",
            "_view_name": "HTMLView",
            "description": "",
            "description_tooltip": null,
            "layout": "IPY_MODEL_5e42245f6c7d4fbe95ed1ef9dca23709",
            "placeholder": "​",
            "style": "IPY_MODEL_12f8102b3e3b4b3aa7716a83533a6b73",
            "value": " 142/142 [01:30&lt;00:00,  1.57it/s]"
          }
        },
        "c3356b2b7602478ebf8d613172deae43": {
          "model_module": "@jupyter-widgets/base",
          "model_name": "LayoutModel",
          "model_module_version": "1.2.0",
          "state": {
            "_model_module": "@jupyter-widgets/base",
            "_model_module_version": "1.2.0",
            "_model_name": "LayoutModel",
            "_view_count": null,
            "_view_module": "@jupyter-widgets/base",
            "_view_module_version": "1.2.0",
            "_view_name": "LayoutView",
            "align_content": null,
            "align_items": null,
            "align_self": null,
            "border": null,
            "bottom": null,
            "display": "inline-flex",
            "flex": null,
            "flex_flow": "row wrap",
            "grid_area": null,
            "grid_auto_columns": null,
            "grid_auto_flow": null,
            "grid_auto_rows": null,
            "grid_column": null,
            "grid_gap": null,
            "grid_row": null,
            "grid_template_areas": null,
            "grid_template_columns": null,
            "grid_template_rows": null,
            "height": null,
            "justify_content": null,
            "justify_items": null,
            "left": null,
            "margin": null,
            "max_height": null,
            "max_width": null,
            "min_height": null,
            "min_width": null,
            "object_fit": null,
            "object_position": null,
            "order": null,
            "overflow": null,
            "overflow_x": null,
            "overflow_y": null,
            "padding": null,
            "right": null,
            "top": null,
            "visibility": "hidden",
            "width": "100%"
          }
        },
        "f98c47a2b76749878394243cca5c9922": {
          "model_module": "@jupyter-widgets/base",
          "model_name": "LayoutModel",
          "model_module_version": "1.2.0",
          "state": {
            "_model_module": "@jupyter-widgets/base",
            "_model_module_version": "1.2.0",
            "_model_name": "LayoutModel",
            "_view_count": null,
            "_view_module": "@jupyter-widgets/base",
            "_view_module_version": "1.2.0",
            "_view_name": "LayoutView",
            "align_content": null,
            "align_items": null,
            "align_self": null,
            "border": null,
            "bottom": null,
            "display": null,
            "flex": null,
            "flex_flow": null,
            "grid_area": null,
            "grid_auto_columns": null,
            "grid_auto_flow": null,
            "grid_auto_rows": null,
            "grid_column": null,
            "grid_gap": null,
            "grid_row": null,
            "grid_template_areas": null,
            "grid_template_columns": null,
            "grid_template_rows": null,
            "height": null,
            "justify_content": null,
            "justify_items": null,
            "left": null,
            "margin": null,
            "max_height": null,
            "max_width": null,
            "min_height": null,
            "min_width": null,
            "object_fit": null,
            "object_position": null,
            "order": null,
            "overflow": null,
            "overflow_x": null,
            "overflow_y": null,
            "padding": null,
            "right": null,
            "top": null,
            "visibility": null,
            "width": null
          }
        },
        "de45dd9ea58149648fc753fea983363d": {
          "model_module": "@jupyter-widgets/controls",
          "model_name": "DescriptionStyleModel",
          "model_module_version": "1.5.0",
          "state": {
            "_model_module": "@jupyter-widgets/controls",
            "_model_module_version": "1.5.0",
            "_model_name": "DescriptionStyleModel",
            "_view_count": null,
            "_view_module": "@jupyter-widgets/base",
            "_view_module_version": "1.2.0",
            "_view_name": "StyleView",
            "description_width": ""
          }
        },
        "a56dd75abe744e8591ed8c54505f26e5": {
          "model_module": "@jupyter-widgets/base",
          "model_name": "LayoutModel",
          "model_module_version": "1.2.0",
          "state": {
            "_model_module": "@jupyter-widgets/base",
            "_model_module_version": "1.2.0",
            "_model_name": "LayoutModel",
            "_view_count": null,
            "_view_module": "@jupyter-widgets/base",
            "_view_module_version": "1.2.0",
            "_view_name": "LayoutView",
            "align_content": null,
            "align_items": null,
            "align_self": null,
            "border": null,
            "bottom": null,
            "display": null,
            "flex": "2",
            "flex_flow": null,
            "grid_area": null,
            "grid_auto_columns": null,
            "grid_auto_flow": null,
            "grid_auto_rows": null,
            "grid_column": null,
            "grid_gap": null,
            "grid_row": null,
            "grid_template_areas": null,
            "grid_template_columns": null,
            "grid_template_rows": null,
            "height": null,
            "justify_content": null,
            "justify_items": null,
            "left": null,
            "margin": null,
            "max_height": null,
            "max_width": null,
            "min_height": null,
            "min_width": null,
            "object_fit": null,
            "object_position": null,
            "order": null,
            "overflow": null,
            "overflow_x": null,
            "overflow_y": null,
            "padding": null,
            "right": null,
            "top": null,
            "visibility": null,
            "width": null
          }
        },
        "97173854c5094a67a0f4ec5bc21f616a": {
          "model_module": "@jupyter-widgets/controls",
          "model_name": "ProgressStyleModel",
          "model_module_version": "1.5.0",
          "state": {
            "_model_module": "@jupyter-widgets/controls",
            "_model_module_version": "1.5.0",
            "_model_name": "ProgressStyleModel",
            "_view_count": null,
            "_view_module": "@jupyter-widgets/base",
            "_view_module_version": "1.2.0",
            "_view_name": "StyleView",
            "bar_color": null,
            "description_width": ""
          }
        },
        "5e42245f6c7d4fbe95ed1ef9dca23709": {
          "model_module": "@jupyter-widgets/base",
          "model_name": "LayoutModel",
          "model_module_version": "1.2.0",
          "state": {
            "_model_module": "@jupyter-widgets/base",
            "_model_module_version": "1.2.0",
            "_model_name": "LayoutModel",
            "_view_count": null,
            "_view_module": "@jupyter-widgets/base",
            "_view_module_version": "1.2.0",
            "_view_name": "LayoutView",
            "align_content": null,
            "align_items": null,
            "align_self": null,
            "border": null,
            "bottom": null,
            "display": null,
            "flex": null,
            "flex_flow": null,
            "grid_area": null,
            "grid_auto_columns": null,
            "grid_auto_flow": null,
            "grid_auto_rows": null,
            "grid_column": null,
            "grid_gap": null,
            "grid_row": null,
            "grid_template_areas": null,
            "grid_template_columns": null,
            "grid_template_rows": null,
            "height": null,
            "justify_content": null,
            "justify_items": null,
            "left": null,
            "margin": null,
            "max_height": null,
            "max_width": null,
            "min_height": null,
            "min_width": null,
            "object_fit": null,
            "object_position": null,
            "order": null,
            "overflow": null,
            "overflow_x": null,
            "overflow_y": null,
            "padding": null,
            "right": null,
            "top": null,
            "visibility": null,
            "width": null
          }
        },
        "12f8102b3e3b4b3aa7716a83533a6b73": {
          "model_module": "@jupyter-widgets/controls",
          "model_name": "DescriptionStyleModel",
          "model_module_version": "1.5.0",
          "state": {
            "_model_module": "@jupyter-widgets/controls",
            "_model_module_version": "1.5.0",
            "_model_name": "DescriptionStyleModel",
            "_view_count": null,
            "_view_module": "@jupyter-widgets/base",
            "_view_module_version": "1.2.0",
            "_view_name": "StyleView",
            "description_width": ""
          }
        },
        "2d3674367ec54658aa8c05ca710efee0": {
          "model_module": "@jupyter-widgets/controls",
          "model_name": "HBoxModel",
          "model_module_version": "1.5.0",
          "state": {
            "_dom_classes": [],
            "_model_module": "@jupyter-widgets/controls",
            "_model_module_version": "1.5.0",
            "_model_name": "HBoxModel",
            "_view_count": null,
            "_view_module": "@jupyter-widgets/controls",
            "_view_module_version": "1.5.0",
            "_view_name": "HBoxView",
            "box_style": "",
            "children": [
              "IPY_MODEL_169fb8eaf01a4234a260a33bf9ad4037",
              "IPY_MODEL_e70b2a1f95064b6cb71ad49e0cdb9abf",
              "IPY_MODEL_65cf3743b5d2428ea81c721f560a13c2"
            ],
            "layout": "IPY_MODEL_4e6aa73a9a1643a7901406b9d598afe9"
          }
        },
        "169fb8eaf01a4234a260a33bf9ad4037": {
          "model_module": "@jupyter-widgets/controls",
          "model_name": "HTMLModel",
          "model_module_version": "1.5.0",
          "state": {
            "_dom_classes": [],
            "_model_module": "@jupyter-widgets/controls",
            "_model_module_version": "1.5.0",
            "_model_name": "HTMLModel",
            "_view_count": null,
            "_view_module": "@jupyter-widgets/controls",
            "_view_module_version": "1.5.0",
            "_view_name": "HTMLView",
            "description": "",
            "description_tooltip": null,
            "layout": "IPY_MODEL_679a13ef648e440e816ce5d7dd47831f",
            "placeholder": "​",
            "style": "IPY_MODEL_fb8eee136c164c0fb7d6c736d07319f6",
            "value": "Validation DataLoader 0: 100%"
          }
        },
        "e70b2a1f95064b6cb71ad49e0cdb9abf": {
          "model_module": "@jupyter-widgets/controls",
          "model_name": "FloatProgressModel",
          "model_module_version": "1.5.0",
          "state": {
            "_dom_classes": [],
            "_model_module": "@jupyter-widgets/controls",
            "_model_module_version": "1.5.0",
            "_model_name": "FloatProgressModel",
            "_view_count": null,
            "_view_module": "@jupyter-widgets/controls",
            "_view_module_version": "1.5.0",
            "_view_name": "ProgressView",
            "bar_style": "",
            "description": "",
            "description_tooltip": null,
            "layout": "IPY_MODEL_163b1beead7241cc915f5e86a82de5ea",
            "max": 142,
            "min": 0,
            "orientation": "horizontal",
            "style": "IPY_MODEL_f2aa7cadd51049ea84cbbcce283dbcba",
            "value": 142
          }
        },
        "65cf3743b5d2428ea81c721f560a13c2": {
          "model_module": "@jupyter-widgets/controls",
          "model_name": "HTMLModel",
          "model_module_version": "1.5.0",
          "state": {
            "_dom_classes": [],
            "_model_module": "@jupyter-widgets/controls",
            "_model_module_version": "1.5.0",
            "_model_name": "HTMLModel",
            "_view_count": null,
            "_view_module": "@jupyter-widgets/controls",
            "_view_module_version": "1.5.0",
            "_view_name": "HTMLView",
            "description": "",
            "description_tooltip": null,
            "layout": "IPY_MODEL_12b780f115144a898459b4dd7df3f9a3",
            "placeholder": "​",
            "style": "IPY_MODEL_440ebf11df234a5fbc1beb0e04900970",
            "value": " 142/142 [01:30&lt;00:00,  1.57it/s]"
          }
        },
        "4e6aa73a9a1643a7901406b9d598afe9": {
          "model_module": "@jupyter-widgets/base",
          "model_name": "LayoutModel",
          "model_module_version": "1.2.0",
          "state": {
            "_model_module": "@jupyter-widgets/base",
            "_model_module_version": "1.2.0",
            "_model_name": "LayoutModel",
            "_view_count": null,
            "_view_module": "@jupyter-widgets/base",
            "_view_module_version": "1.2.0",
            "_view_name": "LayoutView",
            "align_content": null,
            "align_items": null,
            "align_self": null,
            "border": null,
            "bottom": null,
            "display": "inline-flex",
            "flex": null,
            "flex_flow": "row wrap",
            "grid_area": null,
            "grid_auto_columns": null,
            "grid_auto_flow": null,
            "grid_auto_rows": null,
            "grid_column": null,
            "grid_gap": null,
            "grid_row": null,
            "grid_template_areas": null,
            "grid_template_columns": null,
            "grid_template_rows": null,
            "height": null,
            "justify_content": null,
            "justify_items": null,
            "left": null,
            "margin": null,
            "max_height": null,
            "max_width": null,
            "min_height": null,
            "min_width": null,
            "object_fit": null,
            "object_position": null,
            "order": null,
            "overflow": null,
            "overflow_x": null,
            "overflow_y": null,
            "padding": null,
            "right": null,
            "top": null,
            "visibility": "hidden",
            "width": "100%"
          }
        },
        "679a13ef648e440e816ce5d7dd47831f": {
          "model_module": "@jupyter-widgets/base",
          "model_name": "LayoutModel",
          "model_module_version": "1.2.0",
          "state": {
            "_model_module": "@jupyter-widgets/base",
            "_model_module_version": "1.2.0",
            "_model_name": "LayoutModel",
            "_view_count": null,
            "_view_module": "@jupyter-widgets/base",
            "_view_module_version": "1.2.0",
            "_view_name": "LayoutView",
            "align_content": null,
            "align_items": null,
            "align_self": null,
            "border": null,
            "bottom": null,
            "display": null,
            "flex": null,
            "flex_flow": null,
            "grid_area": null,
            "grid_auto_columns": null,
            "grid_auto_flow": null,
            "grid_auto_rows": null,
            "grid_column": null,
            "grid_gap": null,
            "grid_row": null,
            "grid_template_areas": null,
            "grid_template_columns": null,
            "grid_template_rows": null,
            "height": null,
            "justify_content": null,
            "justify_items": null,
            "left": null,
            "margin": null,
            "max_height": null,
            "max_width": null,
            "min_height": null,
            "min_width": null,
            "object_fit": null,
            "object_position": null,
            "order": null,
            "overflow": null,
            "overflow_x": null,
            "overflow_y": null,
            "padding": null,
            "right": null,
            "top": null,
            "visibility": null,
            "width": null
          }
        },
        "fb8eee136c164c0fb7d6c736d07319f6": {
          "model_module": "@jupyter-widgets/controls",
          "model_name": "DescriptionStyleModel",
          "model_module_version": "1.5.0",
          "state": {
            "_model_module": "@jupyter-widgets/controls",
            "_model_module_version": "1.5.0",
            "_model_name": "DescriptionStyleModel",
            "_view_count": null,
            "_view_module": "@jupyter-widgets/base",
            "_view_module_version": "1.2.0",
            "_view_name": "StyleView",
            "description_width": ""
          }
        },
        "163b1beead7241cc915f5e86a82de5ea": {
          "model_module": "@jupyter-widgets/base",
          "model_name": "LayoutModel",
          "model_module_version": "1.2.0",
          "state": {
            "_model_module": "@jupyter-widgets/base",
            "_model_module_version": "1.2.0",
            "_model_name": "LayoutModel",
            "_view_count": null,
            "_view_module": "@jupyter-widgets/base",
            "_view_module_version": "1.2.0",
            "_view_name": "LayoutView",
            "align_content": null,
            "align_items": null,
            "align_self": null,
            "border": null,
            "bottom": null,
            "display": null,
            "flex": "2",
            "flex_flow": null,
            "grid_area": null,
            "grid_auto_columns": null,
            "grid_auto_flow": null,
            "grid_auto_rows": null,
            "grid_column": null,
            "grid_gap": null,
            "grid_row": null,
            "grid_template_areas": null,
            "grid_template_columns": null,
            "grid_template_rows": null,
            "height": null,
            "justify_content": null,
            "justify_items": null,
            "left": null,
            "margin": null,
            "max_height": null,
            "max_width": null,
            "min_height": null,
            "min_width": null,
            "object_fit": null,
            "object_position": null,
            "order": null,
            "overflow": null,
            "overflow_x": null,
            "overflow_y": null,
            "padding": null,
            "right": null,
            "top": null,
            "visibility": null,
            "width": null
          }
        },
        "f2aa7cadd51049ea84cbbcce283dbcba": {
          "model_module": "@jupyter-widgets/controls",
          "model_name": "ProgressStyleModel",
          "model_module_version": "1.5.0",
          "state": {
            "_model_module": "@jupyter-widgets/controls",
            "_model_module_version": "1.5.0",
            "_model_name": "ProgressStyleModel",
            "_view_count": null,
            "_view_module": "@jupyter-widgets/base",
            "_view_module_version": "1.2.0",
            "_view_name": "StyleView",
            "bar_color": null,
            "description_width": ""
          }
        },
        "12b780f115144a898459b4dd7df3f9a3": {
          "model_module": "@jupyter-widgets/base",
          "model_name": "LayoutModel",
          "model_module_version": "1.2.0",
          "state": {
            "_model_module": "@jupyter-widgets/base",
            "_model_module_version": "1.2.0",
            "_model_name": "LayoutModel",
            "_view_count": null,
            "_view_module": "@jupyter-widgets/base",
            "_view_module_version": "1.2.0",
            "_view_name": "LayoutView",
            "align_content": null,
            "align_items": null,
            "align_self": null,
            "border": null,
            "bottom": null,
            "display": null,
            "flex": null,
            "flex_flow": null,
            "grid_area": null,
            "grid_auto_columns": null,
            "grid_auto_flow": null,
            "grid_auto_rows": null,
            "grid_column": null,
            "grid_gap": null,
            "grid_row": null,
            "grid_template_areas": null,
            "grid_template_columns": null,
            "grid_template_rows": null,
            "height": null,
            "justify_content": null,
            "justify_items": null,
            "left": null,
            "margin": null,
            "max_height": null,
            "max_width": null,
            "min_height": null,
            "min_width": null,
            "object_fit": null,
            "object_position": null,
            "order": null,
            "overflow": null,
            "overflow_x": null,
            "overflow_y": null,
            "padding": null,
            "right": null,
            "top": null,
            "visibility": null,
            "width": null
          }
        },
        "440ebf11df234a5fbc1beb0e04900970": {
          "model_module": "@jupyter-widgets/controls",
          "model_name": "DescriptionStyleModel",
          "model_module_version": "1.5.0",
          "state": {
            "_model_module": "@jupyter-widgets/controls",
            "_model_module_version": "1.5.0",
            "_model_name": "DescriptionStyleModel",
            "_view_count": null,
            "_view_module": "@jupyter-widgets/base",
            "_view_module_version": "1.2.0",
            "_view_name": "StyleView",
            "description_width": ""
          }
        },
        "6f5c5296b0c240518badb28fee75e41c": {
          "model_module": "@jupyter-widgets/controls",
          "model_name": "HBoxModel",
          "model_module_version": "1.5.0",
          "state": {
            "_dom_classes": [],
            "_model_module": "@jupyter-widgets/controls",
            "_model_module_version": "1.5.0",
            "_model_name": "HBoxModel",
            "_view_count": null,
            "_view_module": "@jupyter-widgets/controls",
            "_view_module_version": "1.5.0",
            "_view_name": "HBoxView",
            "box_style": "",
            "children": [
              "IPY_MODEL_ca19c92ef27944cb8c4c28db2f82c51d",
              "IPY_MODEL_d888b984a0a74eef8e6fc3a413c89e8a",
              "IPY_MODEL_b849dbf7e9b64787bb2c5f40451b7e41"
            ],
            "layout": "IPY_MODEL_d0b8b5e45abf4e1cb767e8fef85f1319"
          }
        },
        "ca19c92ef27944cb8c4c28db2f82c51d": {
          "model_module": "@jupyter-widgets/controls",
          "model_name": "HTMLModel",
          "model_module_version": "1.5.0",
          "state": {
            "_dom_classes": [],
            "_model_module": "@jupyter-widgets/controls",
            "_model_module_version": "1.5.0",
            "_model_name": "HTMLModel",
            "_view_count": null,
            "_view_module": "@jupyter-widgets/controls",
            "_view_module_version": "1.5.0",
            "_view_name": "HTMLView",
            "description": "",
            "description_tooltip": null,
            "layout": "IPY_MODEL_f7b082edeaf346b4b50d9bc94935ecd9",
            "placeholder": "​",
            "style": "IPY_MODEL_5a6ec420a5b24b0dab6b8ab765af57be",
            "value": "Testing DataLoader 0: 100%"
          }
        },
        "d888b984a0a74eef8e6fc3a413c89e8a": {
          "model_module": "@jupyter-widgets/controls",
          "model_name": "FloatProgressModel",
          "model_module_version": "1.5.0",
          "state": {
            "_dom_classes": [],
            "_model_module": "@jupyter-widgets/controls",
            "_model_module_version": "1.5.0",
            "_model_name": "FloatProgressModel",
            "_view_count": null,
            "_view_module": "@jupyter-widgets/controls",
            "_view_module_version": "1.5.0",
            "_view_name": "ProgressView",
            "bar_style": "success",
            "description": "",
            "description_tooltip": null,
            "layout": "IPY_MODEL_a89025448b1f4d6d93ec0fa8e42ef8f9",
            "max": 471,
            "min": 0,
            "orientation": "horizontal",
            "style": "IPY_MODEL_5e6f4bac0a1f42888e38847f78e43d32",
            "value": 471
          }
        },
        "b849dbf7e9b64787bb2c5f40451b7e41": {
          "model_module": "@jupyter-widgets/controls",
          "model_name": "HTMLModel",
          "model_module_version": "1.5.0",
          "state": {
            "_dom_classes": [],
            "_model_module": "@jupyter-widgets/controls",
            "_model_module_version": "1.5.0",
            "_model_name": "HTMLModel",
            "_view_count": null,
            "_view_module": "@jupyter-widgets/controls",
            "_view_module_version": "1.5.0",
            "_view_name": "HTMLView",
            "description": "",
            "description_tooltip": null,
            "layout": "IPY_MODEL_49d05e31d30148c7a5c9357911fc1468",
            "placeholder": "​",
            "style": "IPY_MODEL_ff96034760784c07b0d9fabfae753047",
            "value": " 471/471 [05:08&lt;00:00,  1.53it/s]"
          }
        },
        "d0b8b5e45abf4e1cb767e8fef85f1319": {
          "model_module": "@jupyter-widgets/base",
          "model_name": "LayoutModel",
          "model_module_version": "1.2.0",
          "state": {
            "_model_module": "@jupyter-widgets/base",
            "_model_module_version": "1.2.0",
            "_model_name": "LayoutModel",
            "_view_count": null,
            "_view_module": "@jupyter-widgets/base",
            "_view_module_version": "1.2.0",
            "_view_name": "LayoutView",
            "align_content": null,
            "align_items": null,
            "align_self": null,
            "border": null,
            "bottom": null,
            "display": "inline-flex",
            "flex": null,
            "flex_flow": "row wrap",
            "grid_area": null,
            "grid_auto_columns": null,
            "grid_auto_flow": null,
            "grid_auto_rows": null,
            "grid_column": null,
            "grid_gap": null,
            "grid_row": null,
            "grid_template_areas": null,
            "grid_template_columns": null,
            "grid_template_rows": null,
            "height": null,
            "justify_content": null,
            "justify_items": null,
            "left": null,
            "margin": null,
            "max_height": null,
            "max_width": null,
            "min_height": null,
            "min_width": null,
            "object_fit": null,
            "object_position": null,
            "order": null,
            "overflow": null,
            "overflow_x": null,
            "overflow_y": null,
            "padding": null,
            "right": null,
            "top": null,
            "visibility": null,
            "width": "100%"
          }
        },
        "f7b082edeaf346b4b50d9bc94935ecd9": {
          "model_module": "@jupyter-widgets/base",
          "model_name": "LayoutModel",
          "model_module_version": "1.2.0",
          "state": {
            "_model_module": "@jupyter-widgets/base",
            "_model_module_version": "1.2.0",
            "_model_name": "LayoutModel",
            "_view_count": null,
            "_view_module": "@jupyter-widgets/base",
            "_view_module_version": "1.2.0",
            "_view_name": "LayoutView",
            "align_content": null,
            "align_items": null,
            "align_self": null,
            "border": null,
            "bottom": null,
            "display": null,
            "flex": null,
            "flex_flow": null,
            "grid_area": null,
            "grid_auto_columns": null,
            "grid_auto_flow": null,
            "grid_auto_rows": null,
            "grid_column": null,
            "grid_gap": null,
            "grid_row": null,
            "grid_template_areas": null,
            "grid_template_columns": null,
            "grid_template_rows": null,
            "height": null,
            "justify_content": null,
            "justify_items": null,
            "left": null,
            "margin": null,
            "max_height": null,
            "max_width": null,
            "min_height": null,
            "min_width": null,
            "object_fit": null,
            "object_position": null,
            "order": null,
            "overflow": null,
            "overflow_x": null,
            "overflow_y": null,
            "padding": null,
            "right": null,
            "top": null,
            "visibility": null,
            "width": null
          }
        },
        "5a6ec420a5b24b0dab6b8ab765af57be": {
          "model_module": "@jupyter-widgets/controls",
          "model_name": "DescriptionStyleModel",
          "model_module_version": "1.5.0",
          "state": {
            "_model_module": "@jupyter-widgets/controls",
            "_model_module_version": "1.5.0",
            "_model_name": "DescriptionStyleModel",
            "_view_count": null,
            "_view_module": "@jupyter-widgets/base",
            "_view_module_version": "1.2.0",
            "_view_name": "StyleView",
            "description_width": ""
          }
        },
        "a89025448b1f4d6d93ec0fa8e42ef8f9": {
          "model_module": "@jupyter-widgets/base",
          "model_name": "LayoutModel",
          "model_module_version": "1.2.0",
          "state": {
            "_model_module": "@jupyter-widgets/base",
            "_model_module_version": "1.2.0",
            "_model_name": "LayoutModel",
            "_view_count": null,
            "_view_module": "@jupyter-widgets/base",
            "_view_module_version": "1.2.0",
            "_view_name": "LayoutView",
            "align_content": null,
            "align_items": null,
            "align_self": null,
            "border": null,
            "bottom": null,
            "display": null,
            "flex": "2",
            "flex_flow": null,
            "grid_area": null,
            "grid_auto_columns": null,
            "grid_auto_flow": null,
            "grid_auto_rows": null,
            "grid_column": null,
            "grid_gap": null,
            "grid_row": null,
            "grid_template_areas": null,
            "grid_template_columns": null,
            "grid_template_rows": null,
            "height": null,
            "justify_content": null,
            "justify_items": null,
            "left": null,
            "margin": null,
            "max_height": null,
            "max_width": null,
            "min_height": null,
            "min_width": null,
            "object_fit": null,
            "object_position": null,
            "order": null,
            "overflow": null,
            "overflow_x": null,
            "overflow_y": null,
            "padding": null,
            "right": null,
            "top": null,
            "visibility": null,
            "width": null
          }
        },
        "5e6f4bac0a1f42888e38847f78e43d32": {
          "model_module": "@jupyter-widgets/controls",
          "model_name": "ProgressStyleModel",
          "model_module_version": "1.5.0",
          "state": {
            "_model_module": "@jupyter-widgets/controls",
            "_model_module_version": "1.5.0",
            "_model_name": "ProgressStyleModel",
            "_view_count": null,
            "_view_module": "@jupyter-widgets/base",
            "_view_module_version": "1.2.0",
            "_view_name": "StyleView",
            "bar_color": null,
            "description_width": ""
          }
        },
        "49d05e31d30148c7a5c9357911fc1468": {
          "model_module": "@jupyter-widgets/base",
          "model_name": "LayoutModel",
          "model_module_version": "1.2.0",
          "state": {
            "_model_module": "@jupyter-widgets/base",
            "_model_module_version": "1.2.0",
            "_model_name": "LayoutModel",
            "_view_count": null,
            "_view_module": "@jupyter-widgets/base",
            "_view_module_version": "1.2.0",
            "_view_name": "LayoutView",
            "align_content": null,
            "align_items": null,
            "align_self": null,
            "border": null,
            "bottom": null,
            "display": null,
            "flex": null,
            "flex_flow": null,
            "grid_area": null,
            "grid_auto_columns": null,
            "grid_auto_flow": null,
            "grid_auto_rows": null,
            "grid_column": null,
            "grid_gap": null,
            "grid_row": null,
            "grid_template_areas": null,
            "grid_template_columns": null,
            "grid_template_rows": null,
            "height": null,
            "justify_content": null,
            "justify_items": null,
            "left": null,
            "margin": null,
            "max_height": null,
            "max_width": null,
            "min_height": null,
            "min_width": null,
            "object_fit": null,
            "object_position": null,
            "order": null,
            "overflow": null,
            "overflow_x": null,
            "overflow_y": null,
            "padding": null,
            "right": null,
            "top": null,
            "visibility": null,
            "width": null
          }
        },
        "ff96034760784c07b0d9fabfae753047": {
          "model_module": "@jupyter-widgets/controls",
          "model_name": "DescriptionStyleModel",
          "model_module_version": "1.5.0",
          "state": {
            "_model_module": "@jupyter-widgets/controls",
            "_model_module_version": "1.5.0",
            "_model_name": "DescriptionStyleModel",
            "_view_count": null,
            "_view_module": "@jupyter-widgets/base",
            "_view_module_version": "1.2.0",
            "_view_name": "StyleView",
            "description_width": ""
          }
        }
      }
    }
  },
  "cells": [
    {
      "cell_type": "markdown",
      "source": [
        "## 1. Setup\n",
        "Import necessary libraries.\\\n",
        "Set a seed for reproducibility using L.seed_everything"
      ],
      "metadata": {
        "id": "9J-Jgtq1AseK"
      }
    },
    {
      "cell_type": "code",
      "execution_count": null,
      "metadata": {
        "colab": {
          "base_uri": "https://localhost:8080/"
        },
        "id": "MZc2PIn1aAhO",
        "outputId": "518cdb11-2d3e-4e35-fdc0-04ff59e25fd0"
      },
      "outputs": [
        {
          "output_type": "stream",
          "name": "stderr",
          "text": [
            "INFO: Seed set to 1999\n",
            "INFO:lightning.fabric.utilities.seed:Seed set to 1999\n"
          ]
        },
        {
          "output_type": "stream",
          "name": "stdout",
          "text": [
            "The rich extension is already loaded. To reload it, use:\n",
            "  %reload_ext rich\n"
          ]
        }
      ],
      "source": [
        "import os\n",
        "\n",
        "import lightning as L\n",
        "import matplotlib.pyplot as plt\n",
        "import numpy as np\n",
        "import seaborn as sns\n",
        "import torch\n",
        "import torch.nn as nn\n",
        "import torch.nn.functional as F\n",
        "from lightning.pytorch.callbacks import ModelCheckpoint\n",
        "from rich import print\n",
        "from sklearn.datasets import fetch_20newsgroups\n",
        "from torch.utils.data import DataLoader, Dataset\n",
        "from transformers import GPT2Config, GPT2Model, GPT2Tokenizer\n",
        "\n",
        "L.seed_everything(1999)\n",
        "\n",
        "%load_ext rich\n",
        "\n",
        "# DATA_DIR = os.path.join(os.getcwd(), \"data\")"
      ]
    },
    {
      "cell_type": "markdown",
      "source": [
        "## 2. Hyperparameters & Device Configuration\n",
        "\n",
        "- **BATCH_SIZE**: The number of samples processed before the model is updated. Setting `BATCH_SIZE = 16` means the model will process 16 samples in one iteration.\n",
        "  \n",
        "- **MAX_LENGTH**: The maximum length of the input sequence. `MAX_LENGTH = 512` ensures that each input sequence is either padded or truncated to 512 tokens.\n",
        "  \n",
        "- **LEARNING_RATE**: The step size at each iteration while moving toward a minimum of the loss function. `LEARNING_RATE = 1e-5` is a very small learning rate, indicating slow and steady adjustments to the weights.\n",
        "  \n",
        "- **N_EMBED**: The dimension of the embedding vectors. `N_EMBED = 768` means each token in the input sequence will be represented by a 768-dimensional vector.\n",
        "  \n",
        "- **N_HEADS**: The number of attention heads in the multi-head attention mechanism. `N_HEADS = 2` means there are 2 parallel attention layers, or heads.\n",
        "  \n",
        "- **N_BLOCKS**: The number of Transformer blocks (layers) in the model. `N_BLOCKS = 12` means the model consists of 12 layers stacked together.\n",
        "  \n",
        "- **DROPOUT**: The dropout rate used to prevent overfitting. `DROPOUT = 0.2` means 20% of the neurons will be randomly set to zero during training.\n",
        "  \n",
        "- **NUM_LABELS**: The number of output labels or classes for the classification task. `NUM_LABELS = 20` indicates that the model is designed for a 20-class classification problem.\n",
        "  \n",
        "- **device**: The device to be used for computation, either GPU (cuda) if available or CPU. This ensures that the code runs on the GPU if it's available, otherwise it defaults to the CPU.\n"
      ],
      "metadata": {
        "id": "aRuHKTzq--Gv"
      }
    },
    {
      "cell_type": "code",
      "source": [
        "# --- MODEL HYPERPARAMETERS ---\n",
        "BATCH_SIZE = 16\n",
        "MAX_LENGTH = 512\n",
        "\n",
        "LEARNING_RATE = 1e-5\n",
        "\n",
        "N_EMBED = 768\n",
        "N_HEADS = 2\n",
        "N_BLOCKS = 12\n",
        "DROPOUT = 0.2\n",
        "NUM_LABELS = 20\n",
        "\n",
        "device = \"cuda\" if torch.cuda.is_available() else \"cpu\"\n"
      ],
      "metadata": {
        "id": "9vgtKZMgaKoN"
      },
      "execution_count": null,
      "outputs": []
    },
    {
      "cell_type": "markdown",
      "source": [
        "## 3. Data Loading and Exploration\n",
        "\n",
        "Fetching Data: The code uses the fetch_20newsgroups function from the sklearn.datasets module to load the 20 Newsgroups dataset. This dataset is a collection of approximately 20,000 newsgroup documents, partitioned across 20 different newsgroups.\n",
        "\n",
        "\n",
        "train = fetch_20newsgroups(subset='train'): Loads the training subset.\n",
        "test = fetch_20newsgroups(subset='test'): Loads the test subset.\n",
        "Displaying Dataset Information\n"
      ],
      "metadata": {
        "id": "wAWAbinLBSP4"
      }
    },
    {
      "cell_type": "code",
      "source": [
        "\n",
        "train = fetch_20newsgroups(subset='train')\n",
        "test = fetch_20newsgroups(subset='test')\n",
        "\n",
        "# Display some information about the dataset\n",
        "print(f\"Number of training samples: {len(train.data)}\")\n",
        "print(f\"Number of test samples: {len(test.data)}\")\n",
        "print(f\"Number of categories: {len(train.target_names)}\")\n",
        "print(f\"Categories: {train.target_names}\")\n",
        "\n",
        "# Display the first document and its category\n",
        "print(f\"\\nFirst document:\\n{train.data[0]}\")\n",
        "print(f\"Category: {train.target_names[train.target[0]]}\")\n",
        "\n",
        "\n",
        "\n",
        "plt.figure(figsize=(12, 7))\n",
        "sns.countplot(x=train.target)\n",
        "plt.title('Target Counts')\n",
        "plt.xlabel('Target')\n",
        "plt.ylabel('Count')\n",
        "plt.show()\n",
        "\n",
        "len(train.data), len(test.data)"
      ],
      "metadata": {
        "colab": {
          "base_uri": "https://localhost:8080/",
          "height": 1000
        },
        "id": "Dw2Mn0H2aUwW",
        "outputId": "1109bd56-3355-49f6-a009-613f8c3b38a8"
      },
      "execution_count": null,
      "outputs": [
        {
          "output_type": "display_data",
          "data": {
            "text/plain": [
              "Number of training samples: \u001b[1;36m11314\u001b[0m\n"
            ],
            "text/html": [
              "<pre style=\"white-space:pre;overflow-x:auto;line-height:normal;font-family:Menlo,'DejaVu Sans Mono',consolas,'Courier New',monospace\">Number of training samples: <span style=\"color: #008080; text-decoration-color: #008080; font-weight: bold\">11314</span>\n",
              "</pre>\n"
            ]
          },
          "metadata": {}
        },
        {
          "output_type": "display_data",
          "data": {
            "text/plain": [
              "Number of test samples: \u001b[1;36m7532\u001b[0m\n"
            ],
            "text/html": [
              "<pre style=\"white-space:pre;overflow-x:auto;line-height:normal;font-family:Menlo,'DejaVu Sans Mono',consolas,'Courier New',monospace\">Number of test samples: <span style=\"color: #008080; text-decoration-color: #008080; font-weight: bold\">7532</span>\n",
              "</pre>\n"
            ]
          },
          "metadata": {}
        },
        {
          "output_type": "display_data",
          "data": {
            "text/plain": [
              "Number of categories: \u001b[1;36m20\u001b[0m\n"
            ],
            "text/html": [
              "<pre style=\"white-space:pre;overflow-x:auto;line-height:normal;font-family:Menlo,'DejaVu Sans Mono',consolas,'Courier New',monospace\">Number of categories: <span style=\"color: #008080; text-decoration-color: #008080; font-weight: bold\">20</span>\n",
              "</pre>\n"
            ]
          },
          "metadata": {}
        },
        {
          "output_type": "display_data",
          "data": {
            "text/plain": [
              "Categories: \u001b[1m[\u001b[0m\u001b[32m'alt.atheism'\u001b[0m, \u001b[32m'comp.graphics'\u001b[0m, \u001b[32m'comp.os.ms-windows.misc'\u001b[0m, \u001b[32m'comp.sys.ibm.pc.hardware'\u001b[0m, \n",
              "\u001b[32m'comp.sys.mac.hardware'\u001b[0m, \u001b[32m'comp.windows.x'\u001b[0m, \u001b[32m'misc.forsale'\u001b[0m, \u001b[32m'rec.autos'\u001b[0m, \u001b[32m'rec.motorcycles'\u001b[0m, \u001b[32m'rec.sport.baseball'\u001b[0m, \n",
              "\u001b[32m'rec.sport.hockey'\u001b[0m, \u001b[32m'sci.crypt'\u001b[0m, \u001b[32m'sci.electronics'\u001b[0m, \u001b[32m'sci.med'\u001b[0m, \u001b[32m'sci.space'\u001b[0m, \u001b[32m'soc.religion.christian'\u001b[0m, \n",
              "\u001b[32m'talk.politics.guns'\u001b[0m, \u001b[32m'talk.politics.mideast'\u001b[0m, \u001b[32m'talk.politics.misc'\u001b[0m, \u001b[32m'talk.religion.misc'\u001b[0m\u001b[1m]\u001b[0m\n"
            ],
            "text/html": [
              "<pre style=\"white-space:pre;overflow-x:auto;line-height:normal;font-family:Menlo,'DejaVu Sans Mono',consolas,'Courier New',monospace\">Categories: <span style=\"font-weight: bold\">[</span><span style=\"color: #008000; text-decoration-color: #008000\">'alt.atheism'</span>, <span style=\"color: #008000; text-decoration-color: #008000\">'comp.graphics'</span>, <span style=\"color: #008000; text-decoration-color: #008000\">'comp.os.ms-windows.misc'</span>, <span style=\"color: #008000; text-decoration-color: #008000\">'comp.sys.ibm.pc.hardware'</span>, \n",
              "<span style=\"color: #008000; text-decoration-color: #008000\">'comp.sys.mac.hardware'</span>, <span style=\"color: #008000; text-decoration-color: #008000\">'comp.windows.x'</span>, <span style=\"color: #008000; text-decoration-color: #008000\">'misc.forsale'</span>, <span style=\"color: #008000; text-decoration-color: #008000\">'rec.autos'</span>, <span style=\"color: #008000; text-decoration-color: #008000\">'rec.motorcycles'</span>, <span style=\"color: #008000; text-decoration-color: #008000\">'rec.sport.baseball'</span>, \n",
              "<span style=\"color: #008000; text-decoration-color: #008000\">'rec.sport.hockey'</span>, <span style=\"color: #008000; text-decoration-color: #008000\">'sci.crypt'</span>, <span style=\"color: #008000; text-decoration-color: #008000\">'sci.electronics'</span>, <span style=\"color: #008000; text-decoration-color: #008000\">'sci.med'</span>, <span style=\"color: #008000; text-decoration-color: #008000\">'sci.space'</span>, <span style=\"color: #008000; text-decoration-color: #008000\">'soc.religion.christian'</span>, \n",
              "<span style=\"color: #008000; text-decoration-color: #008000\">'talk.politics.guns'</span>, <span style=\"color: #008000; text-decoration-color: #008000\">'talk.politics.mideast'</span>, <span style=\"color: #008000; text-decoration-color: #008000\">'talk.politics.misc'</span>, <span style=\"color: #008000; text-decoration-color: #008000\">'talk.religion.misc'</span><span style=\"font-weight: bold\">]</span>\n",
              "</pre>\n"
            ]
          },
          "metadata": {}
        },
        {
          "output_type": "display_data",
          "data": {
            "text/plain": [
              "\n",
              "First document:\n",
              "From: lerxst@wam.umd.edu \u001b[1m(\u001b[0mwhere's my thing\u001b[1m)\u001b[0m\n",
              "Subject: WHAT car is this!?\n",
              "Nntp-Posting-Host: rac3.wam.umd.edu\n",
              "Organization: University of Maryland, College Park\n",
              "Lines: \u001b[1;36m15\u001b[0m\n",
              "\n",
              " I was wondering if anyone out there could enlighten me on this car I saw\n",
              "the other day. It was a \u001b[1;36m2\u001b[0m-door sports car, looked to be from the late 60s/\n",
              "early 70s. It was called a Bricklin. The doors were really small. In addition,\n",
              "the front bumper was separate from the rest of the body. This is \n",
              "all I know. If anyone can tellme a model name, engine specs, years\n",
              "of production, where this car is made, history, or whatever info you\n",
              "have on this funky looking car, please e-mail.\n",
              "\n",
              "Thanks,\n",
              "- IL\n",
              "   ---- brought to you by your neighborhood Lerxst ----\n",
              "\n",
              "\n",
              "\n",
              "\n",
              "\n"
            ],
            "text/html": [
              "<pre style=\"white-space:pre;overflow-x:auto;line-height:normal;font-family:Menlo,'DejaVu Sans Mono',consolas,'Courier New',monospace\">\n",
              "First document:\n",
              "From: lerxst@wam.umd.edu <span style=\"font-weight: bold\">(</span>where's my thing<span style=\"font-weight: bold\">)</span>\n",
              "Subject: WHAT car is this!?\n",
              "Nntp-Posting-Host: rac3.wam.umd.edu\n",
              "Organization: University of Maryland, College Park\n",
              "Lines: <span style=\"color: #008080; text-decoration-color: #008080; font-weight: bold\">15</span>\n",
              "\n",
              " I was wondering if anyone out there could enlighten me on this car I saw\n",
              "the other day. It was a <span style=\"color: #008080; text-decoration-color: #008080; font-weight: bold\">2</span>-door sports car, looked to be from the late 60s/\n",
              "early 70s. It was called a Bricklin. The doors were really small. In addition,\n",
              "the front bumper was separate from the rest of the body. This is \n",
              "all I know. If anyone can tellme a model name, engine specs, years\n",
              "of production, where this car is made, history, or whatever info you\n",
              "have on this funky looking car, please e-mail.\n",
              "\n",
              "Thanks,\n",
              "- IL\n",
              "   ---- brought to you by your neighborhood Lerxst ----\n",
              "\n",
              "\n",
              "\n",
              "\n",
              "\n",
              "</pre>\n"
            ]
          },
          "metadata": {}
        },
        {
          "output_type": "display_data",
          "data": {
            "text/plain": [
              "Category: rec.autos\n"
            ],
            "text/html": [
              "<pre style=\"white-space:pre;overflow-x:auto;line-height:normal;font-family:Menlo,'DejaVu Sans Mono',consolas,'Courier New',monospace\">Category: rec.autos\n",
              "</pre>\n"
            ]
          },
          "metadata": {}
        },
        {
          "output_type": "display_data",
          "data": {
            "text/plain": [],
            "text/html": [
              "<pre style=\"white-space:pre;overflow-x:auto;line-height:normal;font-family:Menlo,'DejaVu Sans Mono',consolas,'Courier New',monospace\"></pre>\n"
            ]
          },
          "metadata": {}
        },
        {
          "output_type": "display_data",
          "data": {
            "text/plain": [
              "\u001b[1m<\u001b[0m\u001b[1;95mFigure\u001b[0m\u001b[39m size 120\u001b[0m\u001b[1;36m0x700\u001b[0m\u001b[39m with \u001b[0m\u001b[1;36m1\u001b[0m\u001b[39m Axes\u001b[0m\u001b[1m>\u001b[0m"
            ],
            "image/png": "[encoded data removed]"
          },
          "metadata": {}
        },
        {
          "output_type": "display_data",
          "data": {
            "text/plain": [],
            "text/html": [
              "<pre style=\"white-space:pre;overflow-x:auto;line-height:normal;font-family:Menlo,'DejaVu Sans Mono',consolas,'Courier New',monospace\"></pre>\n"
            ]
          },
          "metadata": {}
        },
        {
          "output_type": "execute_result",
          "data": {
            "text/plain": [
              "\u001b[1m(\u001b[0m\u001b[1;36m11314\u001b[0m, \u001b[1;36m7532\u001b[0m\u001b[1m)\u001b[0m"
            ]
          },
          "metadata": {},
          "execution_count": 39
        }
      ]
    },
    {
      "cell_type": "markdown",
      "source": [
        "## 4. Tokenizer"
      ],
      "metadata": {
        "id": "kTwMq94SaYwO"
      }
    },
    {
      "cell_type": "markdown",
      "source": [
        "This code initializes a tokenizer using the pre-trained GPT-2 model from the Hugging Face `transformers` library. The `GPT2Tokenizer` is responsible for converting text into token IDs that the model can process. By setting `tokenizer.padding_side` to \"left,\" it specifies that padding tokens should be added to the left side of the input sequences, which is particularly useful for tasks like sequence-to-sequence modeling where inputs might have variable lengths. Additionally, it assigns the end-of-sequence token (`eos_token`) as the padding token (`pad_token`). This ensures that the padding token, which fills up the sequence to a uniform length, is recognized correctly during model training and inference. This setup is essential for maintaining consistency in input lengths, which helps the model handle batch processing efficiently and maintain the expected input format for GPT-2."
      ],
      "metadata": {
        "id": "J0-ZbopSab6i"
      }
    },
    {
      "cell_type": "code",
      "source": [
        "tokenizer = GPT2Tokenizer.from_pretrained(\"gpt2\")\n",
        "tokenizer.padding_side = \"left\"\n",
        "tokenizer.pad_token = tokenizer.eos_token"
      ],
      "metadata": {
        "id": "n3wXP4hBaaA-"
      },
      "execution_count": null,
      "outputs": []
    },
    {
      "cell_type": "markdown",
      "source": [
        "## 5. Data Class\n",
        "\n",
        "This code defines a custom dataset class `TextDataset` that inherits from PyTorch's `Dataset` class, designed to handle text data for machine learning tasks. The constructor (`__init__` method) initializes the dataset with two parameters: `data` for input texts and `target` for labels, storing them as `self.texts` and `self.labels` respectively. The `classes` method returns the list of labels, allowing easy access to class information. The `__len__` method returns the dataset's length, facilitating iteration over the dataset. The `get_batch_labels` method takes an index `idx` and retrieves a batch of labels, converting them into a NumPy array for efficient processing. The `get_batch_texts` method also takes an index `idx` and uses the tokenizer to process text inputs by padding and truncating sequences to a maximum length (`MAX_LENGTH`), and converting the text into tensors for uniform input length, crucial for batch processing. The `__getitem__` method retrieves both processed text batches (`batch_texts`) and corresponding labels (`batch_y`) using the aforementioned methods, returning them as a tuple, making the dataset iterable and compatible with PyTorch's DataLoader for streamlined batch processing, shuffling, and parallel data loading during training and evaluation. This structure ensures efficient handling and preprocessing of text data, integrating seamlessly with PyTorch's data loading utilities."
      ],
      "metadata": {
        "id": "PQZvW7ErBlin"
      }
    },
    {
      "cell_type": "code",
      "source": [
        "class TextDataset(Dataset):\n",
        "    def __init__(self, data, target):\n",
        "        self.texts = [text for text in data]\n",
        "\n",
        "        self.labels = target\n",
        "\n",
        "    def classes(self):\n",
        "        return self.labels\n",
        "\n",
        "    def __len__(self):\n",
        "        return len(self.labels)\n",
        "\n",
        "    def get_batch_labels(self, idx):\n",
        "        # Get a batch of labels\n",
        "        return np.array(self.labels[idx])\n",
        "\n",
        "    def get_batch_texts(self, idx):\n",
        "        # Get a batch of inputs\n",
        "        return tokenizer(\n",
        "            self.texts[idx],\n",
        "            padding=\"max_length\",\n",
        "            max_length=MAX_LENGTH,\n",
        "            truncation=True,\n",
        "            return_tensors=\"pt\",\n",
        "        )\n",
        "\n",
        "    def __getitem__(self, idx):\n",
        "        batch_texts = self.get_batch_texts(idx)\n",
        "        batch_y = self.get_batch_labels(idx)\n",
        "        return batch_texts, batch_y"
      ],
      "metadata": {
        "id": "l_Hixe5jagwh"
      },
      "execution_count": null,
      "outputs": []
    },
    {
      "cell_type": "markdown",
      "source": [
        "## 6. Data Loader\n",
        "\n",
        "This code splits the training data into training and validation sets, creates dataset objects for training, validation, and test data, and wraps them in data loaders. First, it randomly splits the training data indices into 80% for training (`train_idx`) and 20% for validation (`val_idx`). It then creates `TextDataset` instances for these splits and the test data. Finally, it creates `DataLoader` objects for each dataset, with the training loader set to shuffle the data and the validation and test loaders set not to shuffle, facilitating efficient batch processing during training and evaluation."
      ],
      "metadata": {
        "id": "kA9SQl8SBqdw"
      }
    },
    {
      "cell_type": "code",
      "source": [
        "train_idx, val_idx = np.split(\n",
        "    np.random.permutation(len(train.data)), [int(0.8 * len(train.data))]\n",
        ")\n",
        "\n",
        "train_dataset = TextDataset([train.data[i] for i in train_idx], train.target[train_idx])\n",
        "val_dataset = TextDataset([train.data[i] for i in val_idx], train.target[val_idx])\n",
        "test_dataset = TextDataset(test.data, test.target)\n",
        "\n",
        "\n",
        "train_loader = DataLoader(train_dataset, batch_size=BATCH_SIZE, shuffle=True)\n",
        "val_loader = DataLoader(val_dataset, batch_size=BATCH_SIZE, shuffle=False)\n",
        "test_loader = DataLoader(test_dataset, batch_size=BATCH_SIZE, shuffle=False)"
      ],
      "metadata": {
        "id": "NQ5trUrYahWe"
      },
      "execution_count": null,
      "outputs": []
    },
    {
      "cell_type": "code",
      "source": [
        "len(train_loader), len(val_loader), len(test_loader)"
      ],
      "metadata": {
        "colab": {
          "base_uri": "https://localhost:8080/",
          "height": 34
        },
        "id": "_vuY2XEwajWW",
        "outputId": "ab0988ad-7d4e-4c7a-f73a-f678b352998f"
      },
      "execution_count": null,
      "outputs": [
        {
          "output_type": "display_data",
          "data": {
            "text/plain": [],
            "text/html": [
              "<pre style=\"white-space:pre;overflow-x:auto;line-height:normal;font-family:Menlo,'DejaVu Sans Mono',consolas,'Courier New',monospace\"></pre>\n"
            ]
          },
          "metadata": {}
        },
        {
          "output_type": "execute_result",
          "data": {
            "text/plain": [
              "\u001b[1m(\u001b[0m\u001b[1;36m566\u001b[0m, \u001b[1;36m142\u001b[0m, \u001b[1;36m471\u001b[0m\u001b[1m)\u001b[0m"
            ]
          },
          "metadata": {},
          "execution_count": 43
        }
      ]
    },
    {
      "cell_type": "markdown",
      "source": [
        "## 7. Attention Layer\n",
        "•\tLinear Transformations: The input tensor x is projected into three different spaces: query (q), key (k), and value (v) through linear transformations. This is achieved using three linear layers: \\\n",
        "\n",
        "Each of these transformations takes the input tensor and maps it to a lower-dimensional space (head_size), which is essential for calculating attention scores. \\\n",
        "•\tScaled Dot-Product Attention: The attention mechanism computes a score to determine how much focus each word in the sequence should give to every other word. This is done using the scaled dot-product of the query and key tensors \\\n",
        "\n",
        "The dot product of q and the transpose of k gives the raw attention scores, which are then scaled by the inverse square root of the embedding dimension to ensure stable gradients. \\\n",
        "•\tSoftmax Activation: These attention scores are normalized using the softmax function, converting them into probabilities that sum to 1. This step ensures that the attention weights are interpretable and can be used to weigh the value vectors. \\\n",
        "\n",
        "•\tDropout Regularization: Dropout is applied to the attention weights to prevent overfitting, enhancing the model's ability to generalize to new data \\\n",
        "•\tWeighted Sum of Values: The output of the attention mechanism is obtained by computing the weighted sum of the value vectors, using the attention weights: \\\n",
        "\n",
        "This produces a new representation for each word in the sequence, where each word is a weighted sum of all words, allowing the model to capture contextual information. \\\n",
        "\n",
        "\n",
        "### Benefit of attention layer for the given objective\n",
        "•  Capturing Diverse Contexts: The 20 Newsgroups dataset includes documents from 20 different categories, each with its own unique vocabulary and context. Self-attention allows the model to dynamically focus on relevant words and phrases within each document, capturing the nuances and contextual information that are crucial for distinguishing between categories. \\\n",
        "•  Handling Long Documents: Many documents in the 20 Newsgroups dataset can be lengthy, with important information spread throughout the text. Self-attention efficiently captures long-range dependencies, enabling the model to consider important words or phrases that might be far apart in the text, enhancing its ability to understand the overall meaning of the document. \\\n",
        "•  Dealing with Variable-Length Texts: Documents in the 20 Newsgroups dataset vary in length. The self-attention mechanism is well-suited for handling such variability, as it processes the entire sequence simultaneously and doesn't rely on sequential order, unlike RNNs. This makes it robust in managing different lengths of input texts without performance degradation. \\\n",
        "•  Parallel Processing: Self-attention allows for parallel processing of tokens, which significantly speeds up the training and inference processes. This efficiency is particularly beneficial when working with large datasets like the 20 Newsgroups, enabling faster experimentation and model tuning. \\\n",
        "•  Enhanced Interpretability: The attention weights generated by the self-attention mechanism can provide insights into which words or phrases the model focuses on for classification. This can be particularly useful for understanding and interpreting the model's decisions, offering a way to analyze why certain documents are classified into specific categories. \\\n",
        "•  Robust to Noise: Newsgroup documents can contain irrelevant information, noise, or informal language. Self-attention helps the model to focus on the most relevant parts of the text while ignoring the noise, leading to more accurate classifications.\n"
      ],
      "metadata": {
        "id": "BNR_91qNaodo"
      }
    },
    {
      "cell_type": "code",
      "source": [
        "class AttentionHead(nn.Module):\n",
        "    def __init__(self, head_size):\n",
        "        super().__init__()\n",
        "        self.query = nn.Linear(N_EMBED, head_size, bias=False)\n",
        "        self.key = nn.Linear(N_EMBED, head_size, bias=False)\n",
        "        self.value = nn.Linear(N_EMBED, head_size, bias=False)\n",
        "\n",
        "        self.dropout = nn.Dropout(DROPOUT)\n",
        "\n",
        "    def forward(self, x):\n",
        "        B, T, C = x.shape\n",
        "\n",
        "        q = self.query(x)\n",
        "        k = self.key(x)\n",
        "        v = self.value(x)\n",
        "\n",
        "        weights = q @ k.transpose(-2, -1) * (C**-0.5)\n",
        "\n",
        "        weights = F.softmax(weights, dim=-1)\n",
        "        weights = self.dropout(weights)\n",
        "\n",
        "        out = weights @ v\n",
        "        return out\n"
      ],
      "metadata": {
        "id": "4977RzNMalEN"
      },
      "execution_count": null,
      "outputs": []
    },
    {
      "cell_type": "markdown",
      "source": [
        "## 8. Multihead attention\n",
        "\n",
        "The MultiHeadAttention class implements multi-head self-attention, enhancing the model's ability to capture diverse relationships in the input text. It initializes multiple AttentionHead instances, each focusing on different aspects of the input, and then concatenates their outputs. A linear layer projects this concatenated output back to the original embedding size, with dropout applied to prevent overfitting. \\\n",
        "\n",
        "Multi-head attention provides enhanced feature extraction by allowing the model to capture multiple aspects of the text simultaneously, crucial for the diverse and complex content in the 20 Newsgroups dataset. It improves contextual understanding across different categories by enabling the model to focus on various parts of the text, which helps in distinguishing nuanced differences between newsgroup topics. The use of multiple attention heads ensures that subtle and detailed patterns within the documents are captured, which might be missed by a single attention mechanism. This diversity in attention helps in better handling the variability and richness of the text data, leading to more accurate and reliable classification results.\n"
      ],
      "metadata": {
        "id": "-bFHA3CHaqzF"
      }
    },
    {
      "cell_type": "code",
      "source": [
        "class MultiHeadAttention(nn.Module):\n",
        "    def __init__(self, n_heads, head_size):\n",
        "        super().__init__()\n",
        "        self.heads = nn.ModuleList([AttentionHead(head_size) for _ in range(n_heads)])\n",
        "        self.proj = nn.Linear(N_EMBED, N_EMBED)\n",
        "        self.dropout = nn.Dropout(DROPOUT)\n",
        "\n",
        "    def forward(self, x):\n",
        "        out = torch.cat([head(x) for head in self.heads], dim=-1)\n",
        "        out = self.proj(out)\n",
        "        out = self.dropout(out)\n",
        "        return out"
      ],
      "metadata": {
        "id": "eXnB6HxSaniA"
      },
      "execution_count": null,
      "outputs": []
    },
    {
      "cell_type": "markdown",
      "source": [
        "\n",
        "## 9. Projection layer\n",
        "\n",
        "The FeedForward class implements a feedforward neural network, which is a crucial component in transformer models for processing and refining the information captured by the attention mechanism. The network consists of two linear layers with a GELU activation function in between, followed by a dropout layer for regularization. The first linear layer expands the embedding dimension (n_embed) by a scale_factor, increasing the model's capacity to capture complex patterns. The second linear layer projects this expanded representation back to the original embedding size, ensuring the dimensionality remains consistent throughout the model. \\\n",
        "\n",
        "\n",
        "\n",
        "\n",
        "**Benefits for the 20 Newsgroups Dataset** \\\n",
        "The projection layer within the FeedForward network significantly enhances the model's ability to process the varied and complex text data in the 20 Newsgroups dataset. By expanding the embedding space, the model can capture richer and more intricate patterns within the text, which is crucial for accurately classifying documents across different newsgroup categories. This expansion allows the model to learn more nuanced features and relationships within the text, improving its ability to differentiate between closely related topics. The subsequent projection back to the original embedding size ensures that the model maintains computational efficiency and consistency, facilitating seamless integration with other components of the transformer architecture. Overall, the feedforward network with its projection layer boosts the model's capacity to handle the diverse and detailed text data in the 20 Newsgroups dataset, leading to improved classification performance.\n"
      ],
      "metadata": {
        "id": "mW_wibPeat0T"
      }
    },
    {
      "cell_type": "code",
      "source": [
        "class FeedForward(nn.Module):\n",
        "    def __init__(self, n_embed, scale_factor=1):\n",
        "        super().__init__()\n",
        "        self.net = nn.Sequential(\n",
        "            nn.Linear(n_embed, scale_factor * n_embed),\n",
        "            nn.GELU(),\n",
        "            nn.Linear(scale_factor * n_embed, n_embed),  # Projection layer\n",
        "            nn.Dropout(DROPOUT),\n",
        "        )\n",
        "\n",
        "    def forward(self, x):\n",
        "        return self.net(x)"
      ],
      "metadata": {
        "id": "LcheK9dNasVw"
      },
      "execution_count": null,
      "outputs": []
    },
    {
      "cell_type": "markdown",
      "source": [
        "## 10. Merging to Transformer structure\n",
        "The Block class represents a single transformer block, which combines multi-head self-attention with a feedforward neural network, incorporating layer normalization and residual connections. This structure is crucial for building deep transformer models capable of capturing complex dependencies and relationships in the input data. \\\n",
        "\n",
        "\n",
        "Components:\n",
        "- Multi-Head Attention (self.sa_heads): Uses multiple attention heads to focus on different parts of the input simultaneously.\n",
        "- Layer Normalization (self.ln1 and self.ln2): Normalizes inputs to stabilize and accelerate training.\n",
        "- Feedforward Network (self.ffwd): Enhances model capacity to learn complex patterns, scaling the embedding size by a factor of 4.\n",
        "Forward Method:\n",
        "- Normalization and Attention: Normalizes the input and processes it through the multi-head attention mechanism. The result is added back to the input (residual connection).\n",
        "- Normalization and Feedforward: Normalizes the result and processes it through the feedforward network, adding the result back to the input.\n",
        "\n"
      ],
      "metadata": {
        "id": "IYjqKAAjax3u"
      }
    },
    {
      "cell_type": "code",
      "source": [
        "class Block(nn.Module):\n",
        "    def __init__(self, n_embed, n_heads):\n",
        "        super().__init__()\n",
        "        self.sa_heads = MultiHeadAttention(n_heads, n_embed // n_heads)\n",
        "        self.ln1 = nn.LayerNorm(n_embed)\n",
        "\n",
        "        self.ffwd = FeedForward(n_embed, 4)\n",
        "        self.ln2 = nn.LayerNorm(n_embed)\n",
        "\n",
        "    def forward(self, x):\n",
        "        x = x + self.sa_heads(self.ln1(x))  # Residual connection + attention\n",
        "        x = x + self.ffwd(self.ln2(x))  # Residual connection + feed-forward\n",
        "        return x"
      ],
      "metadata": {
        "id": "rPn7aQP0awWn"
      },
      "execution_count": null,
      "outputs": []
    },
    {
      "cell_type": "code",
      "source": [
        "MultiHeadAttention(768 // 64, 64)(torch.randn(1, 512, 768)).shape"
      ],
      "metadata": {
        "colab": {
          "base_uri": "https://localhost:8080/",
          "height": 34
        },
        "id": "f-BSYl9eazbI",
        "outputId": "a2a0a005-7082-440d-c723-5534adc1c888"
      },
      "execution_count": null,
      "outputs": [
        {
          "output_type": "display_data",
          "data": {
            "text/plain": [],
            "text/html": [
              "<pre style=\"white-space:pre;overflow-x:auto;line-height:normal;font-family:Menlo,'DejaVu Sans Mono',consolas,'Courier New',monospace\"></pre>\n"
            ]
          },
          "metadata": {}
        },
        {
          "output_type": "execute_result",
          "data": {
            "text/plain": [
              "\u001b[1;35mtorch.Size\u001b[0m\u001b[1m(\u001b[0m\u001b[1m[\u001b[0m\u001b[1;36m1\u001b[0m, \u001b[1;36m512\u001b[0m, \u001b[1;36m768\u001b[0m\u001b[1m]\u001b[0m\u001b[1m)\u001b[0m"
            ]
          },
          "metadata": {},
          "execution_count": 48
        }
      ]
    },
    {
      "cell_type": "code",
      "source": [
        "Block(768, 6)(torch.randn(1, 512, 768)).shape"
      ],
      "metadata": {
        "colab": {
          "base_uri": "https://localhost:8080/",
          "height": 34
        },
        "id": "qd8WJJOYa1Sn",
        "outputId": "36ba354e-f62d-4bd2-cecf-bed00b329b34"
      },
      "execution_count": null,
      "outputs": [
        {
          "output_type": "display_data",
          "data": {
            "text/plain": [],
            "text/html": [
              "<pre style=\"white-space:pre;overflow-x:auto;line-height:normal;font-family:Menlo,'DejaVu Sans Mono',consolas,'Courier New',monospace\"></pre>\n"
            ]
          },
          "metadata": {}
        },
        {
          "output_type": "execute_result",
          "data": {
            "text/plain": [
              "\u001b[1;35mtorch.Size\u001b[0m\u001b[1m(\u001b[0m\u001b[1m[\u001b[0m\u001b[1;36m1\u001b[0m, \u001b[1;36m512\u001b[0m, \u001b[1;36m768\u001b[0m\u001b[1m]\u001b[0m\u001b[1m)\u001b[0m"
            ]
          },
          "metadata": {},
          "execution_count": 49
        }
      ]
    },
    {
      "cell_type": "markdown",
      "source": [
        "## 11. Classification Model\n",
        "\n",
        "The `GPT2Classifier` class is a custom neural network model designed to classify text from the 20 Newsgroups dataset into various categories. This model combines the strengths of the pre-trained GPT-2 language model with additional transformer layers and a classification head, optimized for the specific task of text classification.\n",
        "\n",
        "### Initialization (`__init__` method)\n",
        "The constructor initializes several key components:\n",
        "1. **GPT-2 Configuration and Model**: The model is initialized with a pre-trained GPT-2 configuration, specifying the number of layers to use. This setup leverages GPT-2's robust language understanding capabilities, which are crucial for extracting meaningful features from text.\n",
        "2. **Transformer Block**: The model includes a custom transformer block (`self.tf_block`) that processes the output from GPT-2. This block, composed of multi-head self-attention and a feedforward network, refines the features extracted from the text, allowing for a deeper understanding of the input sequences.\n",
        "3. **Classifier Layer**: A linear classifier layer is used to map the flattened output of the transformer block to the desired number of classes (`num_classes`). This layer ensures that each token's representation contributes to the final classification decision.\n",
        "\n",
        "### Forward Pass (`forward` method)\n",
        "The forward method defines how the input data flows through the model:\n",
        "1. **GPT-2 Encoding**: The input text, tokenized into `input_ids` and an `attention_mask`, is processed by the GPT-2 model. GPT-2 outputs hidden states for each token, capturing contextual information from the text.\n",
        "2. **Transformer Block Processing**: The hidden states from GPT-2 are further refined by passing through the custom transformer block. This block enhances the token representations by attending to different parts of the text and applying additional transformations.\n",
        "3. **Classification**: The refined token representations are flattened and passed through the classifier layer, producing logits for each class. This step converts the sequence-level information into a fixed-size vector suitable for classification.\n",
        "\n",
        "### Benefits for the 20 Newsgroups Dataset\n",
        "This model architecture is particularly advantageous for the 20 Newsgroups dataset. By leveraging the pre-trained GPT-2 model, the classifier effectively captures nuanced language patterns and contextual dependencies within the text, which are essential for distinguishing between different newsgroup categories. The additional transformer block ensures that the model can handle the complexity and variability of newsgroup documents, refining the representations to improve classification accuracy. The classifier layer translates these rich, context-aware representations into precise predictions for the 20 different categories, making the `GPT2Classifier` a powerful tool for text classification tasks on this dataset."
      ],
      "metadata": {
        "id": "dHt_Br1Ja6AH"
      }
    },
    {
      "cell_type": "code",
      "source": [
        "class GPT2Classifer(nn.Module):\n",
        "    def __init__(self, hidden_size, num_classes, max_seq_len, n_heads, n_layers=3):\n",
        "        super().__init__()\n",
        "\n",
        "        self.gpt2config = GPT2Config.from_pretrained(\"gpt2\", n_layer=n_layers)\n",
        "        self.gpt2 = GPT2Model.from_pretrained(\"gpt2\", config=self.gpt2config)\n",
        "\n",
        "        self.tf_block = Block(hidden_size, n_heads)\n",
        "        self.classifier = nn.Linear(hidden_size * max_seq_len, num_classes)\n",
        "\n",
        "    def forward(self, input_ids, attention_mask):\n",
        "        gpt_out = self.gpt2(\n",
        "            input_ids=input_ids, attention_mask=attention_mask, return_dict=True\n",
        "        ).last_hidden_state\n",
        "\n",
        "        # Pass through transformer block\n",
        "        gpt_out = self.tf_block(gpt_out)\n",
        "\n",
        "        # Flatten and pass through classifier layer\n",
        "        logits = self.classifier(gpt_out.view(gpt_out.size(0), -1))\n",
        "        return logits\n",
        "\n",
        "\n",
        "\n",
        "model = GPT2Classifer(N_EMBED, NUM_LABELS, MAX_LENGTH, N_HEADS, n_layers=4).to(device)\n",
        "\n",
        "with torch.no_grad():\n",
        "    out = model(\n",
        "        train_dataset.get_batch_texts(0)[\"input_ids\"].squeeze(1).to(device),\n",
        "        train_dataset.get_batch_texts(0)[\"attention_mask\"].to(device),\n",
        "    )\n",
        "\n",
        "    print(out.shape)"
      ],
      "metadata": {
        "colab": {
          "base_uri": "https://localhost:8080/",
          "height": 88
        },
        "id": "HfNsz1nXa1QG",
        "outputId": "52114654-f7af-4b93-f096-ee5f12be8dc5"
      },
      "execution_count": null,
      "outputs": [
        {
          "output_type": "stream",
          "name": "stderr",
          "text": [
            "/usr/local/lib/python3.10/dist-packages/huggingface_hub/file_download.py:1132: FutureWarning: `resume_download` is deprecated and will be removed in version 1.0.0. Downloads always resume when possible. If you want to force a new download, use `force_download=True`.\n",
            "  warnings.warn(\n"
          ]
        },
        {
          "output_type": "display_data",
          "data": {
            "text/plain": [
              "\u001b[1;35mtorch.Size\u001b[0m\u001b[1m(\u001b[0m\u001b[1m[\u001b[0m\u001b[1;36m1\u001b[0m, \u001b[1;36m20\u001b[0m\u001b[1m]\u001b[0m\u001b[1m)\u001b[0m\n"
            ],
            "text/html": [
              "<pre style=\"white-space:pre;overflow-x:auto;line-height:normal;font-family:Menlo,'DejaVu Sans Mono',consolas,'Courier New',monospace\"><span style=\"color: #800080; text-decoration-color: #800080; font-weight: bold\">torch.Size</span><span style=\"font-weight: bold\">([</span><span style=\"color: #008080; text-decoration-color: #008080; font-weight: bold\">1</span>, <span style=\"color: #008080; text-decoration-color: #008080; font-weight: bold\">20</span><span style=\"font-weight: bold\">])</span>\n",
              "</pre>\n"
            ]
          },
          "metadata": {}
        }
      ]
    },
    {
      "cell_type": "markdown",
      "source": [
        "## 12. model Definition\n",
        "\n",
        "The `GPT2Classifier` class is a custom neural network model designed to classify text from the 20 Newsgroups dataset into various categories. This model combines the strengths of the pre-trained GPT-2 language model with additional transformer layers and a classification head, optimized for the specific task of text classification.\n",
        "\n",
        "### Initialization (`__init__` method)\n",
        "The constructor initializes several key components:\n",
        "1. **GPT-2 Configuration and Model**: The model is initialized with a pre-trained GPT-2 configuration, specifying the number of layers to use. This setup leverages GPT-2's robust language understanding capabilities, which are crucial for extracting meaningful features from text.\n",
        "2. **Transformer Block**: The model includes a custom transformer block (`self.tf_block`) that processes the output from GPT-2. This block, composed of multi-head self-attention and a feedforward network, refines the features extracted from the text, allowing for a deeper understanding of the input sequences.\n",
        "3. **Classifier Layer**: A linear classifier layer is used to map the flattened output of the transformer block to the desired number of classes (`num_classes`). This layer ensures that each token's representation contributes to the final classification decision.\n",
        "\n",
        "### Forward Pass (`forward` method)\n",
        "The forward method defines how the input data flows through the model:\n",
        "1. **GPT-2 Encoding**: The input text, tokenized into `input_ids` and an `attention_mask`, is processed by the GPT-2 model. GPT-2 outputs hidden states for each token, capturing contextual information from the text.\n",
        "2. **Transformer Block Processing**: The hidden states from GPT-2 are further refined by passing through the custom transformer block. This block enhances the token representations by attending to different parts of the text and applying additional transformations.\n",
        "3. **Classification**: The refined token representations are flattened and passed through the classifier layer, producing logits for each class. This step converts the sequence-level information into a fixed-size vector suitable for classification.\n",
        "\n",
        "### Benefits for the 20 Newsgroups Dataset\n",
        "This model architecture is particularly advantageous for the 20 Newsgroups dataset. By leveraging the pre-trained GPT-2 model, the classifier effectively captures nuanced language patterns and contextual dependencies within the text, which are essential for distinguishing between different newsgroup categories. The additional transformer block ensures that the model can handle the complexity and variability of newsgroup documents, refining the representations to improve classification accuracy. The classifier layer translates these rich, context-aware representations into precise predictions for the 20 different categories, making the `GPT2Classifier` a powerful tool for text classification tasks on this dataset."
      ],
      "metadata": {
        "id": "bU43UYvNbDfe"
      }
    },
    {
      "cell_type": "code",
      "source": [
        "class TransformerClassifier(L.LightningModule):\n",
        "    def __init__(\n",
        "        self, hidden_size, num_classes, max_seq_len, n_heads, n_layers, lr=1e-5\n",
        "    ):\n",
        "        super().__init__()\n",
        "\n",
        "        self.model = GPT2Classifer(\n",
        "            hidden_size, num_classes, max_seq_len, n_heads, n_layers\n",
        "        )\n",
        "        self.lr = lr\n",
        "\n",
        "    def forward(self, input_ids, attention_mask):\n",
        "        return self.model(input_ids, attention_mask)\n",
        "\n",
        "    def training_step(self, batch, batch_idx):\n",
        "        x, y = batch\n",
        "        input_ids = x[\"input_ids\"].squeeze(1).to(device)\n",
        "        attention_mask = x[\"attention_mask\"].to(device)\n",
        "        y = y.to(device).long()\n",
        "\n",
        "        logits = self(input_ids, attention_mask)\n",
        "        loss = F.cross_entropy(logits, y)\n",
        "\n",
        "        acc = (logits.argmax(1) == y).float().mean()\n",
        "\n",
        "        self.log(\"train_loss\", loss, on_step=True, on_epoch=True, prog_bar=True)\n",
        "        self.log(\"train_acc\", acc, on_step=True, on_epoch=True, prog_bar=True)\n",
        "\n",
        "        return loss\n",
        "\n",
        "    def validation_step(self, batch, batch_idx):\n",
        "        x, y = batch\n",
        "        input_ids = x[\"input_ids\"].squeeze(1).to(device)\n",
        "        attention_mask = x[\"attention_mask\"].to(device)\n",
        "        y = y.to(device).long()\n",
        "\n",
        "        logits = self(input_ids, attention_mask)\n",
        "        loss = F.cross_entropy(logits, y)\n",
        "\n",
        "        acc = (logits.argmax(1) == y).float().mean()\n",
        "\n",
        "        self.log(\"val_loss\", loss, on_step=True, on_epoch=True, prog_bar=True)\n",
        "        self.log(\"val_acc\", acc, on_step=True, on_epoch=True, prog_bar=True)\n",
        "\n",
        "        if batch_idx == 0:\n",
        "            r_idx = np.random.randint(0, len(y))  # Random index\n",
        "\n",
        "            print(\n",
        "                f\"Input: {tokenizer.decode(input_ids[r_idx], skip_special_tokens=True)}\"\n",
        "            )\n",
        "            print(f\"Label: {y[r_idx]}\")\n",
        "            print(f\"Prediction: {logits.argmax(1)[r_idx]}\")\n",
        "\n",
        "        return loss\n",
        "\n",
        "    def test_step(self, batch, batch_idx):\n",
        "        x, y = batch\n",
        "        input_ids = x[\"input_ids\"].squeeze(1).to(device)\n",
        "        attention_mask = x[\"attention_mask\"].to(device)\n",
        "        y = y.to(device).long()\n",
        "\n",
        "        logits = self(input_ids, attention_mask)\n",
        "        loss = F.cross_entropy(logits, y)\n",
        "\n",
        "        acc = (logits.argmax(1) == y).float().mean()\n",
        "\n",
        "        self.log(\"test_loss\", loss, on_step=True, on_epoch=True, prog_bar=True)\n",
        "        self.log(\"test_acc\", acc, on_step=True, on_epoch=True, prog_bar=True)\n",
        "\n",
        "        return loss\n",
        "\n",
        "    def configure_optimizers(self):\n",
        "        optimizer = torch.optim.AdamW(self.parameters(), lr=self.lr)\n",
        "        return optimizer\n"
      ],
      "metadata": {
        "id": "eo1LXea_bDSc"
      },
      "execution_count": null,
      "outputs": []
    },
    {
      "cell_type": "markdown",
      "source": [
        "## 13. Model Training & Evaluation\n",
        "\n",
        "This code snippet demonstrates how to load a pre-trained `TransformerClassifier` model using a saved checkpoint in PyTorch. Initially, the line creating a new instance of `TransformerClassifier` with specified hyperparameters and moving it to the appropriate device (GPU or CPU) is commented out. Instead, the model's state is restored from a previously saved checkpoint file.\n",
        "\n",
        "The `torch.load` function loads the checkpoint from the specified path (`\"/content/lightning_logs/version_0/checkpoints/epoch=3-step=2264.ckpt\"`). This checkpoint contains the model's parameters (`state_dict`) as they were at the end of epoch 3, after 2264 training steps. The `state_dict` is a Python dictionary object that maps each layer to its parameter tensor.\n",
        "\n",
        "After loading the checkpoint, the `load_state_dict` method of the model is called with the `state_dict` from the checkpoint. This method updates the model's parameters to the values saved in the checkpoint, effectively restoring the model to its trained state at the time the checkpoint was created. By doing so, it allows for continued training, evaluation, or inference with the pre-trained model without the need to train it from scratch again.\n",
        "\n",
        "Displaying the model after loading the state dict shows the current architecture and the loaded parameters, ensuring that the model is correctly restored. This process is crucial for tasks that require continuing training from a specific point, performing model evaluation, or deploying a pre-trained model for inference on new data.\n"
      ],
      "metadata": {
        "id": "hnKCap3gCGZV"
      }
    },
    {
      "cell_type": "code",
      "source": [
        "model = TransformerClassifier(\n",
        "    N_EMBED, NUM_LABELS, MAX_LENGTH, N_HEADS, N_BLOCKS, lr=LEARNING_RATE\n",
        ").to(device)\n",
        "\n",
        "model"
      ],
      "metadata": {
        "colab": {
          "base_uri": "https://localhost:8080/",
          "height": 955
        },
        "id": "OTrRx7_ga1NY",
        "outputId": "a4777522-2b6c-4ed2-bf96-571be533bc88"
      },
      "execution_count": null,
      "outputs": [
        {
          "output_type": "display_data",
          "data": {
            "text/plain": [],
            "text/html": [
              "<pre style=\"white-space:pre;overflow-x:auto;line-height:normal;font-family:Menlo,'DejaVu Sans Mono',consolas,'Courier New',monospace\"></pre>\n"
            ]
          },
          "metadata": {}
        },
        {
          "output_type": "execute_result",
          "data": {
            "text/plain": [
              "\n",
              "\u001b[1;35mTransformerClassifier\u001b[0m\u001b[1m(\u001b[0m\n",
              "  \u001b[1m(\u001b[0mmodel\u001b[1m)\u001b[0m: \u001b[1;35mGPT2Classifer\u001b[0m\u001b[1m(\u001b[0m\n",
              "    \u001b[1m(\u001b[0mgpt2\u001b[1m)\u001b[0m: \u001b[1;35mGPT2Model\u001b[0m\u001b[1m(\u001b[0m\n",
              "      \u001b[1m(\u001b[0mwte\u001b[1m)\u001b[0m: \u001b[1;35mEmbedding\u001b[0m\u001b[1m(\u001b[0m\u001b[1;36m50257\u001b[0m, \u001b[1;36m768\u001b[0m\u001b[1m)\u001b[0m\n",
              "      \u001b[1m(\u001b[0mwpe\u001b[1m)\u001b[0m: \u001b[1;35mEmbedding\u001b[0m\u001b[1m(\u001b[0m\u001b[1;36m1024\u001b[0m, \u001b[1;36m768\u001b[0m\u001b[1m)\u001b[0m\n",
              "      \u001b[1m(\u001b[0mdrop\u001b[1m)\u001b[0m: \u001b[1;35mDropout\u001b[0m\u001b[1m(\u001b[0m\u001b[33mp\u001b[0m=\u001b[1;36m0\u001b[0m\u001b[1;36m.1\u001b[0m, \u001b[33minplace\u001b[0m=\u001b[3;91mFalse\u001b[0m\u001b[1m)\u001b[0m\n",
              "      \u001b[1m(\u001b[0mh\u001b[1m)\u001b[0m: \u001b[1;35mModuleList\u001b[0m\u001b[1m(\u001b[0m\n",
              "        \u001b[1m(\u001b[0m\u001b[1;36m0\u001b[0m-\u001b[1;36m11\u001b[0m\u001b[1m)\u001b[0m: \u001b[1;36m12\u001b[0m x \u001b[1;35mGPT2Block\u001b[0m\u001b[1m(\u001b[0m\n",
              "          \u001b[1m(\u001b[0mln_1\u001b[1m)\u001b[0m: \u001b[1;35mLayerNorm\u001b[0m\u001b[1m(\u001b[0m\u001b[1m(\u001b[0m\u001b[1;36m768\u001b[0m,\u001b[1m)\u001b[0m, \u001b[33meps\u001b[0m=\u001b[1;36m1e\u001b[0m\u001b[1;36m-05\u001b[0m, \u001b[33melementwise_affine\u001b[0m=\u001b[3;92mTrue\u001b[0m\u001b[1m)\u001b[0m\n",
              "          \u001b[1m(\u001b[0mattn\u001b[1m)\u001b[0m: \u001b[1;35mGPT2Attention\u001b[0m\u001b[1m(\u001b[0m\n",
              "            \u001b[1m(\u001b[0mc_attn\u001b[1m)\u001b[0m: \u001b[1;35mConv1D\u001b[0m\u001b[1m(\u001b[0m\u001b[1m)\u001b[0m\n",
              "            \u001b[1m(\u001b[0mc_proj\u001b[1m)\u001b[0m: \u001b[1;35mConv1D\u001b[0m\u001b[1m(\u001b[0m\u001b[1m)\u001b[0m\n",
              "            \u001b[1m(\u001b[0mattn_dropout\u001b[1m)\u001b[0m: \u001b[1;35mDropout\u001b[0m\u001b[1m(\u001b[0m\u001b[33mp\u001b[0m=\u001b[1;36m0\u001b[0m\u001b[1;36m.1\u001b[0m, \u001b[33minplace\u001b[0m=\u001b[3;91mFalse\u001b[0m\u001b[1m)\u001b[0m\n",
              "            \u001b[1m(\u001b[0mresid_dropout\u001b[1m)\u001b[0m: \u001b[1;35mDropout\u001b[0m\u001b[1m(\u001b[0m\u001b[33mp\u001b[0m=\u001b[1;36m0\u001b[0m\u001b[1;36m.1\u001b[0m, \u001b[33minplace\u001b[0m=\u001b[3;91mFalse\u001b[0m\u001b[1m)\u001b[0m\n",
              "          \u001b[1m)\u001b[0m\n",
              "          \u001b[1m(\u001b[0mln_2\u001b[1m)\u001b[0m: \u001b[1;35mLayerNorm\u001b[0m\u001b[1m(\u001b[0m\u001b[1m(\u001b[0m\u001b[1;36m768\u001b[0m,\u001b[1m)\u001b[0m, \u001b[33meps\u001b[0m=\u001b[1;36m1e\u001b[0m\u001b[1;36m-05\u001b[0m, \u001b[33melementwise_affine\u001b[0m=\u001b[3;92mTrue\u001b[0m\u001b[1m)\u001b[0m\n",
              "          \u001b[1m(\u001b[0mmlp\u001b[1m)\u001b[0m: \u001b[1;35mGPT2MLP\u001b[0m\u001b[1m(\u001b[0m\n",
              "            \u001b[1m(\u001b[0mc_fc\u001b[1m)\u001b[0m: \u001b[1;35mConv1D\u001b[0m\u001b[1m(\u001b[0m\u001b[1m)\u001b[0m\n",
              "            \u001b[1m(\u001b[0mc_proj\u001b[1m)\u001b[0m: \u001b[1;35mConv1D\u001b[0m\u001b[1m(\u001b[0m\u001b[1m)\u001b[0m\n",
              "            \u001b[1m(\u001b[0mact\u001b[1m)\u001b[0m: \u001b[1;35mNewGELUActivation\u001b[0m\u001b[1m(\u001b[0m\u001b[1m)\u001b[0m\n",
              "            \u001b[1m(\u001b[0mdropout\u001b[1m)\u001b[0m: \u001b[1;35mDropout\u001b[0m\u001b[1m(\u001b[0m\u001b[33mp\u001b[0m=\u001b[1;36m0\u001b[0m\u001b[1;36m.1\u001b[0m, \u001b[33minplace\u001b[0m=\u001b[3;91mFalse\u001b[0m\u001b[1m)\u001b[0m\n",
              "          \u001b[1m)\u001b[0m\n",
              "        \u001b[1m)\u001b[0m\n",
              "      \u001b[1m)\u001b[0m\n",
              "      \u001b[1m(\u001b[0mln_f\u001b[1m)\u001b[0m: \u001b[1;35mLayerNorm\u001b[0m\u001b[1m(\u001b[0m\u001b[1m(\u001b[0m\u001b[1;36m768\u001b[0m,\u001b[1m)\u001b[0m, \u001b[33meps\u001b[0m=\u001b[1;36m1e\u001b[0m\u001b[1;36m-05\u001b[0m, \u001b[33melementwise_affine\u001b[0m=\u001b[3;92mTrue\u001b[0m\u001b[1m)\u001b[0m\n",
              "    \u001b[1m)\u001b[0m\n",
              "    \u001b[1m(\u001b[0mtf_block\u001b[1m)\u001b[0m: \u001b[1;35mBlock\u001b[0m\u001b[1m(\u001b[0m\n",
              "      \u001b[1m(\u001b[0msa_heads\u001b[1m)\u001b[0m: \u001b[1;35mMultiHeadAttention\u001b[0m\u001b[1m(\u001b[0m\n",
              "        \u001b[1m(\u001b[0mheads\u001b[1m)\u001b[0m: \u001b[1;35mModuleList\u001b[0m\u001b[1m(\u001b[0m\n",
              "          \u001b[1m(\u001b[0m\u001b[1;36m0\u001b[0m-\u001b[1;36m1\u001b[0m\u001b[1m)\u001b[0m: \u001b[1;36m2\u001b[0m x \u001b[1;35mAttentionHead\u001b[0m\u001b[1m(\u001b[0m\n",
              "            \u001b[1m(\u001b[0mquery\u001b[1m)\u001b[0m: \u001b[1;35mLinear\u001b[0m\u001b[1m(\u001b[0m\u001b[33min_features\u001b[0m=\u001b[1;36m768\u001b[0m, \u001b[33mout_features\u001b[0m=\u001b[1;36m384\u001b[0m, \u001b[33mbias\u001b[0m=\u001b[3;91mFalse\u001b[0m\u001b[1m)\u001b[0m\n",
              "            \u001b[1m(\u001b[0mkey\u001b[1m)\u001b[0m: \u001b[1;35mLinear\u001b[0m\u001b[1m(\u001b[0m\u001b[33min_features\u001b[0m=\u001b[1;36m768\u001b[0m, \u001b[33mout_features\u001b[0m=\u001b[1;36m384\u001b[0m, \u001b[33mbias\u001b[0m=\u001b[3;91mFalse\u001b[0m\u001b[1m)\u001b[0m\n",
              "            \u001b[1m(\u001b[0mvalue\u001b[1m)\u001b[0m: \u001b[1;35mLinear\u001b[0m\u001b[1m(\u001b[0m\u001b[33min_features\u001b[0m=\u001b[1;36m768\u001b[0m, \u001b[33mout_features\u001b[0m=\u001b[1;36m384\u001b[0m, \u001b[33mbias\u001b[0m=\u001b[3;91mFalse\u001b[0m\u001b[1m)\u001b[0m\n",
              "            \u001b[1m(\u001b[0mdropout\u001b[1m)\u001b[0m: \u001b[1;35mDropout\u001b[0m\u001b[1m(\u001b[0m\u001b[33mp\u001b[0m=\u001b[1;36m0\u001b[0m\u001b[1;36m.2\u001b[0m, \u001b[33minplace\u001b[0m=\u001b[3;91mFalse\u001b[0m\u001b[1m)\u001b[0m\n",
              "          \u001b[1m)\u001b[0m\n",
              "        \u001b[1m)\u001b[0m\n",
              "        \u001b[1m(\u001b[0mproj\u001b[1m)\u001b[0m: \u001b[1;35mLinear\u001b[0m\u001b[1m(\u001b[0m\u001b[33min_features\u001b[0m=\u001b[1;36m768\u001b[0m, \u001b[33mout_features\u001b[0m=\u001b[1;36m768\u001b[0m, \u001b[33mbias\u001b[0m=\u001b[3;92mTrue\u001b[0m\u001b[1m)\u001b[0m\n",
              "        \u001b[1m(\u001b[0mdropout\u001b[1m)\u001b[0m: \u001b[1;35mDropout\u001b[0m\u001b[1m(\u001b[0m\u001b[33mp\u001b[0m=\u001b[1;36m0\u001b[0m\u001b[1;36m.2\u001b[0m, \u001b[33minplace\u001b[0m=\u001b[3;91mFalse\u001b[0m\u001b[1m)\u001b[0m\n",
              "      \u001b[1m)\u001b[0m\n",
              "      \u001b[1m(\u001b[0mln1\u001b[1m)\u001b[0m: \u001b[1;35mLayerNorm\u001b[0m\u001b[1m(\u001b[0m\u001b[1m(\u001b[0m\u001b[1;36m768\u001b[0m,\u001b[1m)\u001b[0m, \u001b[33meps\u001b[0m=\u001b[1;36m1e\u001b[0m\u001b[1;36m-05\u001b[0m, \u001b[33melementwise_affine\u001b[0m=\u001b[3;92mTrue\u001b[0m\u001b[1m)\u001b[0m\n",
              "      \u001b[1m(\u001b[0mffwd\u001b[1m)\u001b[0m: \u001b[1;35mFeedForward\u001b[0m\u001b[1m(\u001b[0m\n",
              "        \u001b[1m(\u001b[0mnet\u001b[1m)\u001b[0m: \u001b[1;35mSequential\u001b[0m\u001b[1m(\u001b[0m\n",
              "          \u001b[1m(\u001b[0m\u001b[1;36m0\u001b[0m\u001b[1m)\u001b[0m: \u001b[1;35mLinear\u001b[0m\u001b[1m(\u001b[0m\u001b[33min_features\u001b[0m=\u001b[1;36m768\u001b[0m, \u001b[33mout_features\u001b[0m=\u001b[1;36m3072\u001b[0m, \u001b[33mbias\u001b[0m=\u001b[3;92mTrue\u001b[0m\u001b[1m)\u001b[0m\n",
              "          \u001b[1m(\u001b[0m\u001b[1;36m1\u001b[0m\u001b[1m)\u001b[0m: \u001b[1;35mGELU\u001b[0m\u001b[1m(\u001b[0m\u001b[33mapproximate\u001b[0m=\u001b[32m'none'\u001b[0m\u001b[1m)\u001b[0m\n",
              "          \u001b[1m(\u001b[0m\u001b[1;36m2\u001b[0m\u001b[1m)\u001b[0m: \u001b[1;35mLinear\u001b[0m\u001b[1m(\u001b[0m\u001b[33min_features\u001b[0m=\u001b[1;36m3072\u001b[0m, \u001b[33mout_features\u001b[0m=\u001b[1;36m768\u001b[0m, \u001b[33mbias\u001b[0m=\u001b[3;92mTrue\u001b[0m\u001b[1m)\u001b[0m\n",
              "          \u001b[1m(\u001b[0m\u001b[1;36m3\u001b[0m\u001b[1m)\u001b[0m: \u001b[1;35mDropout\u001b[0m\u001b[1m(\u001b[0m\u001b[33mp\u001b[0m=\u001b[1;36m0\u001b[0m\u001b[1;36m.2\u001b[0m, \u001b[33minplace\u001b[0m=\u001b[3;91mFalse\u001b[0m\u001b[1m)\u001b[0m\n",
              "        \u001b[1m)\u001b[0m\n",
              "      \u001b[1m)\u001b[0m\n",
              "      \u001b[1m(\u001b[0mln2\u001b[1m)\u001b[0m: \u001b[1;35mLayerNorm\u001b[0m\u001b[1m(\u001b[0m\u001b[1m(\u001b[0m\u001b[1;36m768\u001b[0m,\u001b[1m)\u001b[0m, \u001b[33meps\u001b[0m=\u001b[1;36m1e\u001b[0m\u001b[1;36m-05\u001b[0m, \u001b[33melementwise_affine\u001b[0m=\u001b[3;92mTrue\u001b[0m\u001b[1m)\u001b[0m\n",
              "    \u001b[1m)\u001b[0m\n",
              "    \u001b[1m(\u001b[0mclassifier\u001b[1m)\u001b[0m: \u001b[1;35mLinear\u001b[0m\u001b[1m(\u001b[0m\u001b[33min_features\u001b[0m=\u001b[1;36m393216\u001b[0m, \u001b[33mout_features\u001b[0m=\u001b[1;36m20\u001b[0m, \u001b[33mbias\u001b[0m=\u001b[3;92mTrue\u001b[0m\u001b[1m)\u001b[0m\n",
              "  \u001b[1m)\u001b[0m\n",
              "\u001b[1m)\u001b[0m"
            ]
          },
          "metadata": {},
          "execution_count": 52
        }
      ]
    },
    {
      "cell_type": "code",
      "source": [
        "trainer = L.Trainer(\n",
        "    accelerator='gpu',\n",
        "    devices=1,\n",
        "    max_epochs=5,\n",
        "    callbacks=[ModelCheckpoint(monitor=\"val_acc\", mode=\"max\")],\n",
        ")\n",
        "\n",
        "trainer"
      ],
      "metadata": {
        "colab": {
          "base_uri": "https://localhost:8080/",
          "height": 173
        },
        "id": "orJvCVc6a1LA",
        "outputId": "620e2099-8474-4d58-dda9-5773b1a837d6"
      },
      "execution_count": null,
      "outputs": [
        {
          "output_type": "stream",
          "name": "stderr",
          "text": [
            "INFO: GPU available: True (cuda), used: True\n",
            "INFO:lightning.pytorch.utilities.rank_zero:GPU available: True (cuda), used: True\n",
            "INFO: TPU available: False, using: 0 TPU cores\n",
            "INFO:lightning.pytorch.utilities.rank_zero:TPU available: False, using: 0 TPU cores\n",
            "INFO: IPU available: False, using: 0 IPUs\n",
            "INFO:lightning.pytorch.utilities.rank_zero:IPU available: False, using: 0 IPUs\n",
            "INFO: HPU available: False, using: 0 HPUs\n",
            "INFO:lightning.pytorch.utilities.rank_zero:HPU available: False, using: 0 HPUs\n"
          ]
        },
        {
          "output_type": "display_data",
          "data": {
            "text/plain": [],
            "text/html": [
              "<pre style=\"white-space:pre;overflow-x:auto;line-height:normal;font-family:Menlo,'DejaVu Sans Mono',consolas,'Courier New',monospace\"></pre>\n"
            ]
          },
          "metadata": {}
        },
        {
          "output_type": "execute_result",
          "data": {
            "text/plain": [
              "\u001b[1m<\u001b[0m\u001b[1;95mlightning.pytorch.trainer.trainer.Trainer\u001b[0m\u001b[39m object at \u001b[0m\u001b[1;36m0x7e11079043a0\u001b[0m\u001b[1m>\u001b[0m"
            ]
          },
          "metadata": {},
          "execution_count": 53
        }
      ]
    },
    {
      "cell_type": "code",
      "source": [
        "trainer.fit(model, train_loader, val_loader)"
      ],
      "metadata": {
        "colab": {
          "base_uri": "https://localhost:8080/",
          "height": 1000,
          "referenced_widgets": [
            "cbeece947ec64cbbb8bcf68c4284ede9",
            "9dce73aab53b466ea3d84c922889595c",
            "6c5207cd03d343bbb4e01b0d840bfc7e",
            "838da754647541918fd430bffda952b5",
            "fea2bd6c280d493bbe269c66790b90d6",
            "f7510f45b8ab45f0b607fdda00215d6b",
            "66b869a52c574e00b604e0eb0853eeff",
            "e0afd31b045848aa83ef6a1b46283620",
            "8acfa224fa6c484c914c11b02c37737d",
            "5b6db8614b714345a8095ace240ce66b",
            "83fe3be463544211a41c7aaccf180763",
            "13312bc76a8941e3b679d66414b05140",
            "1510ac677d054fcc9050035258ae0d39",
            "f06a815bd8b94af395d12b47875b4d86",
            "198bbcb809c84aae88db0d2c26738b51",
            "af30683a2be749c28d899945534c0763",
            "61a6a7afadc9493cb0b034fc9a2176de",
            "90ef80ab40f0438ca6d3919f6ac62f36",
            "5a3b84a7380f4eaca5d808977ac6b6ba",
            "a9c65ccbb4b849c19945f53268789555",
            "ec8e66d954174e999a6023cd8b3dff5e",
            "26b5e7d032d34268a5f13056a11ef48e",
            "b5b4624b27064bac9dd7df9f358e2d85",
            "3460dcc68622487cb619e284a27d1d72",
            "6f854c1e12b745caa880498dd97baf20",
            "bd7970e175954b109be7f53abb10231d",
            "39d19bbc09004f6cac5e9c628bcf12ba",
            "00a2d839a23b49eab4bb633d3caadcc2",
            "9c20155f4d854f4ca65cbe8c580c7eb5",
            "4ee6beafe8d344938a34d942c38f7ebe",
            "0fd2b9595bd744188056d3bd02f3f101",
            "409aa67425674b05ad3fc2a59078ccc1",
            "f7f4b43634fb4dbab33a5d607d75d1fc",
            "1ebaa96b69314562aa4a2a87829d4567",
            "73297ae2660148b8b45f43b9138ceb68",
            "1d4529fdca494616befe92ecb8d576ec",
            "faae7e6a9879428f8777e22720476ea3",
            "0efb9e9c72ac4bf9b1f6ec10d3f9cf5b",
            "94924af68a9b4916805df0e50075b0a8",
            "589a831dbb534611b23f0a1cffb54c9c",
            "f71ab90cdd7d4b26b76d75d3bb14f3f6",
            "2f174ffa210d4992b4cba63c31904a4b",
            "1b5f27d67adc43bb9f9ea3cf175f1390",
            "51d0e51205c74ca4be1f02a15601849d",
            "42b8ea3de872419d87c60975726c3fd3",
            "aa297386e00b4d4dbd59ce7ba6b5ef5c",
            "741518173e0141f48a14919c9a9db2dc",
            "800025c27080452d85e457e4bb11fcf9",
            "7e1fb7011a9e420aa0d8f16b5c9a30c1",
            "7a7845f370774fb1815bf77c32cad972",
            "0e751d9e54064970917593bd733f605e",
            "a5e314a5df1e48d2985bb762ab77deb0",
            "e4dc748faf1d4579b2c67abe8b95f2d2",
            "3f2c490232704e4083785b5e30151d3f",
            "d466aac8f1d84fe7a0eceb5f732814b1",
            "f367b4815ea14b2b94cb997c3c0c2c68",
            "5e767e896a6143a18b83057ae16ac3ca",
            "d737251a1c4f4309843cc4dfc1cac0d3",
            "cd47f1f59c1d427495341deaca3c90c0",
            "c3356b2b7602478ebf8d613172deae43",
            "f98c47a2b76749878394243cca5c9922",
            "de45dd9ea58149648fc753fea983363d",
            "a56dd75abe744e8591ed8c54505f26e5",
            "97173854c5094a67a0f4ec5bc21f616a",
            "5e42245f6c7d4fbe95ed1ef9dca23709",
            "12f8102b3e3b4b3aa7716a83533a6b73",
            "2d3674367ec54658aa8c05ca710efee0",
            "169fb8eaf01a4234a260a33bf9ad4037",
            "e70b2a1f95064b6cb71ad49e0cdb9abf",
            "65cf3743b5d2428ea81c721f560a13c2",
            "4e6aa73a9a1643a7901406b9d598afe9",
            "679a13ef648e440e816ce5d7dd47831f",
            "fb8eee136c164c0fb7d6c736d07319f6",
            "163b1beead7241cc915f5e86a82de5ea",
            "f2aa7cadd51049ea84cbbcce283dbcba",
            "12b780f115144a898459b4dd7df3f9a3",
            "440ebf11df234a5fbc1beb0e04900970"
          ]
        },
        "id": "2VbXJOMqa1IY",
        "outputId": "55a60f8b-20d7-4b1a-93c7-4057d5495ba3"
      },
      "execution_count": null,
      "outputs": [
        {
          "metadata": {
            "tags": null
          },
          "name": "stderr",
          "output_type": "stream",
          "text": [
            "WARNING: Missing logger folder: /content/lightning_logs\n",
            "WARNING:lightning.pytorch.loggers.tensorboard:Missing logger folder: /content/lightning_logs\n",
            "INFO: LOCAL_RANK: 0 - CUDA_VISIBLE_DEVICES: [0]\n",
            "INFO:lightning.pytorch.accelerators.cuda:LOCAL_RANK: 0 - CUDA_VISIBLE_DEVICES: [0]\n",
            "INFO: \n",
            "  | Name  | Type          | Params\n",
            "----------------------------------------\n",
            "0 | model | GPT2Classifer | 139 M \n",
            "----------------------------------------\n",
            "139 M     Trainable params\n",
            "0         Non-trainable params\n",
            "139 M     Total params\n",
            "557.559   Total estimated model params size (MB)\n",
            "INFO:lightning.pytorch.callbacks.model_summary:\n",
            "  | Name  | Type          | Params\n",
            "----------------------------------------\n",
            "0 | model | GPT2Classifer | 139 M \n",
            "----------------------------------------\n",
            "139 M     Trainable params\n",
            "0         Non-trainable params\n",
            "139 M     Total params\n",
            "557.559   Total estimated model params size (MB)\n"
          ]
        },
        {
          "data": {
            "application/vnd.jupyter.widget-view+json": {
              "model_id": "cbeece947ec64cbbb8bcf68c4284ede9",
              "version_major": 2,
              "version_minor": 0
            },
            "text/plain": [
              "Sanity Checking: |          | 0/? [00:00<?, ?it/s]"
            ]
          },
          "metadata": {},
          "output_type": "display_data"
        },
        {
          "data": {
            "text/html": [
              "<pre style=\"white-space:pre;overflow-x:auto;line-height:normal;font-family:Menlo,'DejaVu Sans Mono',consolas,'Courier New',monospace\">Input: From: balog@eniac.seas.upenn.edu <span style=\"font-weight: bold\">(</span>Eric J Balog<span style=\"font-weight: bold\">)</span>\n",
              "Subject: A: DRIVE WON'T BOOT\n",
              "Organization: University of Pennsylvania\n",
              "Lines: <span style=\"color: #008080; text-decoration-color: #008080; font-weight: bold\">26</span>\n",
              "Nntp-Posting-Host: eniac.seas.upenn.edu\n",
              "\n",
              "Hi!\n",
              "\n",
              "I recently switched my <span style=\"color: #008080; text-decoration-color: #008080; font-weight: bold\">3.5</span>\" drive to A:. The problem is, while I can read and\n",
              "write to both the new A: and B: correctly, I can't boot from a floppy in A:.\n",
              "I've checked the CMOS settings; it is set for Floppy Seek at Boot and Boot \n",
              "Order A:,C:. \n",
              "\n",
              "Once, I had a floppy that did not have the systems files on it in A:. I got a\n",
              "message telling me to put a disk systems disk in the drive. It didn't work.\n",
              "When I do have a systems disk in the A: drive, this is what happens:\n",
              "<span style=\"color: #008080; text-decoration-color: #008080; font-weight: bold\">1</span><span style=\"font-weight: bold\">)</span> Power-on and Memory Test;\n",
              "<span style=\"color: #008080; text-decoration-color: #008080; font-weight: bold\">2</span><span style=\"font-weight: bold\">)</span> A: light comes on\n",
              "<span style=\"color: #008080; text-decoration-color: #008080; font-weight: bold\">3</span><span style=\"font-weight: bold\">)</span> B: light comes on, followed by a short beep;\n",
              "<span style=\"color: #008080; text-decoration-color: #008080; font-weight: bold\">4</span><span style=\"font-weight: bold\">)</span> HD light comes on for an instant;\n",
              "<span style=\"color: #008080; text-decoration-color: #008080; font-weight: bold\">5</span><span style=\"font-weight: bold\">)</span> B: light comes on again, then nothing happens\n",
              "\n",
              "The light goes off, there is no disk activity of any kind, and the screen \n",
              "blanks. I can't even use ctrl-alt-del.\n",
              "\n",
              "Any suggestions.\n",
              "\n",
              "Thanks in advance.\n",
              "\n",
              "Eric Balog \n",
              "balog@eniac.seas.upenn.edu\n",
              "\n",
              "\n",
              "</pre>\n"
            ],
            "text/plain": [
              "Input: From: balog@eniac.seas.upenn.edu \u001b[1m(\u001b[0mEric J Balog\u001b[1m)\u001b[0m\n",
              "Subject: A: DRIVE WON'T BOOT\n",
              "Organization: University of Pennsylvania\n",
              "Lines: \u001b[1;36m26\u001b[0m\n",
              "Nntp-Posting-Host: eniac.seas.upenn.edu\n",
              "\n",
              "Hi!\n",
              "\n",
              "I recently switched my \u001b[1;36m3.5\u001b[0m\" drive to A:. The problem is, while I can read and\n",
              "write to both the new A: and B: correctly, I can't boot from a floppy in A:.\n",
              "I've checked the CMOS settings; it is set for Floppy Seek at Boot and Boot \n",
              "Order A:,C:. \n",
              "\n",
              "Once, I had a floppy that did not have the systems files on it in A:. I got a\n",
              "message telling me to put a disk systems disk in the drive. It didn't work.\n",
              "When I do have a systems disk in the A: drive, this is what happens:\n",
              "\u001b[1;36m1\u001b[0m\u001b[1m)\u001b[0m Power-on and Memory Test;\n",
              "\u001b[1;36m2\u001b[0m\u001b[1m)\u001b[0m A: light comes on\n",
              "\u001b[1;36m3\u001b[0m\u001b[1m)\u001b[0m B: light comes on, followed by a short beep;\n",
              "\u001b[1;36m4\u001b[0m\u001b[1m)\u001b[0m HD light comes on for an instant;\n",
              "\u001b[1;36m5\u001b[0m\u001b[1m)\u001b[0m B: light comes on again, then nothing happens\n",
              "\n",
              "The light goes off, there is no disk activity of any kind, and the screen \n",
              "blanks. I can't even use ctrl-alt-del.\n",
              "\n",
              "Any suggestions.\n",
              "\n",
              "Thanks in advance.\n",
              "\n",
              "Eric Balog \n",
              "balog@eniac.seas.upenn.edu\n",
              "\n",
              "\n"
            ]
          },
          "metadata": {},
          "output_type": "display_data"
        },
        {
          "data": {
            "text/html": [
              "<pre style=\"white-space:pre;overflow-x:auto;line-height:normal;font-family:Menlo,'DejaVu Sans Mono',consolas,'Courier New',monospace\">Label: <span style=\"color: #008080; text-decoration-color: #008080; font-weight: bold\">3</span>\n",
              "</pre>\n"
            ],
            "text/plain": [
              "Label: \u001b[1;36m3\u001b[0m\n"
            ]
          },
          "metadata": {},
          "output_type": "display_data"
        },
        {
          "data": {
            "text/html": [
              "<pre style=\"white-space:pre;overflow-x:auto;line-height:normal;font-family:Menlo,'DejaVu Sans Mono',consolas,'Courier New',monospace\">Prediction: <span style=\"color: #008080; text-decoration-color: #008080; font-weight: bold\">2</span>\n",
              "</pre>\n"
            ],
            "text/plain": [
              "Prediction: \u001b[1;36m2\u001b[0m\n"
            ]
          },
          "metadata": {},
          "output_type": "display_data"
        },
        {
          "data": {
            "application/vnd.jupyter.widget-view+json": {
              "model_id": "13312bc76a8941e3b679d66414b05140",
              "version_major": 2,
              "version_minor": 0
            },
            "text/plain": [
              "Training: |          | 0/? [00:00<?, ?it/s]"
            ]
          },
          "metadata": {},
          "output_type": "display_data"
        },
        {
          "data": {
            "application/vnd.jupyter.widget-view+json": {
              "model_id": "b5b4624b27064bac9dd7df9f358e2d85",
              "version_major": 2,
              "version_minor": 0
            },
            "text/plain": [
              "Validation: |          | 0/? [00:00<?, ?it/s]"
            ]
          },
          "metadata": {},
          "output_type": "display_data"
        },
        {
          "data": {
            "text/html": [
              "<pre style=\"white-space:pre;overflow-x:auto;line-height:normal;font-family:Menlo,'DejaVu Sans Mono',consolas,'Courier New',monospace\">Input: From: balog@eniac.seas.upenn.edu <span style=\"font-weight: bold\">(</span>Eric J Balog<span style=\"font-weight: bold\">)</span>\n",
              "Subject: A: DRIVE WON'T BOOT\n",
              "Organization: University of Pennsylvania\n",
              "Lines: <span style=\"color: #008080; text-decoration-color: #008080; font-weight: bold\">26</span>\n",
              "Nntp-Posting-Host: eniac.seas.upenn.edu\n",
              "\n",
              "Hi!\n",
              "\n",
              "I recently switched my <span style=\"color: #008080; text-decoration-color: #008080; font-weight: bold\">3.5</span>\" drive to A:. The problem is, while I can read and\n",
              "write to both the new A: and B: correctly, I can't boot from a floppy in A:.\n",
              "I've checked the CMOS settings; it is set for Floppy Seek at Boot and Boot \n",
              "Order A:,C:. \n",
              "\n",
              "Once, I had a floppy that did not have the systems files on it in A:. I got a\n",
              "message telling me to put a disk systems disk in the drive. It didn't work.\n",
              "When I do have a systems disk in the A: drive, this is what happens:\n",
              "<span style=\"color: #008080; text-decoration-color: #008080; font-weight: bold\">1</span><span style=\"font-weight: bold\">)</span> Power-on and Memory Test;\n",
              "<span style=\"color: #008080; text-decoration-color: #008080; font-weight: bold\">2</span><span style=\"font-weight: bold\">)</span> A: light comes on\n",
              "<span style=\"color: #008080; text-decoration-color: #008080; font-weight: bold\">3</span><span style=\"font-weight: bold\">)</span> B: light comes on, followed by a short beep;\n",
              "<span style=\"color: #008080; text-decoration-color: #008080; font-weight: bold\">4</span><span style=\"font-weight: bold\">)</span> HD light comes on for an instant;\n",
              "<span style=\"color: #008080; text-decoration-color: #008080; font-weight: bold\">5</span><span style=\"font-weight: bold\">)</span> B: light comes on again, then nothing happens\n",
              "\n",
              "The light goes off, there is no disk activity of any kind, and the screen \n",
              "blanks. I can't even use ctrl-alt-del.\n",
              "\n",
              "Any suggestions.\n",
              "\n",
              "Thanks in advance.\n",
              "\n",
              "Eric Balog \n",
              "balog@eniac.seas.upenn.edu\n",
              "\n",
              "\n",
              "</pre>\n"
            ],
            "text/plain": [
              "Input: From: balog@eniac.seas.upenn.edu \u001b[1m(\u001b[0mEric J Balog\u001b[1m)\u001b[0m\n",
              "Subject: A: DRIVE WON'T BOOT\n",
              "Organization: University of Pennsylvania\n",
              "Lines: \u001b[1;36m26\u001b[0m\n",
              "Nntp-Posting-Host: eniac.seas.upenn.edu\n",
              "\n",
              "Hi!\n",
              "\n",
              "I recently switched my \u001b[1;36m3.5\u001b[0m\" drive to A:. The problem is, while I can read and\n",
              "write to both the new A: and B: correctly, I can't boot from a floppy in A:.\n",
              "I've checked the CMOS settings; it is set for Floppy Seek at Boot and Boot \n",
              "Order A:,C:. \n",
              "\n",
              "Once, I had a floppy that did not have the systems files on it in A:. I got a\n",
              "message telling me to put a disk systems disk in the drive. It didn't work.\n",
              "When I do have a systems disk in the A: drive, this is what happens:\n",
              "\u001b[1;36m1\u001b[0m\u001b[1m)\u001b[0m Power-on and Memory Test;\n",
              "\u001b[1;36m2\u001b[0m\u001b[1m)\u001b[0m A: light comes on\n",
              "\u001b[1;36m3\u001b[0m\u001b[1m)\u001b[0m B: light comes on, followed by a short beep;\n",
              "\u001b[1;36m4\u001b[0m\u001b[1m)\u001b[0m HD light comes on for an instant;\n",
              "\u001b[1;36m5\u001b[0m\u001b[1m)\u001b[0m B: light comes on again, then nothing happens\n",
              "\n",
              "The light goes off, there is no disk activity of any kind, and the screen \n",
              "blanks. I can't even use ctrl-alt-del.\n",
              "\n",
              "Any suggestions.\n",
              "\n",
              "Thanks in advance.\n",
              "\n",
              "Eric Balog \n",
              "balog@eniac.seas.upenn.edu\n",
              "\n",
              "\n"
            ]
          },
          "metadata": {},
          "output_type": "display_data"
        },
        {
          "data": {
            "text/html": [
              "<pre style=\"white-space:pre;overflow-x:auto;line-height:normal;font-family:Menlo,'DejaVu Sans Mono',consolas,'Courier New',monospace\">Label: <span style=\"color: #008080; text-decoration-color: #008080; font-weight: bold\">3</span>\n",
              "</pre>\n"
            ],
            "text/plain": [
              "Label: \u001b[1;36m3\u001b[0m\n"
            ]
          },
          "metadata": {},
          "output_type": "display_data"
        },
        {
          "data": {
            "text/html": [
              "<pre style=\"white-space:pre;overflow-x:auto;line-height:normal;font-family:Menlo,'DejaVu Sans Mono',consolas,'Courier New',monospace\">Prediction: <span style=\"color: #008080; text-decoration-color: #008080; font-weight: bold\">3</span>\n",
              "</pre>\n"
            ],
            "text/plain": [
              "Prediction: \u001b[1;36m3\u001b[0m\n"
            ]
          },
          "metadata": {},
          "output_type": "display_data"
        },
        {
          "data": {
            "application/vnd.jupyter.widget-view+json": {
              "model_id": "1ebaa96b69314562aa4a2a87829d4567",
              "version_major": 2,
              "version_minor": 0
            },
            "text/plain": [
              "Validation: |          | 0/? [00:00<?, ?it/s]"
            ]
          },
          "metadata": {},
          "output_type": "display_data"
        },
        {
          "data": {
            "text/html": [
              "<pre style=\"white-space:pre;overflow-x:auto;line-height:normal;font-family:Menlo,'DejaVu Sans Mono',consolas,'Courier New',monospace\">Input: From: dla@se05.wg2.waii.com <span style=\"font-weight: bold\">(</span>Doug Acker<span style=\"font-weight: bold\">)</span>\n",
              "Subject: Re: xterm build problem in Solaris2.<span style=\"color: #008080; text-decoration-color: #008080; font-weight: bold\">1</span>\n",
              "Organization: western geophysical exploration products\n",
              "Lines: <span style=\"color: #008080; text-decoration-color: #008080; font-weight: bold\">22</span>\n",
              "NNTP-Posting-Host: se05.wg2.waii.com\n",
              "In-reply-to: dla@se05.wg2.waii.com's message of <span style=\"color: #008080; text-decoration-color: #008080; font-weight: bold\">16</span> Apr <span style=\"color: #008080; text-decoration-color: #008080; font-weight: bold\">1993</span> <span style=\"color: #00ff00; text-decoration-color: #00ff00; font-weight: bold\">23:58:27</span> GMT\n",
              "\n",
              "&gt;&gt;&gt;&gt;&gt; On <span style=\"color: #008080; text-decoration-color: #008080; font-weight: bold\">16</span> Apr <span style=\"color: #008080; text-decoration-color: #008080; font-weight: bold\">1993</span> <span style=\"color: #00ff00; text-decoration-color: #00ff00; font-weight: bold\">23:58:27</span> GMT, dla@se05.wg2.waii.com <span style=\"font-weight: bold\">(</span>Doug Acker<span style=\"font-weight: bold\">)</span> said:\n",
              "        Doug&gt; NNTP-Posting-Host: se05.wg2.waii.com\n",
              "\n",
              "        Doug&gt;..continuing on my build problems, I got stuck here build xterm<span style=\"color: #808000; text-decoration-color: #808000\">...</span>\n",
              "\n",
              "\n",
              "        Doug&gt; Undefined                       first referenced\n",
              "        Doug&gt;  symbol                             in file\n",
              "        Doug&gt; index                               <span style=\"color: #800080; text-decoration-color: #800080\">/usr/ucblib/</span><span style=\"color: #ff00ff; text-decoration-color: #ff00ff\">libtermcap.a</span><span style=\"font-weight: bold\">(</span>termcap.o<span style=\"font-weight: bold\">)</span>\n",
              "        Doug&gt; rindex                              <span style=\"color: #800080; text-decoration-color: #800080\">/usr/ucblib/</span><span style=\"color: #ff00ff; text-decoration-color: #ff00ff\">libtermcap.a</span><span style=\"font-weight: bold\">(</span>termcap.o<span style=\"font-weight: bold\">)</span>\n",
              "        Doug&gt; ld: fatal: Symbol referencing errors. No output written to xterm\n",
              "\n",
              "\n",
              "Actually.. the problem is that you have to build with LD_LIBRARY_PATH\n",
              "unset as well as LD_RUN_PATH.\n",
              "--\n",
              "Douglas L.Acker                Western Geophysical Exploration Products\n",
              "____    ____     ____          a division of Western Atlas International Inc.\n",
              "\\   \\  <span style=\"color: #800080; text-decoration-color: #800080\">/</span>   <span style=\"color: #800080; text-decoration-color: #800080\">/</span>\\   <span style=\"color: #800080; text-decoration-color: #800080\">/</span>   <span style=\"color: #800080; text-decoration-color: #800080\">/</span>\\         A Litton <span style=\"color: #800080; text-decoration-color: #800080\">/</span> Dresser Company\n",
              " \\   \\<span style=\"color: #800080; text-decoration-color: #800080\">/</span>   <span style=\"color: #800080; text-decoration-color: #800080\">/</span>  \\ <span style=\"color: #800080; text-decoration-color: #800080\">/</span>\n",
              "</pre>\n"
            ],
            "text/plain": [
              "Input: From: dla@se05.wg2.waii.com \u001b[1m(\u001b[0mDoug Acker\u001b[1m)\u001b[0m\n",
              "Subject: Re: xterm build problem in Solaris2.\u001b[1;36m1\u001b[0m\n",
              "Organization: western geophysical exploration products\n",
              "Lines: \u001b[1;36m22\u001b[0m\n",
              "NNTP-Posting-Host: se05.wg2.waii.com\n",
              "In-reply-to: dla@se05.wg2.waii.com's message of \u001b[1;36m16\u001b[0m Apr \u001b[1;36m1993\u001b[0m \u001b[1;92m23:58:27\u001b[0m GMT\n",
              "\n",
              ">>>>> On \u001b[1;36m16\u001b[0m Apr \u001b[1;36m1993\u001b[0m \u001b[1;92m23:58:27\u001b[0m GMT, dla@se05.wg2.waii.com \u001b[1m(\u001b[0mDoug Acker\u001b[1m)\u001b[0m said:\n",
              "        Doug> NNTP-Posting-Host: se05.wg2.waii.com\n",
              "\n",
              "        Doug>..continuing on my build problems, I got stuck here build xterm\u001b[33m...\u001b[0m\n",
              "\n",
              "\n",
              "        Doug> Undefined                       first referenced\n",
              "        Doug>  symbol                             in file\n",
              "        Doug> index                               \u001b[35m/usr/ucblib/\u001b[0m\u001b[95mlibtermcap.a\u001b[0m\u001b[1m(\u001b[0mtermcap.o\u001b[1m)\u001b[0m\n",
              "        Doug> rindex                              \u001b[35m/usr/ucblib/\u001b[0m\u001b[95mlibtermcap.a\u001b[0m\u001b[1m(\u001b[0mtermcap.o\u001b[1m)\u001b[0m\n",
              "        Doug> ld: fatal: Symbol referencing errors. No output written to xterm\n",
              "\n",
              "\n",
              "Actually.. the problem is that you have to build with LD_LIBRARY_PATH\n",
              "unset as well as LD_RUN_PATH.\n",
              "--\n",
              "Douglas L.Acker                Western Geophysical Exploration Products\n",
              "____    ____     ____          a division of Western Atlas International Inc.\n",
              "\\   \\  \u001b[35m/\u001b[0m   \u001b[35m/\u001b[0m\\   \u001b[35m/\u001b[0m   \u001b[35m/\u001b[0m\\         A Litton \u001b[35m/\u001b[0m Dresser Company\n",
              " \\   \\\u001b[35m/\u001b[0m   \u001b[35m/\u001b[0m  \\ \u001b[35m/\u001b[0m\n"
            ]
          },
          "metadata": {},
          "output_type": "display_data"
        },
        {
          "data": {
            "text/html": [
              "<pre style=\"white-space:pre;overflow-x:auto;line-height:normal;font-family:Menlo,'DejaVu Sans Mono',consolas,'Courier New',monospace\">Label: <span style=\"color: #008080; text-decoration-color: #008080; font-weight: bold\">5</span>\n",
              "</pre>\n"
            ],
            "text/plain": [
              "Label: \u001b[1;36m5\u001b[0m\n"
            ]
          },
          "metadata": {},
          "output_type": "display_data"
        },
        {
          "data": {
            "text/html": [
              "<pre style=\"white-space:pre;overflow-x:auto;line-height:normal;font-family:Menlo,'DejaVu Sans Mono',consolas,'Courier New',monospace\">Prediction: <span style=\"color: #008080; text-decoration-color: #008080; font-weight: bold\">5</span>\n",
              "</pre>\n"
            ],
            "text/plain": [
              "Prediction: \u001b[1;36m5\u001b[0m\n"
            ]
          },
          "metadata": {},
          "output_type": "display_data"
        },
        {
          "data": {
            "application/vnd.jupyter.widget-view+json": {
              "model_id": "42b8ea3de872419d87c60975726c3fd3",
              "version_major": 2,
              "version_minor": 0
            },
            "text/plain": [
              "Validation: |          | 0/? [00:00<?, ?it/s]"
            ]
          },
          "metadata": {},
          "output_type": "display_data"
        },
        {
          "data": {
            "text/html": [
              "<pre style=\"white-space:pre;overflow-x:auto;line-height:normal;font-family:Menlo,'DejaVu Sans Mono',consolas,'Courier New',monospace\">Input: From: marcl@os-d.isc-br.com <span style=\"font-weight: bold\">(</span>H. Marc Lewis<span style=\"font-weight: bold\">)</span>\n",
              "Subject: European M/C Insurance\n",
              "Organization: ISC-Bunker Ramo, An Olivetti Company\n",
              "Lines: <span style=\"color: #008080; text-decoration-color: #008080; font-weight: bold\">16</span>\n",
              "Nntp-Posting-Host: os-d.isc-br.com\n",
              "\n",
              "Anyone in Europe got any advice for a US citizen whose going to be living\n",
              "and working in Italy for a year and wants to buy a motorcycle there?  An\n",
              "Italian friend just arrived here in Washington State to work for two years,\n",
              "and she's finding it very very difficult to obtain car insurance.  So I\n",
              "thought I'd ask<span style=\"color: #808000; text-decoration-color: #808000\">...</span>\n",
              "\n",
              "I have a US license, with motorcycle endorsement <span style=\"font-weight: bold\">(</span>unlimited displacement<span style=\"font-weight: bold\">)</span>,\n",
              "and have had for <span style=\"color: #008080; text-decoration-color: #008080; font-weight: bold\">30</span> years.  I am also a Washington State Motorcycle Safety\n",
              "instructor, if that info might help.\n",
              "\n",
              "I will post a summary, even if it's just of my own personal experience in \n",
              "buying a bike and getting it insured after I get to Italy.\n",
              "--\n",
              "H. Marc Lewis               | \"There are two kinds of people in the world --\n",
              "Olivetti North America      | those who divide everything in the world into\n",
              "marcl@mail.spk.olivetti.com | two kinds of things and those who don't\"\n",
              "\n",
              "</pre>\n"
            ],
            "text/plain": [
              "Input: From: marcl@os-d.isc-br.com \u001b[1m(\u001b[0mH. Marc Lewis\u001b[1m)\u001b[0m\n",
              "Subject: European M/C Insurance\n",
              "Organization: ISC-Bunker Ramo, An Olivetti Company\n",
              "Lines: \u001b[1;36m16\u001b[0m\n",
              "Nntp-Posting-Host: os-d.isc-br.com\n",
              "\n",
              "Anyone in Europe got any advice for a US citizen whose going to be living\n",
              "and working in Italy for a year and wants to buy a motorcycle there?  An\n",
              "Italian friend just arrived here in Washington State to work for two years,\n",
              "and she's finding it very very difficult to obtain car insurance.  So I\n",
              "thought I'd ask\u001b[33m...\u001b[0m\n",
              "\n",
              "I have a US license, with motorcycle endorsement \u001b[1m(\u001b[0munlimited displacement\u001b[1m)\u001b[0m,\n",
              "and have had for \u001b[1;36m30\u001b[0m years.  I am also a Washington State Motorcycle Safety\n",
              "instructor, if that info might help.\n",
              "\n",
              "I will post a summary, even if it's just of my own personal experience in \n",
              "buying a bike and getting it insured after I get to Italy.\n",
              "--\n",
              "H. Marc Lewis               | \"There are two kinds of people in the world --\n",
              "Olivetti North America      | those who divide everything in the world into\n",
              "marcl@mail.spk.olivetti.com | two kinds of things and those who don't\"\n",
              "\n"
            ]
          },
          "metadata": {},
          "output_type": "display_data"
        },
        {
          "data": {
            "text/html": [
              "<pre style=\"white-space:pre;overflow-x:auto;line-height:normal;font-family:Menlo,'DejaVu Sans Mono',consolas,'Courier New',monospace\">Label: <span style=\"color: #008080; text-decoration-color: #008080; font-weight: bold\">8</span>\n",
              "</pre>\n"
            ],
            "text/plain": [
              "Label: \u001b[1;36m8\u001b[0m\n"
            ]
          },
          "metadata": {},
          "output_type": "display_data"
        },
        {
          "data": {
            "text/html": [
              "<pre style=\"white-space:pre;overflow-x:auto;line-height:normal;font-family:Menlo,'DejaVu Sans Mono',consolas,'Courier New',monospace\">Prediction: <span style=\"color: #008080; text-decoration-color: #008080; font-weight: bold\">8</span>\n",
              "</pre>\n"
            ],
            "text/plain": [
              "Prediction: \u001b[1;36m8\u001b[0m\n"
            ]
          },
          "metadata": {},
          "output_type": "display_data"
        },
        {
          "data": {
            "application/vnd.jupyter.widget-view+json": {
              "model_id": "f367b4815ea14b2b94cb997c3c0c2c68",
              "version_major": 2,
              "version_minor": 0
            },
            "text/plain": [
              "Validation: |          | 0/? [00:00<?, ?it/s]"
            ]
          },
          "metadata": {},
          "output_type": "display_data"
        },
        {
          "data": {
            "text/html": [
              "<pre style=\"white-space:pre;overflow-x:auto;line-height:normal;font-family:Menlo,'DejaVu Sans Mono',consolas,'Courier New',monospace\">Input: From: dla@se05.wg2.waii.com <span style=\"font-weight: bold\">(</span>Doug Acker<span style=\"font-weight: bold\">)</span>\n",
              "Subject: Re: xterm build problem in Solaris2.<span style=\"color: #008080; text-decoration-color: #008080; font-weight: bold\">1</span>\n",
              "Organization: western geophysical exploration products\n",
              "Lines: <span style=\"color: #008080; text-decoration-color: #008080; font-weight: bold\">22</span>\n",
              "NNTP-Posting-Host: se05.wg2.waii.com\n",
              "In-reply-to: dla@se05.wg2.waii.com's message of <span style=\"color: #008080; text-decoration-color: #008080; font-weight: bold\">16</span> Apr <span style=\"color: #008080; text-decoration-color: #008080; font-weight: bold\">1993</span> <span style=\"color: #00ff00; text-decoration-color: #00ff00; font-weight: bold\">23:58:27</span> GMT\n",
              "\n",
              "&gt;&gt;&gt;&gt;&gt; On <span style=\"color: #008080; text-decoration-color: #008080; font-weight: bold\">16</span> Apr <span style=\"color: #008080; text-decoration-color: #008080; font-weight: bold\">1993</span> <span style=\"color: #00ff00; text-decoration-color: #00ff00; font-weight: bold\">23:58:27</span> GMT, dla@se05.wg2.waii.com <span style=\"font-weight: bold\">(</span>Doug Acker<span style=\"font-weight: bold\">)</span> said:\n",
              "        Doug&gt; NNTP-Posting-Host: se05.wg2.waii.com\n",
              "\n",
              "        Doug&gt;..continuing on my build problems, I got stuck here build xterm<span style=\"color: #808000; text-decoration-color: #808000\">...</span>\n",
              "\n",
              "\n",
              "        Doug&gt; Undefined                       first referenced\n",
              "        Doug&gt;  symbol                             in file\n",
              "        Doug&gt; index                               <span style=\"color: #800080; text-decoration-color: #800080\">/usr/ucblib/</span><span style=\"color: #ff00ff; text-decoration-color: #ff00ff\">libtermcap.a</span><span style=\"font-weight: bold\">(</span>termcap.o<span style=\"font-weight: bold\">)</span>\n",
              "        Doug&gt; rindex                              <span style=\"color: #800080; text-decoration-color: #800080\">/usr/ucblib/</span><span style=\"color: #ff00ff; text-decoration-color: #ff00ff\">libtermcap.a</span><span style=\"font-weight: bold\">(</span>termcap.o<span style=\"font-weight: bold\">)</span>\n",
              "        Doug&gt; ld: fatal: Symbol referencing errors. No output written to xterm\n",
              "\n",
              "\n",
              "Actually.. the problem is that you have to build with LD_LIBRARY_PATH\n",
              "unset as well as LD_RUN_PATH.\n",
              "--\n",
              "Douglas L.Acker                Western Geophysical Exploration Products\n",
              "____    ____     ____          a division of Western Atlas International Inc.\n",
              "\\   \\  <span style=\"color: #800080; text-decoration-color: #800080\">/</span>   <span style=\"color: #800080; text-decoration-color: #800080\">/</span>\\   <span style=\"color: #800080; text-decoration-color: #800080\">/</span>   <span style=\"color: #800080; text-decoration-color: #800080\">/</span>\\         A Litton <span style=\"color: #800080; text-decoration-color: #800080\">/</span> Dresser Company\n",
              " \\   \\<span style=\"color: #800080; text-decoration-color: #800080\">/</span>   <span style=\"color: #800080; text-decoration-color: #800080\">/</span>  \\ <span style=\"color: #800080; text-decoration-color: #800080\">/</span>\n",
              "</pre>\n"
            ],
            "text/plain": [
              "Input: From: dla@se05.wg2.waii.com \u001b[1m(\u001b[0mDoug Acker\u001b[1m)\u001b[0m\n",
              "Subject: Re: xterm build problem in Solaris2.\u001b[1;36m1\u001b[0m\n",
              "Organization: western geophysical exploration products\n",
              "Lines: \u001b[1;36m22\u001b[0m\n",
              "NNTP-Posting-Host: se05.wg2.waii.com\n",
              "In-reply-to: dla@se05.wg2.waii.com's message of \u001b[1;36m16\u001b[0m Apr \u001b[1;36m1993\u001b[0m \u001b[1;92m23:58:27\u001b[0m GMT\n",
              "\n",
              ">>>>> On \u001b[1;36m16\u001b[0m Apr \u001b[1;36m1993\u001b[0m \u001b[1;92m23:58:27\u001b[0m GMT, dla@se05.wg2.waii.com \u001b[1m(\u001b[0mDoug Acker\u001b[1m)\u001b[0m said:\n",
              "        Doug> NNTP-Posting-Host: se05.wg2.waii.com\n",
              "\n",
              "        Doug>..continuing on my build problems, I got stuck here build xterm\u001b[33m...\u001b[0m\n",
              "\n",
              "\n",
              "        Doug> Undefined                       first referenced\n",
              "        Doug>  symbol                             in file\n",
              "        Doug> index                               \u001b[35m/usr/ucblib/\u001b[0m\u001b[95mlibtermcap.a\u001b[0m\u001b[1m(\u001b[0mtermcap.o\u001b[1m)\u001b[0m\n",
              "        Doug> rindex                              \u001b[35m/usr/ucblib/\u001b[0m\u001b[95mlibtermcap.a\u001b[0m\u001b[1m(\u001b[0mtermcap.o\u001b[1m)\u001b[0m\n",
              "        Doug> ld: fatal: Symbol referencing errors. No output written to xterm\n",
              "\n",
              "\n",
              "Actually.. the problem is that you have to build with LD_LIBRARY_PATH\n",
              "unset as well as LD_RUN_PATH.\n",
              "--\n",
              "Douglas L.Acker                Western Geophysical Exploration Products\n",
              "____    ____     ____          a division of Western Atlas International Inc.\n",
              "\\   \\  \u001b[35m/\u001b[0m   \u001b[35m/\u001b[0m\\   \u001b[35m/\u001b[0m   \u001b[35m/\u001b[0m\\         A Litton \u001b[35m/\u001b[0m Dresser Company\n",
              " \\   \\\u001b[35m/\u001b[0m   \u001b[35m/\u001b[0m  \\ \u001b[35m/\u001b[0m\n"
            ]
          },
          "metadata": {},
          "output_type": "display_data"
        },
        {
          "data": {
            "text/html": [
              "<pre style=\"white-space:pre;overflow-x:auto;line-height:normal;font-family:Menlo,'DejaVu Sans Mono',consolas,'Courier New',monospace\">Label: <span style=\"color: #008080; text-decoration-color: #008080; font-weight: bold\">5</span>\n",
              "</pre>\n"
            ],
            "text/plain": [
              "Label: \u001b[1;36m5\u001b[0m\n"
            ]
          },
          "metadata": {},
          "output_type": "display_data"
        },
        {
          "data": {
            "text/html": [
              "<pre style=\"white-space:pre;overflow-x:auto;line-height:normal;font-family:Menlo,'DejaVu Sans Mono',consolas,'Courier New',monospace\">Prediction: <span style=\"color: #008080; text-decoration-color: #008080; font-weight: bold\">5</span>\n",
              "</pre>\n"
            ],
            "text/plain": [
              "Prediction: \u001b[1;36m5\u001b[0m\n"
            ]
          },
          "metadata": {},
          "output_type": "display_data"
        },
        {
          "output_type": "display_data",
          "data": {
            "text/plain": [
              "Validation: |          | 0/? [00:00<?, ?it/s]"
            ],
            "application/vnd.jupyter.widget-view+json": {
              "version_major": 2,
              "version_minor": 0,
              "model_id": "2d3674367ec54658aa8c05ca710efee0"
            }
          },
          "metadata": {}
        },
        {
          "output_type": "display_data",
          "data": {
            "text/plain": [
              "Input: From: balog@eniac.seas.upenn.edu \u001b[1m(\u001b[0mEric J Balog\u001b[1m)\u001b[0m\n",
              "Subject: A: DRIVE WON'T BOOT\n",
              "Organization: University of Pennsylvania\n",
              "Lines: \u001b[1;36m26\u001b[0m\n",
              "Nntp-Posting-Host: eniac.seas.upenn.edu\n",
              "\n",
              "Hi!\n",
              "\n",
              "I recently switched my \u001b[1;36m3.5\u001b[0m\" drive to A:. The problem is, while I can read and\n",
              "write to both the new A: and B: correctly, I can't boot from a floppy in A:.\n",
              "I've checked the CMOS settings; it is set for Floppy Seek at Boot and Boot \n",
              "Order A:,C:. \n",
              "\n",
              "Once, I had a floppy that did not have the systems files on it in A:. I got a\n",
              "message telling me to put a disk systems disk in the drive. It didn't work.\n",
              "When I do have a systems disk in the A: drive, this is what happens:\n",
              "\u001b[1;36m1\u001b[0m\u001b[1m)\u001b[0m Power-on and Memory Test;\n",
              "\u001b[1;36m2\u001b[0m\u001b[1m)\u001b[0m A: light comes on\n",
              "\u001b[1;36m3\u001b[0m\u001b[1m)\u001b[0m B: light comes on, followed by a short beep;\n",
              "\u001b[1;36m4\u001b[0m\u001b[1m)\u001b[0m HD light comes on for an instant;\n",
              "\u001b[1;36m5\u001b[0m\u001b[1m)\u001b[0m B: light comes on again, then nothing happens\n",
              "\n",
              "The light goes off, there is no disk activity of any kind, and the screen \n",
              "blanks. I can't even use ctrl-alt-del.\n",
              "\n",
              "Any suggestions.\n",
              "\n",
              "Thanks in advance.\n",
              "\n",
              "Eric Balog \n",
              "balog@eniac.seas.upenn.edu\n",
              "\n",
              "\n"
            ],
            "text/html": [
              "<pre style=\"white-space:pre;overflow-x:auto;line-height:normal;font-family:Menlo,'DejaVu Sans Mono',consolas,'Courier New',monospace\">Input: From: balog@eniac.seas.upenn.edu <span style=\"font-weight: bold\">(</span>Eric J Balog<span style=\"font-weight: bold\">)</span>\n",
              "Subject: A: DRIVE WON'T BOOT\n",
              "Organization: University of Pennsylvania\n",
              "Lines: <span style=\"color: #008080; text-decoration-color: #008080; font-weight: bold\">26</span>\n",
              "Nntp-Posting-Host: eniac.seas.upenn.edu\n",
              "\n",
              "Hi!\n",
              "\n",
              "I recently switched my <span style=\"color: #008080; text-decoration-color: #008080; font-weight: bold\">3.5</span>\" drive to A:. The problem is, while I can read and\n",
              "write to both the new A: and B: correctly, I can't boot from a floppy in A:.\n",
              "I've checked the CMOS settings; it is set for Floppy Seek at Boot and Boot \n",
              "Order A:,C:. \n",
              "\n",
              "Once, I had a floppy that did not have the systems files on it in A:. I got a\n",
              "message telling me to put a disk systems disk in the drive. It didn't work.\n",
              "When I do have a systems disk in the A: drive, this is what happens:\n",
              "<span style=\"color: #008080; text-decoration-color: #008080; font-weight: bold\">1</span><span style=\"font-weight: bold\">)</span> Power-on and Memory Test;\n",
              "<span style=\"color: #008080; text-decoration-color: #008080; font-weight: bold\">2</span><span style=\"font-weight: bold\">)</span> A: light comes on\n",
              "<span style=\"color: #008080; text-decoration-color: #008080; font-weight: bold\">3</span><span style=\"font-weight: bold\">)</span> B: light comes on, followed by a short beep;\n",
              "<span style=\"color: #008080; text-decoration-color: #008080; font-weight: bold\">4</span><span style=\"font-weight: bold\">)</span> HD light comes on for an instant;\n",
              "<span style=\"color: #008080; text-decoration-color: #008080; font-weight: bold\">5</span><span style=\"font-weight: bold\">)</span> B: light comes on again, then nothing happens\n",
              "\n",
              "The light goes off, there is no disk activity of any kind, and the screen \n",
              "blanks. I can't even use ctrl-alt-del.\n",
              "\n",
              "Any suggestions.\n",
              "\n",
              "Thanks in advance.\n",
              "\n",
              "Eric Balog \n",
              "balog@eniac.seas.upenn.edu\n",
              "\n",
              "\n",
              "</pre>\n"
            ]
          },
          "metadata": {}
        },
        {
          "output_type": "display_data",
          "data": {
            "text/plain": [
              "Label: \u001b[1;36m3\u001b[0m\n"
            ],
            "text/html": [
              "<pre style=\"white-space:pre;overflow-x:auto;line-height:normal;font-family:Menlo,'DejaVu Sans Mono',consolas,'Courier New',monospace\">Label: <span style=\"color: #008080; text-decoration-color: #008080; font-weight: bold\">3</span>\n",
              "</pre>\n"
            ]
          },
          "metadata": {}
        },
        {
          "output_type": "display_data",
          "data": {
            "text/plain": [
              "Prediction: \u001b[1;36m3\u001b[0m\n"
            ],
            "text/html": [
              "<pre style=\"white-space:pre;overflow-x:auto;line-height:normal;font-family:Menlo,'DejaVu Sans Mono',consolas,'Courier New',monospace\">Prediction: <span style=\"color: #008080; text-decoration-color: #008080; font-weight: bold\">3</span>\n",
              "</pre>\n"
            ]
          },
          "metadata": {}
        },
        {
          "output_type": "stream",
          "name": "stderr",
          "text": [
            "INFO: `Trainer.fit` stopped: `max_epochs=5` reached.\n",
            "INFO:lightning.pytorch.utilities.rank_zero:`Trainer.fit` stopped: `max_epochs=5` reached.\n"
          ]
        }
      ]
    },
    {
      "cell_type": "markdown",
      "source": [
        "## Seciton 14 Evaluate and predict on test set"
      ],
      "metadata": {
        "id": "37X_lkzxbTRQ"
      }
    },
    {
      "cell_type": "code",
      "source": [
        "# model = TransformerClassifier(\n",
        "#     N_EMBED, NUM_LABELS, MAX_LENGTH, N_HEADS, N_BLOCKS, lr=LEARNING_RATE\n",
        "# ).to(device)\n",
        "\n",
        "state_dict = torch.load(\"/content/lightning_logs/version_0/checkpoints/epoch=3-step=2264.ckpt\")\n",
        "model.load_state_dict(state_dict[\"state_dict\"])\n",
        "model"
      ],
      "metadata": {
        "colab": {
          "base_uri": "https://localhost:8080/",
          "height": 955
        },
        "id": "YlzzoscCa1Fv",
        "outputId": "30224c30-c85d-453d-e819-aa23138f8c92"
      },
      "execution_count": null,
      "outputs": [
        {
          "output_type": "display_data",
          "data": {
            "text/plain": [],
            "text/html": [
              "<pre style=\"white-space:pre;overflow-x:auto;line-height:normal;font-family:Menlo,'DejaVu Sans Mono',consolas,'Courier New',monospace\"></pre>\n"
            ]
          },
          "metadata": {}
        },
        {
          "output_type": "execute_result",
          "data": {
            "text/plain": [
              "\n",
              "\u001b[1;35mTransformerClassifier\u001b[0m\u001b[1m(\u001b[0m\n",
              "  \u001b[1m(\u001b[0mmodel\u001b[1m)\u001b[0m: \u001b[1;35mGPT2Classifer\u001b[0m\u001b[1m(\u001b[0m\n",
              "    \u001b[1m(\u001b[0mgpt2\u001b[1m)\u001b[0m: \u001b[1;35mGPT2Model\u001b[0m\u001b[1m(\u001b[0m\n",
              "      \u001b[1m(\u001b[0mwte\u001b[1m)\u001b[0m: \u001b[1;35mEmbedding\u001b[0m\u001b[1m(\u001b[0m\u001b[1;36m50257\u001b[0m, \u001b[1;36m768\u001b[0m\u001b[1m)\u001b[0m\n",
              "      \u001b[1m(\u001b[0mwpe\u001b[1m)\u001b[0m: \u001b[1;35mEmbedding\u001b[0m\u001b[1m(\u001b[0m\u001b[1;36m1024\u001b[0m, \u001b[1;36m768\u001b[0m\u001b[1m)\u001b[0m\n",
              "      \u001b[1m(\u001b[0mdrop\u001b[1m)\u001b[0m: \u001b[1;35mDropout\u001b[0m\u001b[1m(\u001b[0m\u001b[33mp\u001b[0m=\u001b[1;36m0\u001b[0m\u001b[1;36m.1\u001b[0m, \u001b[33minplace\u001b[0m=\u001b[3;91mFalse\u001b[0m\u001b[1m)\u001b[0m\n",
              "      \u001b[1m(\u001b[0mh\u001b[1m)\u001b[0m: \u001b[1;35mModuleList\u001b[0m\u001b[1m(\u001b[0m\n",
              "        \u001b[1m(\u001b[0m\u001b[1;36m0\u001b[0m-\u001b[1;36m11\u001b[0m\u001b[1m)\u001b[0m: \u001b[1;36m12\u001b[0m x \u001b[1;35mGPT2Block\u001b[0m\u001b[1m(\u001b[0m\n",
              "          \u001b[1m(\u001b[0mln_1\u001b[1m)\u001b[0m: \u001b[1;35mLayerNorm\u001b[0m\u001b[1m(\u001b[0m\u001b[1m(\u001b[0m\u001b[1;36m768\u001b[0m,\u001b[1m)\u001b[0m, \u001b[33meps\u001b[0m=\u001b[1;36m1e\u001b[0m\u001b[1;36m-05\u001b[0m, \u001b[33melementwise_affine\u001b[0m=\u001b[3;92mTrue\u001b[0m\u001b[1m)\u001b[0m\n",
              "          \u001b[1m(\u001b[0mattn\u001b[1m)\u001b[0m: \u001b[1;35mGPT2Attention\u001b[0m\u001b[1m(\u001b[0m\n",
              "            \u001b[1m(\u001b[0mc_attn\u001b[1m)\u001b[0m: \u001b[1;35mConv1D\u001b[0m\u001b[1m(\u001b[0m\u001b[1m)\u001b[0m\n",
              "            \u001b[1m(\u001b[0mc_proj\u001b[1m)\u001b[0m: \u001b[1;35mConv1D\u001b[0m\u001b[1m(\u001b[0m\u001b[1m)\u001b[0m\n",
              "            \u001b[1m(\u001b[0mattn_dropout\u001b[1m)\u001b[0m: \u001b[1;35mDropout\u001b[0m\u001b[1m(\u001b[0m\u001b[33mp\u001b[0m=\u001b[1;36m0\u001b[0m\u001b[1;36m.1\u001b[0m, \u001b[33minplace\u001b[0m=\u001b[3;91mFalse\u001b[0m\u001b[1m)\u001b[0m\n",
              "            \u001b[1m(\u001b[0mresid_dropout\u001b[1m)\u001b[0m: \u001b[1;35mDropout\u001b[0m\u001b[1m(\u001b[0m\u001b[33mp\u001b[0m=\u001b[1;36m0\u001b[0m\u001b[1;36m.1\u001b[0m, \u001b[33minplace\u001b[0m=\u001b[3;91mFalse\u001b[0m\u001b[1m)\u001b[0m\n",
              "          \u001b[1m)\u001b[0m\n",
              "          \u001b[1m(\u001b[0mln_2\u001b[1m)\u001b[0m: \u001b[1;35mLayerNorm\u001b[0m\u001b[1m(\u001b[0m\u001b[1m(\u001b[0m\u001b[1;36m768\u001b[0m,\u001b[1m)\u001b[0m, \u001b[33meps\u001b[0m=\u001b[1;36m1e\u001b[0m\u001b[1;36m-05\u001b[0m, \u001b[33melementwise_affine\u001b[0m=\u001b[3;92mTrue\u001b[0m\u001b[1m)\u001b[0m\n",
              "          \u001b[1m(\u001b[0mmlp\u001b[1m)\u001b[0m: \u001b[1;35mGPT2MLP\u001b[0m\u001b[1m(\u001b[0m\n",
              "            \u001b[1m(\u001b[0mc_fc\u001b[1m)\u001b[0m: \u001b[1;35mConv1D\u001b[0m\u001b[1m(\u001b[0m\u001b[1m)\u001b[0m\n",
              "            \u001b[1m(\u001b[0mc_proj\u001b[1m)\u001b[0m: \u001b[1;35mConv1D\u001b[0m\u001b[1m(\u001b[0m\u001b[1m)\u001b[0m\n",
              "            \u001b[1m(\u001b[0mact\u001b[1m)\u001b[0m: \u001b[1;35mNewGELUActivation\u001b[0m\u001b[1m(\u001b[0m\u001b[1m)\u001b[0m\n",
              "            \u001b[1m(\u001b[0mdropout\u001b[1m)\u001b[0m: \u001b[1;35mDropout\u001b[0m\u001b[1m(\u001b[0m\u001b[33mp\u001b[0m=\u001b[1;36m0\u001b[0m\u001b[1;36m.1\u001b[0m, \u001b[33minplace\u001b[0m=\u001b[3;91mFalse\u001b[0m\u001b[1m)\u001b[0m\n",
              "          \u001b[1m)\u001b[0m\n",
              "        \u001b[1m)\u001b[0m\n",
              "      \u001b[1m)\u001b[0m\n",
              "      \u001b[1m(\u001b[0mln_f\u001b[1m)\u001b[0m: \u001b[1;35mLayerNorm\u001b[0m\u001b[1m(\u001b[0m\u001b[1m(\u001b[0m\u001b[1;36m768\u001b[0m,\u001b[1m)\u001b[0m, \u001b[33meps\u001b[0m=\u001b[1;36m1e\u001b[0m\u001b[1;36m-05\u001b[0m, \u001b[33melementwise_affine\u001b[0m=\u001b[3;92mTrue\u001b[0m\u001b[1m)\u001b[0m\n",
              "    \u001b[1m)\u001b[0m\n",
              "    \u001b[1m(\u001b[0mtf_block\u001b[1m)\u001b[0m: \u001b[1;35mBlock\u001b[0m\u001b[1m(\u001b[0m\n",
              "      \u001b[1m(\u001b[0msa_heads\u001b[1m)\u001b[0m: \u001b[1;35mMultiHeadAttention\u001b[0m\u001b[1m(\u001b[0m\n",
              "        \u001b[1m(\u001b[0mheads\u001b[1m)\u001b[0m: \u001b[1;35mModuleList\u001b[0m\u001b[1m(\u001b[0m\n",
              "          \u001b[1m(\u001b[0m\u001b[1;36m0\u001b[0m-\u001b[1;36m1\u001b[0m\u001b[1m)\u001b[0m: \u001b[1;36m2\u001b[0m x \u001b[1;35mAttentionHead\u001b[0m\u001b[1m(\u001b[0m\n",
              "            \u001b[1m(\u001b[0mquery\u001b[1m)\u001b[0m: \u001b[1;35mLinear\u001b[0m\u001b[1m(\u001b[0m\u001b[33min_features\u001b[0m=\u001b[1;36m768\u001b[0m, \u001b[33mout_features\u001b[0m=\u001b[1;36m384\u001b[0m, \u001b[33mbias\u001b[0m=\u001b[3;91mFalse\u001b[0m\u001b[1m)\u001b[0m\n",
              "            \u001b[1m(\u001b[0mkey\u001b[1m)\u001b[0m: \u001b[1;35mLinear\u001b[0m\u001b[1m(\u001b[0m\u001b[33min_features\u001b[0m=\u001b[1;36m768\u001b[0m, \u001b[33mout_features\u001b[0m=\u001b[1;36m384\u001b[0m, \u001b[33mbias\u001b[0m=\u001b[3;91mFalse\u001b[0m\u001b[1m)\u001b[0m\n",
              "            \u001b[1m(\u001b[0mvalue\u001b[1m)\u001b[0m: \u001b[1;35mLinear\u001b[0m\u001b[1m(\u001b[0m\u001b[33min_features\u001b[0m=\u001b[1;36m768\u001b[0m, \u001b[33mout_features\u001b[0m=\u001b[1;36m384\u001b[0m, \u001b[33mbias\u001b[0m=\u001b[3;91mFalse\u001b[0m\u001b[1m)\u001b[0m\n",
              "            \u001b[1m(\u001b[0mdropout\u001b[1m)\u001b[0m: \u001b[1;35mDropout\u001b[0m\u001b[1m(\u001b[0m\u001b[33mp\u001b[0m=\u001b[1;36m0\u001b[0m\u001b[1;36m.2\u001b[0m, \u001b[33minplace\u001b[0m=\u001b[3;91mFalse\u001b[0m\u001b[1m)\u001b[0m\n",
              "          \u001b[1m)\u001b[0m\n",
              "        \u001b[1m)\u001b[0m\n",
              "        \u001b[1m(\u001b[0mproj\u001b[1m)\u001b[0m: \u001b[1;35mLinear\u001b[0m\u001b[1m(\u001b[0m\u001b[33min_features\u001b[0m=\u001b[1;36m768\u001b[0m, \u001b[33mout_features\u001b[0m=\u001b[1;36m768\u001b[0m, \u001b[33mbias\u001b[0m=\u001b[3;92mTrue\u001b[0m\u001b[1m)\u001b[0m\n",
              "        \u001b[1m(\u001b[0mdropout\u001b[1m)\u001b[0m: \u001b[1;35mDropout\u001b[0m\u001b[1m(\u001b[0m\u001b[33mp\u001b[0m=\u001b[1;36m0\u001b[0m\u001b[1;36m.2\u001b[0m, \u001b[33minplace\u001b[0m=\u001b[3;91mFalse\u001b[0m\u001b[1m)\u001b[0m\n",
              "      \u001b[1m)\u001b[0m\n",
              "      \u001b[1m(\u001b[0mln1\u001b[1m)\u001b[0m: \u001b[1;35mLayerNorm\u001b[0m\u001b[1m(\u001b[0m\u001b[1m(\u001b[0m\u001b[1;36m768\u001b[0m,\u001b[1m)\u001b[0m, \u001b[33meps\u001b[0m=\u001b[1;36m1e\u001b[0m\u001b[1;36m-05\u001b[0m, \u001b[33melementwise_affine\u001b[0m=\u001b[3;92mTrue\u001b[0m\u001b[1m)\u001b[0m\n",
              "      \u001b[1m(\u001b[0mffwd\u001b[1m)\u001b[0m: \u001b[1;35mFeedForward\u001b[0m\u001b[1m(\u001b[0m\n",
              "        \u001b[1m(\u001b[0mnet\u001b[1m)\u001b[0m: \u001b[1;35mSequential\u001b[0m\u001b[1m(\u001b[0m\n",
              "          \u001b[1m(\u001b[0m\u001b[1;36m0\u001b[0m\u001b[1m)\u001b[0m: \u001b[1;35mLinear\u001b[0m\u001b[1m(\u001b[0m\u001b[33min_features\u001b[0m=\u001b[1;36m768\u001b[0m, \u001b[33mout_features\u001b[0m=\u001b[1;36m3072\u001b[0m, \u001b[33mbias\u001b[0m=\u001b[3;92mTrue\u001b[0m\u001b[1m)\u001b[0m\n",
              "          \u001b[1m(\u001b[0m\u001b[1;36m1\u001b[0m\u001b[1m)\u001b[0m: \u001b[1;35mGELU\u001b[0m\u001b[1m(\u001b[0m\u001b[33mapproximate\u001b[0m=\u001b[32m'none'\u001b[0m\u001b[1m)\u001b[0m\n",
              "          \u001b[1m(\u001b[0m\u001b[1;36m2\u001b[0m\u001b[1m)\u001b[0m: \u001b[1;35mLinear\u001b[0m\u001b[1m(\u001b[0m\u001b[33min_features\u001b[0m=\u001b[1;36m3072\u001b[0m, \u001b[33mout_features\u001b[0m=\u001b[1;36m768\u001b[0m, \u001b[33mbias\u001b[0m=\u001b[3;92mTrue\u001b[0m\u001b[1m)\u001b[0m\n",
              "          \u001b[1m(\u001b[0m\u001b[1;36m3\u001b[0m\u001b[1m)\u001b[0m: \u001b[1;35mDropout\u001b[0m\u001b[1m(\u001b[0m\u001b[33mp\u001b[0m=\u001b[1;36m0\u001b[0m\u001b[1;36m.2\u001b[0m, \u001b[33minplace\u001b[0m=\u001b[3;91mFalse\u001b[0m\u001b[1m)\u001b[0m\n",
              "        \u001b[1m)\u001b[0m\n",
              "      \u001b[1m)\u001b[0m\n",
              "      \u001b[1m(\u001b[0mln2\u001b[1m)\u001b[0m: \u001b[1;35mLayerNorm\u001b[0m\u001b[1m(\u001b[0m\u001b[1m(\u001b[0m\u001b[1;36m768\u001b[0m,\u001b[1m)\u001b[0m, \u001b[33meps\u001b[0m=\u001b[1;36m1e\u001b[0m\u001b[1;36m-05\u001b[0m, \u001b[33melementwise_affine\u001b[0m=\u001b[3;92mTrue\u001b[0m\u001b[1m)\u001b[0m\n",
              "    \u001b[1m)\u001b[0m\n",
              "    \u001b[1m(\u001b[0mclassifier\u001b[1m)\u001b[0m: \u001b[1;35mLinear\u001b[0m\u001b[1m(\u001b[0m\u001b[33min_features\u001b[0m=\u001b[1;36m393216\u001b[0m, \u001b[33mout_features\u001b[0m=\u001b[1;36m20\u001b[0m, \u001b[33mbias\u001b[0m=\u001b[3;92mTrue\u001b[0m\u001b[1m)\u001b[0m\n",
              "  \u001b[1m)\u001b[0m\n",
              "\u001b[1m)\u001b[0m"
            ]
          },
          "metadata": {},
          "execution_count": 54
        }
      ]
    },
    {
      "cell_type": "code",
      "source": [
        "trainer.test(model, test_loader)"
      ],
      "metadata": {
        "id": "aGUmMsqga1DP",
        "colab": {
          "base_uri": "https://localhost:8080/",
          "height": 199,
          "referenced_widgets": [
            "6f5c5296b0c240518badb28fee75e41c",
            "ca19c92ef27944cb8c4c28db2f82c51d",
            "d888b984a0a74eef8e6fc3a413c89e8a",
            "b849dbf7e9b64787bb2c5f40451b7e41",
            "d0b8b5e45abf4e1cb767e8fef85f1319",
            "f7b082edeaf346b4b50d9bc94935ecd9",
            "5a6ec420a5b24b0dab6b8ab765af57be",
            "a89025448b1f4d6d93ec0fa8e42ef8f9",
            "5e6f4bac0a1f42888e38847f78e43d32",
            "49d05e31d30148c7a5c9357911fc1468",
            "ff96034760784c07b0d9fabfae753047"
          ]
        },
        "outputId": "8e1e6c8a-8fdd-4b14-f6af-86fb7b6c4675"
      },
      "execution_count": null,
      "outputs": [
        {
          "output_type": "stream",
          "name": "stderr",
          "text": [
            "INFO: LOCAL_RANK: 0 - CUDA_VISIBLE_DEVICES: [0]\n",
            "INFO:lightning.pytorch.accelerators.cuda:LOCAL_RANK: 0 - CUDA_VISIBLE_DEVICES: [0]\n"
          ]
        },
        {
          "output_type": "display_data",
          "data": {
            "text/plain": [
              "Testing: |          | 0/? [00:00<?, ?it/s]"
            ],
            "application/vnd.jupyter.widget-view+json": {
              "version_major": 2,
              "version_minor": 0,
              "model_id": "6f5c5296b0c240518badb28fee75e41c"
            }
          },
          "metadata": {}
        },
        {
          "output_type": "display_data",
          "data": {
            "text/plain": [
              "┏━━━━━━━━━━━━━━━━━━━━━━━━━━━┳━━━━━━━━━━━━━━━━━━━━━━━━━━━┓\n",
              "┃\u001b[1m \u001b[0m\u001b[1m       Test metric       \u001b[0m\u001b[1m \u001b[0m┃\u001b[1m \u001b[0m\u001b[1m      DataLoader 0       \u001b[0m\u001b[1m \u001b[0m┃\n",
              "┡━━━━━━━━━━━━━━━━━━━━━━━━━━━╇━━━━━━━━━━━━━━━━━━━━━━━━━━━┩\n",
              "│\u001b[36m \u001b[0m\u001b[36m     test_acc_epoch      \u001b[0m\u001b[36m \u001b[0m│\u001b[35m \u001b[0m\u001b[35m    0.777615487575531    \u001b[0m\u001b[35m \u001b[0m│\n",
              "│\u001b[36m \u001b[0m\u001b[36m     test_loss_epoch     \u001b[0m\u001b[36m \u001b[0m│\u001b[35m \u001b[0m\u001b[35m   0.9676218032836914    \u001b[0m\u001b[35m \u001b[0m│\n",
              "└───────────────────────────┴───────────────────────────┘\n"
            ],
            "text/html": [
              "<pre style=\"white-space:pre;overflow-x:auto;line-height:normal;font-family:Menlo,'DejaVu Sans Mono',consolas,'Courier New',monospace\">┏━━━━━━━━━━━━━━━━━━━━━━━━━━━┳━━━━━━━━━━━━━━━━━━━━━━━━━━━┓\n",
              "┃<span style=\"font-weight: bold\">        Test metric        </span>┃<span style=\"font-weight: bold\">       DataLoader 0        </span>┃\n",
              "┡━━━━━━━━━━━━━━━━━━━━━━━━━━━╇━━━━━━━━━━━━━━━━━━━━━━━━━━━┩\n",
              "│<span style=\"color: #008080; text-decoration-color: #008080\">      test_acc_epoch       </span>│<span style=\"color: #800080; text-decoration-color: #800080\">     0.777615487575531     </span>│\n",
              "│<span style=\"color: #008080; text-decoration-color: #008080\">      test_loss_epoch      </span>│<span style=\"color: #800080; text-decoration-color: #800080\">    0.9676218032836914     </span>│\n",
              "└───────────────────────────┴───────────────────────────┘\n",
              "</pre>\n"
            ]
          },
          "metadata": {}
        },
        {
          "output_type": "display_data",
          "data": {
            "text/plain": [],
            "text/html": [
              "<pre style=\"white-space:pre;overflow-x:auto;line-height:normal;font-family:Menlo,'DejaVu Sans Mono',consolas,'Courier New',monospace\"></pre>\n"
            ]
          },
          "metadata": {}
        },
        {
          "output_type": "execute_result",
          "data": {
            "text/plain": [
              "\u001b[1m[\u001b[0m\u001b[1m{\u001b[0m\u001b[32m'test_loss_epoch'\u001b[0m: \u001b[1;36m0.9676218032836914\u001b[0m, \u001b[32m'test_acc_epoch'\u001b[0m: \u001b[1;36m0.777615487575531\u001b[0m\u001b[1m}\u001b[0m\u001b[1m]\u001b[0m"
            ]
          },
          "metadata": {},
          "execution_count": 55
        }
      ]
    },
    {
      "cell_type": "markdown",
      "source": [
        "- Test Accuracy (test_acc_epoch):The test accuracy metric (test_acc_epoch) is 0.777615487575531, meaning the model correctly classified approximately 77.76% of the documents in the test dataset. This accuracy reflects the model's ability to distinguish between the 20 different newsgroups categories, capturing the nuanced differences in text across various topics.\n",
        "- Test Loss (test_loss_epoch): The test loss metric (test_loss_epoch) is 0.9676218032836914. This value represents the average discrepancy between the predicted labels and the actual labels. A lower loss indicates that the model's predictions are close to the true categories. In this context, the loss suggests there is still some room for improvement in the model's ability to capture the specific characteristics of each newsgroup.\n",
        "\n",
        "**Interpretation of the Results** \\\n",
        "The results show a test accuracy of approximately 77.76% and a test loss of 0.97. These metrics are indicative of the model's performance in classifying documents from the 20 Newsgroups dataset:\n",
        "•\tTest Accuracy: Achieving a test accuracy of 77.76% indicates that the model is quite effective at categorizing documents into the correct newsgroup. Given the diversity and complexity of the 20 Newsgroups dataset, which includes various topics like science, politics, and sports, this level of accuracy demonstrates that the model has learned significant patterns and contextual cues to differentiate between categories. However, there is still a portion of documents that are misclassified, suggesting areas for further improvement.\n",
        "•\tTest Loss: The test loss of 0.97 indicates that, on average, there is a reasonable amount of error in the model's predictions. This loss value shows that while the model is fairly accurate, it does not perfectly capture all the nuances required to classify every document correctly. Reducing this loss could involve more sophisticated text preprocessing, additional training epochs, or fine-tuning the model's hyperparameters.\n",
        "\n",
        "\n",
        "**Overall Summary** \\\n",
        "The performance metrics, with a test accuracy of 77.76% and a test loss of 0.97, highlight that the TransformerClassifier model is effective at classifying the diverse and complex documents within the 20 Newsgroups dataset. The accuracy suggests that the model can correctly identify the category for the majority of documents, demonstrating a good understanding of the text's context. However, the loss value indicates there is still potential to enhance the model's precision, possibly through further training and optimization. This solid performance serves as a strong foundation for further refinements aimed at achieving even better classification accuracy on this challenging dataset.\n"
      ],
      "metadata": {
        "id": "KGmJTzt2TJ0c"
      }
    },
    {
      "cell_type": "code",
      "source": [
        "X, y = next(iter(test_loader))"
      ],
      "metadata": {
        "id": "IkKSqJc6a1Ap"
      },
      "execution_count": null,
      "outputs": []
    },
    {
      "cell_type": "code",
      "source": [
        "# logits = model(X[\"input_ids\"][1].to(device), X[\"attention_mask\"][1].to(device))\n",
        "\n",
        "# print(tokenizer.decode(X[\"input_ids\"][1][0], skip_special_tokens=True))\n",
        "# print(f\"Actual Label: {y[1]}\")\n",
        "# print(f\"Predicted Label: {logits.argmax(1).item()}\")"
      ],
      "metadata": {
        "id": "ZSL4Fc73a094"
      },
      "execution_count": null,
      "outputs": []
    },
    {
      "cell_type": "markdown",
      "source": [
        "## Conclusion\n",
        "Project Conclusions:\n",
        "•\tI successfully implemented and fine-tuned a transformer model for multi-class text classification by leveraging a pre-trained GPT-2 model and adding custom transformer blocks with multi-head attention and feedforward layers. Using PyTorch Lightning, I managed efficient training, validation, and evaluation processes.\n",
        "\n",
        "\n",
        "•\tThe model achieved a reasonable test accuracy of 77.76% and a test loss of 0.97 on the 20 Newsgroups dataset, as shown in the testing results image, demonstrating the model's effective categorization of diverse documents and proving the success of the implementation and fine-tuning efforts.\n",
        "\n",
        "\n",
        "•\tComarison: The achieved test accuracy of 77.76% for the transformer model on the 20 Newsgroups dataset demonstrates strong performance, particularly when considering the complexity of the dataset. Traditional machine learning models like Naive Bayes and Support Vector Machines (SVM) typically achieve around 85-90% accuracy. While our model's accuracy is slightly lower than these traditional benchmarks, it shows significant potential given the advanced capabilities of transformer architectures in capturing long-range dependencies and nuanced patterns in text. This result is competitive and highlights the effectiveness of the transformer model in handling diverse and complex text data, with room for further optimization to match or exceed traditional methods\n",
        "\n",
        "\n",
        "•\tSuccessful implementation of the self-attention mechanism, and a clear explanation of how it works in your model and why it's beneficial for the task.\n"
      ],
      "metadata": {
        "id": "QzQlPYw1Wbmw"
      }
    },
    {
      "cell_type": "code",
      "source": [],
      "metadata": {
        "id": "TCkjKWwyWckT"
      },
      "execution_count": null,
      "outputs": []
    }
  ]
}